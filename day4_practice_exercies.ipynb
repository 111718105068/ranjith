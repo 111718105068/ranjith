{
  "nbformat": 4,
  "nbformat_minor": 0,
  "metadata": {
    "colab": {
      "provenance": [],
      "toc_visible": true,
      "authorship_tag": "ABX9TyPOfxNdcxxmOZdMZ6+yJI7m",
      "include_colab_link": true
    },
    "kernelspec": {
      "name": "python3",
      "display_name": "Python 3"
    },
    "language_info": {
      "name": "python"
    }
  },
  "cells": [
    {
      "cell_type": "markdown",
      "metadata": {
        "id": "view-in-github",
        "colab_type": "text"
      },
      "source": [
        "<a href=\"https://colab.research.google.com/github/111718105068/ranjith/blob/main/day4_practice_exercies.ipynb\" target=\"_parent\"><img src=\"https://colab.research.google.com/assets/colab-badge.svg\" alt=\"Open In Colab\"/></a>"
      ]
    },
    {
      "cell_type": "markdown",
      "source": [
        "# Exceptions and Command-Line Arguments"
      ],
      "metadata": {
        "id": "MAQRR51yApno"
      }
    },
    {
      "cell_type": "markdown",
      "source": [
        "# 1. Write a python program with Exception handling to input marks for five subjects Physics, Chemistry, Biology, Mathematics, and Computer. Calculate the percentage and grade according to the following:\n",
        "\n",
        "i)Percentage >90%: Grade A\n",
        "\n",
        "ii)Percentage >= 80%: Grade B\n",
        "\n",
        "iii)Percentage > 70%: Grade C\n",
        "\n",
        "iv) Percentage >= 60%: Grade D\n",
        "\n",
        "v) Percentage >= 40% : Grade E\n",
        "\n",
        "vi) Percentage < 40%: Grade F"
      ],
      "metadata": {
        "id": "BQeqM5VxA6uN"
      }
    },
    {
      "cell_type": "code",
      "execution_count": null,
      "metadata": {
        "colab": {
          "base_uri": "https://localhost:8080/"
        },
        "id": "yLFrzmGL939G",
        "outputId": "e8c76c4e-1cd1-4f45-efa9-5808052bf021"
      },
      "outputs": [
        {
          "output_type": "stream",
          "name": "stdout",
          "text": [
            "Enter Physics marks: 90\n",
            "Enter Chemistry marks: 90\n",
            "Enter Biology marks: 90\n",
            "Enter Mathematics marks: 98\n",
            "Enter Computer marks: 98\n",
            "Percentage: 93.2%\n",
            "Grade: A\n"
          ]
        }
      ],
      "source": [
        "try:\n",
        "    physics = float(input(\"Enter Physics marks: \"))\n",
        "    chemistry = float(input(\"Enter Chemistry marks: \"))\n",
        "    biology = float(input(\"Enter Biology marks: \"))\n",
        "    mathematics = float(input(\"Enter Mathematics marks: \"))\n",
        "    computer = float(input(\"Enter Computer marks: \"))\n",
        "\n",
        "    total_marks = physics + chemistry + biology + mathematics + computer\n",
        "    percentage = (total_marks / 500) * 100\n",
        "\n",
        "    if percentage > 90:\n",
        "        grade = 'A'\n",
        "    elif percentage >= 80:\n",
        "        grade = 'B'\n",
        "    elif percentage > 70:\n",
        "        grade = 'C'\n",
        "    elif percentage >= 60:\n",
        "        grade = 'D'\n",
        "    elif percentage >= 40:\n",
        "        grade = 'E'\n",
        "    else:\n",
        "        grade = 'F'\n",
        "\n",
        "    print(f\"Percentage: {percentage}%\")\n",
        "    print(f\"Grade: {grade}\")\n",
        "\n",
        "except ValueError:\n",
        "    print(\"Invalid input. Please enter numerical values for marks.\")\n"
      ]
    },
    {
      "cell_type": "markdown",
      "source": [],
      "metadata": {
        "id": "uBKTO_y5BmHo"
      }
    },
    {
      "cell_type": "markdown",
      "source": [
        "\n",
        "# 2. Write a python program with Exception handling to input electricity unit charges and calculate the total electricity bill according to the given condition:\n",
        "\n",
        "i) For the first 50 units Rs. 0.50/unit\n",
        "\n",
        "ii) For the next 100 units Rs. 0.75/unit\n",
        "\n",
        "For the next 100 units Rs. 1.20/unit\n",
        "\n",
        "iv) For units above 250 Rs. 1.50/unit\n",
        "\n",
        "v) An additional surcharge of 20% is added to the bill."
      ],
      "metadata": {
        "id": "V8upZuqMByKX"
      }
    },
    {
      "cell_type": "code",
      "source": [
        "try:\n",
        "    units = float(input(\"Enter electricity units: \"))\n",
        "    if units <= 50:\n",
        "        bill = units * 0.50\n",
        "    elif units <= 150:\n",
        "        bill = 50 * 0.50 + (units - 50) * 0.75\n",
        "    elif units <= 250:\n",
        "        bill = 50 * 0.50 + 100 * 0.75 + (units - 150) * 1.20\n",
        "    else:\n",
        "        bill = 50 * 0.50 + 100 * 0.75 + 100 * 1.20 + (units - 250) * 1.50\n",
        "\n",
        "    total_bill = bill + (bill * 0.20)  # Adding 20% surcharge\n",
        "    print(f\"Total Electricity Bill: Rs. {total_bill:.2f}\")\n",
        "\n",
        "except ValueError:\n",
        "    print(\"Invalid input. Please enter a numerical value for units.\")\n"
      ],
      "metadata": {
        "colab": {
          "base_uri": "https://localhost:8080/"
        },
        "id": "EsGkjIrlBr8V",
        "outputId": "aae3f7c0-b033-42bc-acfb-200ff826e206"
      },
      "execution_count": null,
      "outputs": [
        {
          "output_type": "stream",
          "name": "stdout",
          "text": [
            "Enter electricity units: 345\n",
            "Total Electricity Bill: Rs. 435.00\n"
          ]
        }
      ]
    },
    {
      "cell_type": "markdown",
      "source": [
        "# 3. Write a python program with Exception handling to input the week number and print the weekday."
      ],
      "metadata": {
        "id": "VpenoHk9DcDU"
      }
    },
    {
      "cell_type": "code",
      "source": [
        "try:\n",
        "    week_number = int(input(\"Enter the week number: \"))\n",
        "    weekdays = [\"Monday\", \"Tuesday\", \"Wednesday\", \"Thursday\", \"Friday\", \"Saturday\", \"Sunday\"]\n",
        "\n",
        "    if week_number >= 1 and week_number <= 7:\n",
        "        print(f\"Weekday for week {week_number}: {weekdays[week_number - 1]}\")\n",
        "    else:\n",
        "        print(\"Invalid week number. Please enter a number between 1 and 7.\")\n",
        "\n",
        "except ValueError:\n",
        "    print(\"Invalid input. Please enter a numerical value for the week number.\")\n"
      ],
      "metadata": {
        "colab": {
          "base_uri": "https://localhost:8080/"
        },
        "id": "rkTYEUjkDklM",
        "outputId": "3d4ee5ac-474a-49a4-f777-d9bf671f85e2"
      },
      "execution_count": null,
      "outputs": [
        {
          "output_type": "stream",
          "name": "stdout",
          "text": [
            "Enter the week number: 2\n",
            "Weekday for week 2: Tuesday\n"
          ]
        }
      ]
    },
    {
      "cell_type": "markdown",
      "source": [
        "# 4. Write a Python program to implement word count using command line arguments.\n",
        " i) Create a text document \"apple.txt\" whch contains text for wordcount.\n",
        "\n",
        "ii) Create a wordcount program which calls the \"apple.txt\" document by opening the file.\n",
        "\n",
        "iii)If the word is present again in the \"aaple.txt\",the wordcount is incremented by I until all the words are counted in the document.\n",
        "\n",
        "iv) Close the file.\n",
        "\n",
        "v) Create a command.py program which imports the wordcount.py program.\n",
        "\n",
        "vi) Count the number of words using command line arguments.\n",
        "\n",
        "vii) Print each word and its count"
      ],
      "metadata": {
        "id": "_Wa89KdHCKIe"
      }
    },
    {
      "cell_type": "code",
      "source": [
        "import sys\n",
        "\n",
        "if len(sys.argv) != 2:\n",
        "    print(\"Usage: python wordcount.py <file_path>\")\n",
        "    sys.exit(1)\n",
        "\n",
        "file_path = sys.argv[1]\n",
        "\n",
        "try:\n",
        "    with open(file_path, 'r') as file:\n",
        "        word_count = {}\n",
        "        for line in file:\n",
        "            words = line.split()\n",
        "            for word in words:\n",
        "                word_count[word] = word_count.get(word, 0) + 1\n",
        "\n",
        "    for word, count in word_count.items():\n",
        "        print(f\"{word}: {count}\")\n",
        "\n",
        "except FileNotFoundError:\n",
        "    print(f\"File '{file_path}' not found.\")\n",
        "except Exception as e:\n",
        "    print(f\"An error occurred: {e}\")\n"
      ],
      "metadata": {
        "colab": {
          "base_uri": "https://localhost:8080/",
          "height": 141
        },
        "id": "-EgGERkKCqXu",
        "outputId": "8b2de4ce-bc85-4b7c-c67a-af53133f0a87"
      },
      "execution_count": null,
      "outputs": [
        {
          "output_type": "stream",
          "name": "stdout",
          "text": [
            "Usage: python wordcount.py <file_path>\n"
          ]
        },
        {
          "output_type": "error",
          "ename": "SystemExit",
          "evalue": "ignored",
          "traceback": [
            "An exception has occurred, use %tb to see the full traceback.\n",
            "\u001b[0;31mSystemExit\u001b[0m\u001b[0;31m:\u001b[0m 1\n"
          ]
        }
      ]
    },
    {
      "cell_type": "markdown",
      "source": [
        "# **5. Write a Python program for finding the most frequent words in a text read from a file. **\n",
        " i) Initially open the text file in read mode.\n",
        "\n",
        "ii) Make all the letters in the document into lowercase letters and split the words in each line.\n",
        "\n",
        "iii) Get the words in an order.\n",
        "\n",
        "iv) Sort the words for finding the most frequent words in the file.\n",
        "v)Print the most frequent words in the file"
      ],
      "metadata": {
        "id": "V3pnlaf8dfVj"
      }
    },
    {
      "cell_type": "code",
      "source": [
        "with open('source.txt', 'r') as file:\n",
        "    text = file.read()\n",
        "words = text.lower().split()\n",
        "word_freq = {}\n",
        "\n",
        "for word in words:\n",
        "    if word in word_freq:\n",
        "        word_freq[word] += 1\n",
        "    else:\n",
        "        word_freq[word] = 1\n",
        "\n",
        "sorted_words = sorted(word_freq.items(), key=lambda x: x[1], reverse=True)\n",
        "print(\"Most frequent words in the file:\")\n",
        "for word, freq in sorted_words[:10]:\n",
        "    print(f\"{word}: {freq} times\")"
      ],
      "metadata": {
        "colab": {
          "base_uri": "https://localhost:8080/"
        },
        "id": "CnzhwjLYd3xX",
        "outputId": "216fe63f-99a5-4045-b439-3983e0c183eb"
      },
      "execution_count": null,
      "outputs": [
        {
          "output_type": "stream",
          "name": "stdout",
          "text": [
            "Most frequent words in the file:\n",
            "ergerg: 1 times\n",
            "jdfjk: 1 times\n",
            "dakjfnsdekj: 1 times\n",
            "cepojfes: 1 times\n",
            "dnsc: 1 times\n",
            "sdkjc: 1 times\n",
            "dsjkc: 1 times\n"
          ]
        }
      ]
    },
    {
      "cell_type": "markdown",
      "source": [
        "# 6. File Processing with Command-Line Arguments- Scenario: You are developing a command-line utility that processes text files. Users can specify input and output file paths as command-line arguments. Your program should handle exceptions gracefully.\n",
        "\n",
        "i. Design a Python program that takes two command-line arguments: the input file path and the output file path. Ensure that the program checks if both arguments are provided and that the input file exists.\n",
        "\n",
        "Implement error handling to deal with scenarios such as missing input files, invalid file paths, or permission issues when writing to the output file.\n",
        "\n",
        "iii. If an error occurs during file processing, display a user-friendly error message, and exit the program with a non-zero exit code.\n",
        "\n",
        "iv. Write test cases that cover various scenarios, including providing valid and invalid file paths as command-line arguments."
      ],
      "metadata": {
        "id": "xR0mCCpfhdvI"
      }
    },
    {
      "cell_type": "code",
      "source": [
        "import sys\n",
        "\n",
        "if len(sys.argv) != 3:\n",
        "    print(\"Usage: python file_processor.py <input_file_path> <output_file_path>\")\n",
        "    sys.exit(1)\n",
        "\n",
        "input_file_path = sys.argv[1]\n",
        "output_file_path = sys.argv[2]\n",
        "\n",
        "try:\n",
        "    with open(input_file_path, 'r') as input_file, open(output_file_path, 'w') as output_file:\n",
        "        # Perform your file processing here\n",
        "        for line in input_file:\n",
        "            # Process each line and write to output_file\n",
        "            output_file.write(line)\n",
        "\n",
        "    print(\"File processing completed successfully.\")\n",
        "\n",
        "except FileNotFoundError:\n",
        "    print(f\"Input file '{input_file_path}' not found.\")\n",
        "except PermissionError:\n",
        "    print(f\"Permission denied for output file '{output_file_path}'.\")\n",
        "except Exception as e:\n",
        "    print(f\"An error occurred: {e}\")\n",
        "    sys.exit(1)\n"
      ],
      "metadata": {
        "colab": {
          "base_uri": "https://localhost:8080/"
        },
        "id": "mDj-CVZqhjPy",
        "outputId": "56a28b83-fd40-4ff6-9130-dee1e15e1140"
      },
      "execution_count": null,
      "outputs": [
        {
          "output_type": "stream",
          "name": "stdout",
          "text": [
            "Input file '-f' not found.\n"
          ]
        }
      ]
    }
  ]
}