{
  "nbformat": 4,
  "nbformat_minor": 0,
  "metadata": {
    "colab": {
      "provenance": [],
      "authorship_tag": "ABX9TyPSBF5moPhnnyxkkJYrydCj",
      "include_colab_link": true
    },
    "kernelspec": {
      "name": "python3",
      "display_name": "Python 3"
    },
    "language_info": {
      "name": "python"
    }
  },
  "cells": [
    {
      "cell_type": "markdown",
      "metadata": {
        "id": "view-in-github",
        "colab_type": "text"
      },
      "source": [
        "<a href=\"https://colab.research.google.com/github/111718105068/ranjith/blob/main/Machine_learning_with_python_Day5.ipynb\" target=\"_parent\"><img src=\"https://colab.research.google.com/assets/colab-badge.svg\" alt=\"Open In Colab\"/></a>"
      ]
    },
    {
      "cell_type": "code",
      "execution_count": 1,
      "metadata": {
        "colab": {
          "base_uri": "https://localhost:8080/"
        },
        "id": "SvP9EEzuEpWF",
        "outputId": "055d0e48-bc8f-44df-e10b-18ae5289faa8"
      },
      "outputs": [
        {
          "output_type": "stream",
          "name": "stdout",
          "text": [
            "   Store        Date  Temperature  Fuel_Price  MarkDown1  MarkDown2  \\\n",
            "0      1  05/02/2010        42.31       2.572        NaN        NaN   \n",
            "1      1  12/02/2010        38.51       2.548        NaN        NaN   \n",
            "2      1  19/02/2010        39.93       2.514        NaN        NaN   \n",
            "3      1  26/02/2010        46.63       2.561        NaN        NaN   \n",
            "4      1  05/03/2010        46.50       2.625        NaN        NaN   \n",
            "\n",
            "   MarkDown3  MarkDown4  MarkDown5         CPI  Unemployment  IsHoliday  \n",
            "0        NaN        NaN        NaN  211.096358         8.106      False  \n",
            "1        NaN        NaN        NaN  211.242170         8.106       True  \n",
            "2        NaN        NaN        NaN  211.289143         8.106      False  \n",
            "3        NaN        NaN        NaN  211.319643         8.106      False  \n",
            "4        NaN        NaN        NaN  211.350143         8.106      False  \n",
            "<class 'pandas.core.frame.DataFrame'>\n",
            "RangeIndex: 8190 entries, 0 to 8189\n",
            "Data columns (total 12 columns):\n",
            " #   Column        Non-Null Count  Dtype  \n",
            "---  ------        --------------  -----  \n",
            " 0   Store         8190 non-null   int64  \n",
            " 1   Date          8190 non-null   object \n",
            " 2   Temperature   8190 non-null   float64\n",
            " 3   Fuel_Price    8190 non-null   float64\n",
            " 4   MarkDown1     4032 non-null   float64\n",
            " 5   MarkDown2     2921 non-null   float64\n",
            " 6   MarkDown3     3613 non-null   float64\n",
            " 7   MarkDown4     3464 non-null   float64\n",
            " 8   MarkDown5     4050 non-null   float64\n",
            " 9   CPI           7605 non-null   float64\n",
            " 10  Unemployment  7605 non-null   float64\n",
            " 11  IsHoliday     8190 non-null   bool   \n",
            "dtypes: bool(1), float64(9), int64(1), object(1)\n",
            "memory usage: 712.0+ KB\n",
            "None\n",
            "             Store  Temperature   Fuel_Price      MarkDown1      MarkDown2  \\\n",
            "count  8190.000000  8190.000000  8190.000000    4032.000000    2921.000000   \n",
            "mean     23.000000    59.356198     3.405992    7032.371786    3384.176594   \n",
            "std      12.987966    18.678607     0.431337    9262.747448    8793.583016   \n",
            "min       1.000000    -7.290000     2.472000   -2781.450000    -265.760000   \n",
            "25%      12.000000    45.902500     3.041000    1577.532500      68.880000   \n",
            "50%      23.000000    60.710000     3.513000    4743.580000     364.570000   \n",
            "75%      34.000000    73.880000     3.743000    8923.310000    2153.350000   \n",
            "max      45.000000   101.950000     4.468000  103184.980000  104519.540000   \n",
            "\n",
            "           MarkDown3     MarkDown4      MarkDown5          CPI  Unemployment  \n",
            "count    3613.000000   3464.000000    4050.000000  7605.000000   7605.000000  \n",
            "mean     1760.100180   3292.935886    4132.216422   172.460809      7.826821  \n",
            "std     11276.462208   6792.329861   13086.690278    39.738346      1.877259  \n",
            "min      -179.260000      0.220000    -185.170000   126.064000      3.684000  \n",
            "25%         6.600000    304.687500    1440.827500   132.364839      6.634000  \n",
            "50%        36.260000   1176.425000    2727.135000   182.764003      7.806000  \n",
            "75%       163.150000   3310.007500    4832.555000   213.932412      8.567000  \n",
            "max    149483.310000  67474.850000  771448.100000   228.976456     14.313000  \n"
          ]
        }
      ],
      "source": [
        "import pandas as pd\n",
        "\n",
        "# Load the dataset\n",
        "df = pd.read_csv('retail_dataset.csv')\n",
        "\n",
        "# Explore the dataset\n",
        "print(df.head())  # View the first few rows\n",
        "print(df.info())  # Data types and non-null values\n",
        "print(df.describe())  # Summary statistics\n"
      ]
    },
    {
      "cell_type": "code",
      "source": [
        "from sklearn.tree import DecisionTreeClassifier\n",
        "from sklearn.model_selection import train_test_split\n",
        "from sklearn.metrics import accuracy_score, precision_score, recall_score, f1_score\n",
        "\n",
        "# Define features and target variable\n",
        "X = df.drop(columns=['CustomerSatisfaction'])\n",
        "y = df['CustomerSatisfaction']\n",
        "\n",
        "# Split the data into training and testing sets\n",
        "X_train, X_test, y_train, y_test = train_test_split(X, y, test_size=0.2, random_state=42)\n",
        "\n",
        "# Create and train the decision tree classifier\n",
        "classifier = DecisionTreeClassifier()\n",
        "classifier.fit(X_train, y_train)\n",
        "\n",
        "# Make predictions\n",
        "y_pred = classifier.predict(X_test)\n",
        "\n",
        "# Evaluate the model\n",
        "accuracy = accuracy_score(y_test, y_pred)\n",
        "precision = precision_score(y_test, y_pred)\n",
        "recall = recall_score(y_test, y_pred)\n",
        "f1 = f1_score(y_test, y_pred)\n"
      ],
      "metadata": {
        "id": "pXoVOPlzH_7n"
      },
      "execution_count": null,
      "outputs": []
    },
    {
      "cell_type": "code",
      "source": [
        "from sklearn.tree import DecisionTreeRegressor\n",
        "from sklearn.metrics import mean_squared_error, r2_score\n",
        "\n",
        "# Define features and target variable\n",
        "X = df.drop(columns=['Sales'])\n",
        "y = df['Sales']\n",
        "\n",
        "# Split the data into training and testing sets\n",
        "X_train, X_test, y_train, y_test = train_test_split(X, y, test_size=0.2, random_state=42)\n",
        "\n",
        "# Create and train the decision tree regression model\n",
        "regressor = DecisionTreeRegressor()\n",
        "regressor.fit(X_train, y_train)\n",
        "\n",
        "# Make predictions\n",
        "y_pred = regressor.predict(X_test)\n",
        "\n",
        "# Evaluate the model\n",
        "mse = mean_squared_error(y_test, y_pred)\n",
        "r2 = r2_score(y_test, y_pred)\n"
      ],
      "metadata": {
        "id": "GVjWvtbvJ2bn"
      },
      "execution_count": null,
      "outputs": []
    }
  ]
}