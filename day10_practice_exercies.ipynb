{
  "nbformat": 4,
  "nbformat_minor": 0,
  "metadata": {
    "colab": {
      "provenance": [],
      "authorship_tag": "ABX9TyNf7kpPhBrlBaRCNdrL9ix+",
      "include_colab_link": true
    },
    "kernelspec": {
      "name": "python3",
      "display_name": "Python 3"
    },
    "language_info": {
      "name": "python"
    }
  },
  "cells": [
    {
      "cell_type": "markdown",
      "metadata": {
        "id": "view-in-github",
        "colab_type": "text"
      },
      "source": [
        "<a href=\"https://colab.research.google.com/github/111718105068/ranjith/blob/main/day10_practice_exercies.ipynb\" target=\"_parent\"><img src=\"https://colab.research.google.com/assets/colab-badge.svg\" alt=\"Open In Colab\"/></a>"
      ]
    },
    {
      "cell_type": "markdown",
      "source": [
        "# How many movies are listed in the titles dataframe?"
      ],
      "metadata": {
        "id": "XDeOuhRcSXzU"
      }
    },
    {
      "cell_type": "markdown",
      "source": [],
      "metadata": {
        "id": "P4jdl4DwSXqi"
      }
    },
    {
      "cell_type": "code",
      "source": [
        "import pandas as pd\n",
        "\n",
        "# Read the titles dataframe\n",
        "df = pd.read_csv(\"titles.csv\")\n",
        "\n",
        "# Count the number of rows in the dataframe\n",
        "num_movies = len(df)\n",
        "\n",
        "# Print the number of movies\n",
        "print(num_movies)\n"
      ],
      "metadata": {
        "colab": {
          "base_uri": "https://localhost:8080/"
        },
        "id": "1kcsZC1tJ0eb",
        "outputId": "629b18ac-7d15-4036-fdc6-998d03cab0a2"
      },
      "execution_count": 7,
      "outputs": [
        {
          "output_type": "stream",
          "name": "stdout",
          "text": [
            "244914\n"
          ]
        }
      ]
    },
    {
      "cell_type": "markdown",
      "source": [
        "What are the earliest two films listed in the titles dataframe?"
      ],
      "metadata": {
        "id": "yhOZiRr3SvXN"
      }
    },
    {
      "cell_type": "code",
      "source": [
        "import pandas as pd\n",
        "\n",
        "# Read the titles dataframe\n",
        "df = pd.read_csv(\"titles.csv\")\n",
        "\n",
        "# Sort the dataframe by release date\n",
        "df = df.sort_values(by=['year'], ascending=True)\n",
        "\n",
        "# Print the first two rows of the dataframe\n",
        "print(df.head(2))\n"
      ],
      "metadata": {
        "colab": {
          "base_uri": "https://localhost:8080/"
        },
        "id": "fsQv6p-aSoI3",
        "outputId": "f1b5b613-b525-4373-a0fd-58d75e56c371"
      },
      "execution_count": 8,
      "outputs": [
        {
          "output_type": "stream",
          "name": "stdout",
          "text": [
            "                     title  year\n",
            "193222          Miss Jerry  1894\n",
            "51388   The Startled Lover  1898\n"
          ]
        }
      ]
    },
    {
      "cell_type": "markdown",
      "source": [
        "How many movies have the title \"Hamlet\"?"
      ],
      "metadata": {
        "id": "a9n-Al3ATMQe"
      }
    },
    {
      "cell_type": "code",
      "source": [
        "import pandas as pd\n",
        "\n",
        "# Read the titles dataframe\n",
        "df = pd.read_csv(\"titles.csv\")\n",
        "\n",
        "# Filter the dataframe to only include movies with the title \"Hamlet\"\n",
        "df_filtered = df[df['title'] == \"Hamlet\"]\n",
        "\n",
        "# Count the number of rows in the filtered dataframe\n",
        "num_movies = len(df_filtered)\n",
        "\n",
        "# Print the number of movies\n",
        "print(num_movies)\n"
      ],
      "metadata": {
        "colab": {
          "base_uri": "https://localhost:8080/"
        },
        "id": "ajnLy1MqTWsZ",
        "outputId": "12db4c38-418c-438f-9c21-acd7420cee86"
      },
      "execution_count": 9,
      "outputs": [
        {
          "output_type": "stream",
          "name": "stdout",
          "text": [
            "20\n"
          ]
        }
      ]
    },
    {
      "cell_type": "markdown",
      "source": [
        "How many movies are titled \"North by Northwest\"?\n"
      ],
      "metadata": {
        "id": "aIN6K8MlTx1R"
      }
    },
    {
      "cell_type": "code",
      "source": [
        "import pandas as pd\n",
        "\n",
        "# Read the titles dataframe\n",
        "df = pd.read_csv(\"titles.csv\")\n",
        "\n",
        "# Filter the dataframe to only include movies with the title \"North by Northwest\"\n",
        "df_filtered = df[df['title'] == \"North by Northwest\"]\n",
        "\n",
        "# Count the number of rows in the filtered dataframe\n",
        "num_movies = len(df_filtered)\n",
        "\n",
        "# Print the number of movies\n",
        "print(num_movies)\n"
      ],
      "metadata": {
        "colab": {
          "base_uri": "https://localhost:8080/"
        },
        "id": "d3Ye-ES5T7GZ",
        "outputId": "545c7d10-9558-4c00-fccf-9e4b240b92af"
      },
      "execution_count": 12,
      "outputs": [
        {
          "output_type": "stream",
          "name": "stdout",
          "text": [
            "1\n"
          ]
        }
      ]
    },
    {
      "cell_type": "markdown",
      "source": [
        "# When was the first movie titled \"Hamlet\" made?"
      ],
      "metadata": {
        "id": "kjH22WUCUPa8"
      }
    },
    {
      "cell_type": "code",
      "source": [
        "import pandas as pd\n",
        "\n",
        "# Read the titles dataframe\n",
        "df = pd.read_csv(\"titles.csv\")\n",
        "\n",
        "# Filter the dataframe to only include movies with the title \"Hamlet\"\n",
        "df_filtered = df[df['title'] == \"Hamlet\"]\n",
        "\n",
        "# Sort the filtered dataframe by release date\n",
        "df_filtered = df_filtered.sort_values(by=['year'], ascending=True)\n",
        "\n",
        "# Get the first row of the filtered dataframe\n",
        "first_movie = df_filtered.iloc[0]\n",
        "\n",
        "# Print the release year of the first movie\n",
        "print(first_movie['year'])\n"
      ],
      "metadata": {
        "colab": {
          "base_uri": "https://localhost:8080/"
        },
        "id": "Off14FtsUUzL",
        "outputId": "9b985577-1dd6-458a-8cda-814964113445"
      },
      "execution_count": 13,
      "outputs": [
        {
          "output_type": "stream",
          "name": "stdout",
          "text": [
            "1910\n"
          ]
        }
      ]
    },
    {
      "cell_type": "markdown",
      "source": [
        "# List all of the \"Treasure Island\" movies from earliest to most recent python"
      ],
      "metadata": {
        "id": "X23EY6BCYrDt"
      }
    },
    {
      "cell_type": "code",
      "source": [
        "import pandas as pd\n",
        "\n",
        "# Read the titles dataframe\n",
        "df = pd.read_csv(\"titles.csv\")\n",
        "\n",
        "# Filter the dataframe to only include movies with the title \"Treasure Island\"\n",
        "df_filtered = df[df['title'] == \"Treasure Island\"]\n",
        "\n",
        "# Sort the filtered dataframe by release date\n",
        "df_filtered = df_filtered.sort_values(by=['year'], ascending=True)\n",
        "\n",
        "# Print the title and release year of each movie in the filtered dataframe\n",
        "for index, row in df_filtered.iterrows():\n",
        "    print(f\"{row['title']} ({row['year']})\")\n"
      ],
      "metadata": {
        "colab": {
          "base_uri": "https://localhost:8080/"
        },
        "id": "j2haHClZY7Z8",
        "outputId": "c43125e2-89bb-4816-d69b-2be0390babc8"
      },
      "execution_count": 14,
      "outputs": [
        {
          "output_type": "stream",
          "name": "stdout",
          "text": [
            "Treasure Island (1918)\n",
            "Treasure Island (1920)\n",
            "Treasure Island (1934)\n",
            "Treasure Island (1950)\n",
            "Treasure Island (1972)\n",
            "Treasure Island (1973)\n",
            "Treasure Island (1985)\n",
            "Treasure Island (1999)\n"
          ]
        }
      ]
    },
    {
      "cell_type": "markdown",
      "source": [
        "# How many movies were made in the year 1950?"
      ],
      "metadata": {
        "id": "aBGP75_lZUTf"
      }
    },
    {
      "cell_type": "code",
      "source": [
        "import pandas as pd\n",
        "\n",
        "# Read the titles dataframe\n",
        "df = pd.read_csv(\"titles.csv\")\n",
        "\n",
        "# Filter the dataframe to only include movies made in the year 1950\n",
        "df_filtered = df[df['year'] == 1950]\n",
        "\n",
        "# Count the number of rows in the filtered dataframe\n",
        "num_movies = len(df_filtered)\n",
        "\n",
        "# Print the number of movies\n",
        "print(num_movies)\n"
      ],
      "metadata": {
        "colab": {
          "base_uri": "https://localhost:8080/"
        },
        "id": "MqamoEGRZicE",
        "outputId": "d69ae4a1-dedc-4a9c-9dd8-24048c971ae1"
      },
      "execution_count": 15,
      "outputs": [
        {
          "output_type": "stream",
          "name": "stdout",
          "text": [
            "1113\n"
          ]
        }
      ]
    },
    {
      "cell_type": "markdown",
      "source": [
        "# How many movies were made from 1950 through 1959?\n"
      ],
      "metadata": {
        "id": "qY7qO6LWZubP"
      }
    },
    {
      "cell_type": "code",
      "source": [
        "import pandas as pd\n",
        "\n",
        "# Read the titles dataframe\n",
        "df = pd.read_csv(\"titles.csv\")\n",
        "\n",
        "# Filter the dataframe to only include movies made between 1950 and 1959\n",
        "df_filtered = df[(df['year'] >= 1950) & (df['year'] <= 1959)]\n",
        "\n",
        "# Count the number of rows in the filtered dataframe\n",
        "num_movies = len(df_filtered)\n",
        "\n",
        "# Print the number of movies\n",
        "print(num_movies)\n"
      ],
      "metadata": {
        "colab": {
          "base_uri": "https://localhost:8080/"
        },
        "id": "6hTAF8cWZ8la",
        "outputId": "12e10b0c-4c3b-4c80-d0fe-3c94a78f39f5"
      },
      "execution_count": 16,
      "outputs": [
        {
          "output_type": "stream",
          "name": "stdout",
          "text": [
            "12934\n"
          ]
        }
      ]
    },
    {
      "cell_type": "markdown",
      "source": [
        "# In what years has a movie titled \"Batman\" been released?"
      ],
      "metadata": {
        "id": "PrCZUVeiaO4N"
      }
    },
    {
      "cell_type": "code",
      "source": [
        "import pandas as pd\n",
        "\n",
        "# Read the titles dataframe\n",
        "df = pd.read_csv(\"titles.csv\")\n",
        "\n",
        "# Filter the dataframe to only include movies with the title \"Batman\"\n",
        "df_filtered = df[df['title'] == \"Batman\"]\n",
        "\n",
        "# Get the release year of each movie in the filtered dataframe\n",
        "release_years = df_filtered['year'].to_list()\n",
        "\n",
        "# Print the release years\n",
        "print(release_years)\n"
      ],
      "metadata": {
        "colab": {
          "base_uri": "https://localhost:8080/"
        },
        "id": "Bm8UY_XuaR90",
        "outputId": "8cf85226-261f-4f86-a8f5-be70216b07b5"
      },
      "execution_count": 17,
      "outputs": [
        {
          "output_type": "stream",
          "name": "stdout",
          "text": [
            "[1943, 1989]\n"
          ]
        }
      ]
    },
    {
      "cell_type": "markdown",
      "source": [
        "# How many roles were there in the movie \"Inception\"?\n"
      ],
      "metadata": {
        "id": "kT8R5fgqajBV"
      }
    },
    {
      "cell_type": "code",
      "source": [
        "import pandas as pd\n",
        "\n",
        "# Read the cast dataframe\n",
        "df = pd.read_csv(\"cast.csv\")\n",
        "\n",
        "# Filter the dataframe to only include cast members from the movie \"Inception\"\n",
        "df_filtered = df[df['title'] == \"Inception\"]\n",
        "\n",
        "# Count the number of rows in the filtered dataframe\n",
        "num_roles = len(df_filtered)\n",
        "\n",
        "# Print the number of roles\n",
        "print(num_roles)\n"
      ],
      "metadata": {
        "colab": {
          "base_uri": "https://localhost:8080/"
        },
        "id": "z_jkO1KXaqkT",
        "outputId": "f9d30104-7a49-4743-f8c2-b0cd6e3ecd86"
      },
      "execution_count": 18,
      "outputs": [
        {
          "output_type": "stream",
          "name": "stdout",
          "text": [
            "78\n"
          ]
        }
      ]
    },
    {
      "cell_type": "markdown",
      "source": [
        "# How many roles in the movie \"Inception\" are NOT ranked by an \"n\" value?"
      ],
      "metadata": {
        "id": "S_u8nNvxbQ95"
      }
    },
    {
      "cell_type": "code",
      "source": [
        "import pandas as pd\n",
        "\n",
        "# Read the cast dataframe\n",
        "df = pd.read_csv(\"cast.csv\")\n",
        "\n",
        "# Filter the dataframe to only include cast members from the movie \"Inception\"\n",
        "df_filtered = df[df['title'] == \"Inception\"]\n",
        "\n",
        "# Count the number of roles that are NOT ranked by an \"n\" value\n",
        "num_roles_not_ranked = len(df_filtered[df_filtered['n'].isnull()])\n",
        "\n",
        "# Print the number of roles that are NOT ranked by an \"n\" value\n",
        "print(num_roles_not_ranked)\n"
      ],
      "metadata": {
        "colab": {
          "base_uri": "https://localhost:8080/"
        },
        "id": "kMv7kwUGbzQj",
        "outputId": "d504951f-ae59-4e4f-ec7e-d5df9fc17257"
      },
      "execution_count": 19,
      "outputs": [
        {
          "output_type": "stream",
          "name": "stdout",
          "text": [
            "27\n"
          ]
        }
      ]
    },
    {
      "cell_type": "markdown",
      "source": [
        "# But how many roles in the movie \"Inception\" did receive an \"n\" value?"
      ],
      "metadata": {
        "id": "y_5BKHsLb7zs"
      }
    },
    {
      "cell_type": "code",
      "source": [
        "import pandas as pd\n",
        "\n",
        "# Read the cast dataframe\n",
        "df = pd.read_csv(\"cast.csv\")\n",
        "\n",
        "# Filter the dataframe to only include cast members from the movie \"Inception\"\n",
        "df_filtered = df[df['title'] == \"Inception\"]\n",
        "\n",
        "# Count the number of roles that did receive an \"n\" value\n",
        "num_roles_ranked = len(df_filtered[df_filtered['n'].notnull()])\n",
        "\n",
        "# Print the number of roles that did receive an \"n\" value\n",
        "print(num_roles_ranked)\n"
      ],
      "metadata": {
        "colab": {
          "base_uri": "https://localhost:8080/"
        },
        "id": "bCTxZ85ScR-0",
        "outputId": "7dc924b7-9562-41d0-8aba-07e4fa435c18"
      },
      "execution_count": 20,
      "outputs": [
        {
          "output_type": "stream",
          "name": "stdout",
          "text": [
            "51\n"
          ]
        }
      ]
    },
    {
      "cell_type": "markdown",
      "source": [
        "# Display the cast of \"North by Northwest\" in their correct \"n\"-value order, ignoring roles that did not earn a numeric \"n\" value"
      ],
      "metadata": {
        "id": "1MJoMgexcavM"
      }
    },
    {
      "cell_type": "code",
      "source": [
        "import pandas as pd\n",
        "\n",
        "# Read the cast dataframe\n",
        "df = pd.read_csv(\"cast.csv\")\n",
        "\n",
        "# Filter the dataframe to only include cast members from the movie \"North by Northwest\"\n",
        "df_filtered = df[df['title'] == \"North by Northwest\"]\n",
        "\n",
        "# Filter the dataframe to only include roles that have a numeric \"n\" value\n",
        "df_filtered = df_filtered[df_filtered['n'].notnull()]\n",
        "\n",
        "# Sort the dataframe by the \"n\" value\n",
        "df_filtered = df_filtered.sort_values(by=['n'], ascending=True)\n",
        "\n",
        "# Print the cast of \"North by Northwest\" in their correct \"n\"-value order\n",
        "for index, row in df_filtered.iterrows():\n",
        "    print(f\"{row['name']} ({row['n']})\")\n"
      ],
      "metadata": {
        "colab": {
          "base_uri": "https://localhost:8080/"
        },
        "id": "aMj92Xo4c0WD",
        "outputId": "bece0b1b-efb9-4e88-e689-63cd708f00a0"
      },
      "execution_count": 21,
      "outputs": [
        {
          "output_type": "stream",
          "name": "stdout",
          "text": [
            "Cary Grant (1.0)\n",
            "Eva Marie Saint (2.0)\n",
            "James Mason (3.0)\n",
            "Jessie Royce Landis (4.0)\n",
            "Leo G. Carroll (5.0)\n",
            "Josephine Hutchinson (6.0)\n",
            "Philip Ober (7.0)\n",
            "Martin Landau (8.0)\n",
            "Adam Williams (9.0)\n",
            "Edward Platt (10.0)\n",
            "Robert Ellenstein (11.0)\n",
            "Les Tremayne (12.0)\n",
            "Philip Coolidge (13.0)\n",
            "Patrick McVey (14.0)\n",
            "Edward Binns (15.0)\n",
            "Ken Lynch (16.0)\n"
          ]
        }
      ]
    },
    {
      "cell_type": "code",
      "source": [
        "import pandas as pd\n",
        "\n",
        "# Read the CSV file containing cast information into a Pandas dataframe (if not already done)\n",
        "cast_df = pd.read_csv('cast.csv')\n",
        "\n",
        "# Filter the dataframe to include only the cast of the movie \"Sleuth\" released in 1972\n",
        "sleuth_1972_cast = cast_df[(cast_df['title'] == 'Sleuth') & (cast_df['year'] == 1972)]\n",
        "\n",
        "# Sort the filtered dataframe by the \"n\" values in ascending order\n",
        "sleuth_1972_cast_sorted = sleuth_1972_cast.sort_values(by='n')\n",
        "\n",
        "# Display the entire cast of the 1972 film \"Sleuth\" in \"n\"-value order\n",
        "print(sleuth_1972_cast_sorted[['n', 'name', 'character']])"
      ],
      "metadata": {
        "colab": {
          "base_uri": "https://localhost:8080/"
        },
        "id": "muQKgZbfdd9o",
        "outputId": "76ba8b83-7993-4244-9275-40096b5b59b6"
      },
      "execution_count": 22,
      "outputs": [
        {
          "output_type": "stream",
          "name": "stdout",
          "text": [
            "           n                name                   character\n",
            "1705394  1.0    Laurence Olivier                 Andrew Wyke\n",
            "326773   2.0       Michael Caine                 Milo Tindle\n",
            "373876   3.0      Alec Cawthorne           Inspector Doppler\n",
            "1465483  4.0  John (II) Matthews  Detective Sergeant Tarrant\n",
            "2724553  5.0  Eve (III) Channing             Marguerite Wyke\n",
            "1448690  6.0        Teddy Martin      Police Constable Higgs\n"
          ]
        }
      ]
    },
    {
      "cell_type": "code",
      "source": [
        "import pandas as pd\n",
        "\n",
        "# Read the CSV file containing cast information into a Pandas dataframe (if not already done)\n",
        "cast_df = pd.read_csv('cast.csv')\n",
        "\n",
        "# Filter the dataframe to include only the cast of the 2007 version of the movie \"Sleuth\"\n",
        "sleuth_2007_cast = cast_df[(cast_df['title'] == 'Sleuth') & (cast_df['year'] == 2007)]\n",
        "\n",
        "# Sort the filtered dataframe by the \"n\" values in ascending order\n",
        "sleuth_2007_cast_sorted = sleuth_2007_cast.sort_values(by='n')\n",
        "\n",
        "# Display the entire cast of the 2007 version of \"Sleuth\" in \"n\"-value order\n",
        "print(sleuth_2007_cast_sorted[['n', 'name', 'character']])"
      ],
      "metadata": {
        "colab": {
          "base_uri": "https://localhost:8080/"
        },
        "id": "j9qfQgVDsZ0N",
        "outputId": "5c2129d8-68cb-4ebc-84ee-f85240558c99"
      },
      "execution_count": 23,
      "outputs": [
        {
          "output_type": "stream",
          "name": "stdout",
          "text": [
            "           n                 name          character\n",
            "326774   1.0        Michael Caine             Andrew\n",
            "1293634  2.0             Jude Law               Milo\n",
            "1805907  3.0        Harold Pinter        Man on T.V.\n",
            "260242   NaN      Kenneth Branagh  Other Man on T.V.\n",
            "373877   NaN  Alec (II) Cawthorne  Inspector Doppler\n",
            "2724552  NaN    Eve (II) Channing    Marguerite Wyke\n",
            "3370424  NaN    Carmel O'Sullivan             Maggie\n"
          ]
        }
      ]
    },
    {
      "cell_type": "code",
      "source": [
        "import pandas as pd\n",
        "\n",
        "# Read the CSV file containing cast information into a Pandas dataframe (if not already done)\n",
        "cast_df = pd.read_csv('cast.csv')\n",
        "\n",
        "# Filter the dataframe to include only the cast of the silent 1921 version of \"Hamlet\"\n",
        "hamlet_1921_cast = cast_df[(cast_df['title'] == 'Hamlet') & (cast_df['year'] == 1921)]\n",
        "\n",
        "# Count the number of credited roles in the silent 1921 version of \"Hamlet\"\n",
        "num_roles_hamlet_1921 = len(hamlet_1921_cast)\n",
        "\n",
        "print(\"Number of credited roles in the silent 1921 version of 'Hamlet':\", num_roles_hamlet_1921)\n"
      ],
      "metadata": {
        "colab": {
          "base_uri": "https://localhost:8080/"
        },
        "id": "lI3ItmLtshMI",
        "outputId": "7232aab7-c832-4f1b-d93a-65bf213aa4a8"
      },
      "execution_count": 24,
      "outputs": [
        {
          "output_type": "stream",
          "name": "stdout",
          "text": [
            "Number of credited roles in the silent 1921 version of 'Hamlet': 9\n"
          ]
        }
      ]
    },
    {
      "cell_type": "code",
      "source": [
        "import pandas as pd\n",
        "\n",
        "# Read the CSV file containing cast information into a Pandas dataframe (if not already done)\n",
        "cast_df = pd.read_csv('cast.csv')\n",
        "\n",
        "# Filter the dataframe to include only the cast of Kenneth Branagh's 1996 version of \"Hamlet\"\n",
        "branagh_hamlet_cast = cast_df[(cast_df['title'] == 'Hamlet') & (cast_df['year'] == 1996)]\n",
        "\n",
        "# Count the number of credited roles in Branagh's 1996 version of \"Hamlet\"\n",
        "num_roles_branagh_hamlet = len(branagh_hamlet_cast)\n",
        "\n",
        "print(\"Number of credited roles in Branagh's 1996 'Hamlet':\", num_roles_branagh_hamlet)\n"
      ],
      "metadata": {
        "colab": {
          "base_uri": "https://localhost:8080/"
        },
        "id": "sVevdGlasmy7",
        "outputId": "adc6f0e4-cf89-4e24-cb93-c73bc07354a2"
      },
      "execution_count": 25,
      "outputs": [
        {
          "output_type": "stream",
          "name": "stdout",
          "text": [
            "Number of credited roles in Branagh's 1996 'Hamlet': 54\n"
          ]
        }
      ]
    },
    {
      "cell_type": "code",
      "source": [
        "import pandas as pd\n",
        "\n",
        "# Read the CSV file containing cast information into a Pandas dataframe (if not already done)\n",
        "cast_df = pd.read_csv('cast.csv')\n",
        "\n",
        "# Filter the dataframe to include only the cast of all versions of \"Hamlet\"\n",
        "hamlet_roles = cast_df[cast_df['title'] == 'Hamlet']\n",
        "\n",
        "# Count the number of \"Hamlet\" roles in all film credits through history\n",
        "num_hamlet_roles = len(hamlet_roles)\n",
        "\n",
        "print(\"Number of 'Hamlet' roles listed in all film credits through history:\", num_hamlet_roles)\n"
      ],
      "metadata": {
        "colab": {
          "base_uri": "https://localhost:8080/"
        },
        "id": "jRQax3Llsqyf",
        "outputId": "c9a02a2b-aabe-46a6-f012-1e88043c13e0"
      },
      "execution_count": 26,
      "outputs": [
        {
          "output_type": "stream",
          "name": "stdout",
          "text": [
            "Number of 'Hamlet' roles listed in all film credits through history: 342\n"
          ]
        }
      ]
    },
    {
      "cell_type": "code",
      "source": [
        "import pandas as pd\n",
        "\n",
        "# Read the CSV file containing cast information into a Pandas dataframe (if not already done)\n",
        "cast_df = pd.read_csv('cast.csv')\n",
        "\n",
        "# Filter the dataframe to include only actors who played the role of \"Ophelia\"\n",
        "ophelia_actors = cast_df[cast_df['character'] == 'Ophelia']\n",
        "\n",
        "# Count the number of people who have played the role of \"Ophelia\"\n",
        "num_ophelia_actors = len(ophelia_actors['name'].unique())\n",
        "\n",
        "print(\"Number of people who have played the role of 'Ophelia':\", num_ophelia_actors)\n"
      ],
      "metadata": {
        "colab": {
          "base_uri": "https://localhost:8080/"
        },
        "id": "2QARXBkzsvDM",
        "outputId": "d50d416e-a953-44d8-cd11-6d9b38dda7d3"
      },
      "execution_count": 27,
      "outputs": [
        {
          "output_type": "stream",
          "name": "stdout",
          "text": [
            "Number of people who have played the role of 'Ophelia': 115\n"
          ]
        }
      ]
    },
    {
      "cell_type": "code",
      "source": [
        "import pandas as pd\n",
        "\n",
        "# Read the CSV file containing cast information into a Pandas dataframe (if not already done)\n",
        "cast_df = pd.read_csv('cast.csv')\n",
        "\n",
        "# Filter the dataframe to include only actors who played a role called \"The Dude\"\n",
        "the_dude_actors = cast_df[cast_df['character'] == 'The Dude']\n",
        "\n",
        "# Count the number of people who have played a role called \"The Dude\"\n",
        "num_the_dude_actors = len(the_dude_actors['name'].unique())\n",
        "\n",
        "print(\"Number of people who have played a role called 'The Dude':\", num_the_dude_actors)\n"
      ],
      "metadata": {
        "colab": {
          "base_uri": "https://localhost:8080/"
        },
        "id": "Zc9jjt7YsyLD",
        "outputId": "8d38de77-37c5-40bd-eec6-55998d7b79c5"
      },
      "execution_count": 28,
      "outputs": [
        {
          "output_type": "stream",
          "name": "stdout",
          "text": [
            "Number of people who have played a role called 'The Dude': 19\n"
          ]
        }
      ]
    },
    {
      "cell_type": "code",
      "source": [
        "import pandas as pd\n",
        "\n",
        "# Read the CSV file containing cast information into a Pandas dataframe (if not already done)\n",
        "cast_df = pd.read_csv('cast.csv')\n",
        "\n",
        "# Filter the dataframe to include only actors who played a role called \"The Stranger\"\n",
        "the_stranger_actors = cast_df[cast_df['character'] == 'The Stranger']\n",
        "\n",
        "# Count the number of people who have played a role called \"The Stranger\"\n",
        "num_the_stranger_actors = len(the_stranger_actors['name'].unique())\n",
        "\n",
        "print(\"Number of people who have played a role called 'The Stranger':\", num_the_stranger_actors)\n"
      ],
      "metadata": {
        "colab": {
          "base_uri": "https://localhost:8080/"
        },
        "id": "wzAg3N29s1sD",
        "outputId": "66cc43ec-f1b8-4354-d6bd-baf7803fe0cb"
      },
      "execution_count": 29,
      "outputs": [
        {
          "output_type": "stream",
          "name": "stdout",
          "text": [
            "Number of people who have played a role called 'The Stranger': 202\n"
          ]
        }
      ]
    },
    {
      "cell_type": "code",
      "source": [
        "import pandas as pd\n",
        "\n",
        "# Read the CSV file containing cast information into a Pandas dataframe (if not already done)\n",
        "cast_df = pd.read_csv('cast.csv')\n",
        "\n",
        "# Filter the dataframe to include only roles played by Sidney Poitier\n",
        "sidney_poitier_roles = cast_df[cast_df['name'] == 'Sidney Poitier']\n",
        "\n",
        "# Count the number of roles played by Sidney Poitier throughout his career\n",
        "num_sidney_poitier_roles = len(sidney_poitier_roles)\n",
        "\n",
        "print(\"Number of roles played by Sidney Poitier throughout his career:\", num_sidney_poitier_roles)\n"
      ],
      "metadata": {
        "colab": {
          "base_uri": "https://localhost:8080/"
        },
        "id": "Ee1Y8F6Us4-3",
        "outputId": "07f9128c-d177-4dba-a5c1-e7365d21c3c9"
      },
      "execution_count": 30,
      "outputs": [
        {
          "output_type": "stream",
          "name": "stdout",
          "text": [
            "Number of roles played by Sidney Poitier throughout his career: 43\n"
          ]
        }
      ]
    },
    {
      "cell_type": "code",
      "source": [
        "import pandas as pd\n",
        "\n",
        "# Read the CSV file containing cast information into a Pandas dataframe (if not already done)\n",
        "cast_df = pd.read_csv('cast.csv')\n",
        "\n",
        "# Filter the dataframe to include only roles played by Judi Dench\n",
        "judi_dench_roles = cast_df[cast_df['name'] == 'Judi Dench']\n",
        "\n",
        "# Count the number of roles played by Judi Dench\n",
        "num_judi_dench_roles = len(judi_dench_roles)\n",
        "\n",
        "print(\"Number of roles played by Judi Dench:\", num_judi_dench_roles)\n"
      ],
      "metadata": {
        "colab": {
          "base_uri": "https://localhost:8080/"
        },
        "id": "I-G0QDBJs9F7",
        "outputId": "88399ac9-e4cb-40a4-8ce4-18b78cc38e9d"
      },
      "execution_count": 31,
      "outputs": [
        {
          "output_type": "stream",
          "name": "stdout",
          "text": [
            "Number of roles played by Judi Dench: 55\n"
          ]
        }
      ]
    },
    {
      "cell_type": "code",
      "source": [
        "import pandas as pd\n",
        "\n",
        "# Read the CSV file containing cast information into a Pandas dataframe (if not already done)\n",
        "cast_df = pd.read_csv('cast.csv')\n",
        "\n",
        "# Filter the dataframe to include only supporting roles (n=2) played by Cary Grant in the 1940s\n",
        "cary_grant_supporting_roles_1940s = cast_df[(cast_df['name'] == 'Cary Grant') & (cast_df['n'] == 2) & (cast_df['year'] >= 1940) & (cast_df['year'] <= 1949)]\n",
        "\n",
        "# Sort the filtered dataframe by year\n",
        "cary_grant_supporting_roles_1940s_sorted = cary_grant_supporting_roles_1940s.sort_values(by='year')\n",
        "\n",
        "# Display the supporting roles played by Cary Grant in the 1940s in order by year\n",
        "print(cary_grant_supporting_roles_1940s_sorted[['year', 'title']])\n",
        ""
      ],
      "metadata": {
        "colab": {
          "base_uri": "https://localhost:8080/"
        },
        "id": "UopGxzs9tCLb",
        "outputId": "a33bf4e2-f808-4671-90d5-409451d9ffb6"
      },
      "execution_count": 32,
      "outputs": [
        {
          "output_type": "stream",
          "name": "stdout",
          "text": [
            "        year             title\n",
            "871423  1940  My Favorite Wife\n",
            "871433  1941    Penny Serenade\n"
          ]
        }
      ]
    },
    {
      "cell_type": "code",
      "source": [
        "import pandas as pd\n",
        "\n",
        "# Read the CSV file containing cast information into a Pandas dataframe (if not already done)\n",
        "cast_df = pd.read_csv('cast.csv')\n",
        "\n",
        "# Filter the dataframe to include only leading roles (n=1) played by Cary Grant in the 1940s\n",
        "cary_grant_leading_roles_1940s = cast_df[(cast_df['name'] == 'Cary Grant') & (cast_df['n'] == 1) & (cast_df['year'] >= 1940) & (cast_df['year'] <= 1949)]\n",
        "\n",
        "# Sort the filtered dataframe by year\n",
        "cary_grant_leading_roles_1940s_sorted = cary_grant_leading_roles_1940s.sort_values(by='year')\n",
        "\n",
        "# Display the leading roles played by Cary Grant in the 1940s in order by year\n",
        "print(cary_grant_leading_roles_1940s_sorted[['year', 'title']])\n",
        ""
      ],
      "metadata": {
        "colab": {
          "base_uri": "https://localhost:8080/"
        },
        "id": "dr7y9r_AtH2d",
        "outputId": "3927a91c-2430-4da0-9758-20b256c2892b"
      },
      "execution_count": 33,
      "outputs": [
        {
          "output_type": "stream",
          "name": "stdout",
          "text": [
            "        year                                 title\n",
            "871448  1940               The Howards of Virginia\n",
            "871407  1940                       His Girl Friday\n",
            "871450  1940                The Philadelphia Story\n",
            "871438  1941                             Suspicion\n",
            "871452  1942                  The Talk of the Town\n",
            "871429  1942                 Once Upon a Honeymoon\n",
            "871398  1943                     Destination Tokyo\n",
            "871422  1943                             Mr. Lucky\n",
            "871430  1944                      Once Upon a Time\n",
            "871390  1944                  Arsenic and Old Lace\n",
            "871425  1944             None But the Lonely Heart\n",
            "871424  1946                         Night and Day\n",
            "871427  1946                             Notorious\n",
            "871444  1947      The Bachelor and the Bobby-Soxer\n",
            "871445  1947                     The Bishop's Wife\n",
            "871421  1948  Mr. Blandings Builds His Dream House\n",
            "871402  1948          Every Girl Should Be Married\n",
            "871411  1949                I Was a Male War Bride\n"
          ]
        }
      ]
    },
    {
      "cell_type": "code",
      "source": [
        "import pandas as pd\n",
        "\n",
        "# Read the CSV file containing cast information into a Pandas dataframe (if not already done)\n",
        "cast_df = pd.read_csv('cast.csv')\n",
        "\n",
        "# Filter the dataframe to include only roles from the 1950s\n",
        "roles_in_1950s = cast_df[(cast_df['year'] >= 1950) & (cast_df['year'] <= 1959)]\n",
        "\n",
        "# Count the number of roles available for actors in the 1950s\n",
        "num_roles_in_1950s = len(roles_in_1950s)\n",
        "\n",
        "print(\"Number of roles available for actors in the 1950s:\", num_roles_in_1950s)\n"
      ],
      "metadata": {
        "colab": {
          "base_uri": "https://localhost:8080/"
        },
        "id": "zbmxhW-UtMgu",
        "outputId": "adc275e3-d0bd-4cd6-a069-0de0f42d4093"
      },
      "execution_count": 34,
      "outputs": [
        {
          "output_type": "stream",
          "name": "stdout",
          "text": [
            "Number of roles available for actors in the 1950s: 215471\n"
          ]
        }
      ]
    },
    {
      "cell_type": "code",
      "source": [
        "import pandas as pd\n",
        "\n",
        "# Read the CSV file containing cast information into a Pandas dataframe (if not already done)\n",
        "cast_df = pd.read_csv('cast.csv')\n",
        "\n",
        "# Filter the dataframe to include only roles for actresses from the 1950s\n",
        "actress_roles_in_1950s = cast_df[(cast_df['year'] >= 1950) & (cast_df['year'] <= 1959) & (cast_df['type'] == 'actress')]\n",
        "\n",
        "# Count the number of roles available for actresses in the 1950s\n",
        "num_actress_roles_in_1950s = len(actress_roles_in_1950s)\n",
        "\n",
        "print(\"Number of roles available for actresses in the 1950s:\", num_actress_roles_in_1950s)\n"
      ],
      "metadata": {
        "colab": {
          "base_uri": "https://localhost:8080/"
        },
        "id": "535Fds41tP5q",
        "outputId": "89d50937-5667-46dc-c1fa-42a7788fdca5"
      },
      "execution_count": 35,
      "outputs": [
        {
          "output_type": "stream",
          "name": "stdout",
          "text": [
            "Number of roles available for actresses in the 1950s: 57733\n"
          ]
        }
      ]
    },
    {
      "cell_type": "code",
      "source": [
        "import pandas as pd\n",
        "\n",
        "# Read the CSV file containing cast information into a Pandas dataframe (if not already done)\n",
        "cast_df = pd.read_csv('cast.csv')\n",
        "\n",
        "# Filter the dataframe to include only leading roles (n=1) from the beginning of film history through 1980\n",
        "leading_roles_until_1980 = cast_df[(cast_df['n'] == 1) & (cast_df['year'] <= 1980)]\n",
        "\n",
        "# Count the number of leading roles available from the beginning of film history through 1980\n",
        "num_leading_roles_until_1980 = len(leading_roles_until_1980)\n",
        "\n",
        "print(\"Number of leading roles (n=1) available from the beginning of film history through 1980:\", num_leading_roles_until_1980)\n"
      ],
      "metadata": {
        "colab": {
          "base_uri": "https://localhost:8080/"
        },
        "id": "0bClMuV3tTC1",
        "outputId": "2a2c7bec-3d36-4723-91a9-885779cdd490"
      },
      "execution_count": 36,
      "outputs": [
        {
          "output_type": "stream",
          "name": "stdout",
          "text": [
            "Number of leading roles (n=1) available from the beginning of film history through 1980: 65140\n"
          ]
        }
      ]
    },
    {
      "cell_type": "code",
      "source": [
        "import pandas as pd\n",
        "\n",
        "# Read the CSV file containing cast information into a Pandas dataframe (if not already done)\n",
        "cast_df = pd.read_csv('cast.csv')\n",
        "\n",
        "# Filter the dataframe to include only non-leading roles (n is not equal to 1) from the beginning of film history through 1980\n",
        "non_leading_roles_until_1980 = cast_df[(cast_df['n'] != 1) & (cast_df['year'] <= 1980)]\n",
        "\n",
        "# Count the number of non-leading roles available from the beginning of film history through 1980\n",
        "num_non_leading_roles_until_1980 = len(non_leading_roles_until_1980)\n",
        "\n",
        "print(\"Number of non-leading roles (n is not equal to 1) available from the beginning of film history through 1980:\", num_non_leading_roles_until_1980)\n"
      ],
      "metadata": {
        "colab": {
          "base_uri": "https://localhost:8080/"
        },
        "id": "ujlqh4butWYT",
        "outputId": "21d46386-5ac9-4701-b6a0-836e14294080"
      },
      "execution_count": 37,
      "outputs": [
        {
          "output_type": "stream",
          "name": "stdout",
          "text": [
            "Number of non-leading roles (n is not equal to 1) available from the beginning of film history through 1980: 1117667\n"
          ]
        }
      ]
    },
    {
      "cell_type": "code",
      "source": [
        "import pandas as pd\n",
        "\n",
        "# Read the CSV file containing cast information into a Pandas dataframe (if not already done)\n",
        "cast_df = pd.read_csv('cast.csv')\n",
        "\n",
        "# Filter the dataframe to include only roles through 1980 with no numeric \"n\" rank\n",
        "roles_without_n_rank_until_1980 = cast_df[(cast_df['n'].isnull()) & (cast_df['year'] <= 1980)]\n",
        "\n",
        "# Count the number of roles through 1980 that did not have a numeric \"n\" rank\n",
        "num_roles_without_n_rank_until_1980 = len(roles_without_n_rank_until_1980)\n",
        "\n",
        "print(\"Number of roles through 1980 without a numeric 'n' rank:\", num_roles_without_n_rank_until_1980)\n"
      ],
      "metadata": {
        "colab": {
          "base_uri": "https://localhost:8080/"
        },
        "id": "y6qo_h58tbgJ",
        "outputId": "a5eccb67-b7d7-4203-da0e-64aec5c7edf7"
      },
      "execution_count": 38,
      "outputs": [
        {
          "output_type": "stream",
          "name": "stdout",
          "text": [
            "Number of roles through 1980 without a numeric 'n' rank: 448347\n"
          ]
        }
      ]
    },
    {
      "cell_type": "markdown",
      "source": [],
      "metadata": {
        "id": "LSJztVwNbDAQ"
      }
    }
  ]
}