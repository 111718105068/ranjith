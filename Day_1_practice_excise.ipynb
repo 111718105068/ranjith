{
  "nbformat": 4,
  "nbformat_minor": 0,
  "metadata": {
    "colab": {
      "provenance": [],
      "authorship_tag": "ABX9TyN6HchZGozupCfv16mspFQ2",
      "include_colab_link": true
    },
    "kernelspec": {
      "name": "python3",
      "display_name": "Python 3"
    },
    "language_info": {
      "name": "python"
    }
  },
  "cells": [
    {
      "cell_type": "markdown",
      "metadata": {
        "id": "view-in-github",
        "colab_type": "text"
      },
      "source": [
        "<a href=\"https://colab.research.google.com/github/111718105068/ranjith/blob/main/Day_1_practice_excise.ipynb\" target=\"_parent\"><img src=\"https://colab.research.google.com/assets/colab-badge.svg\" alt=\"Open In Colab\"/></a>"
      ]
    },
    {
      "cell_type": "markdown",
      "source": [
        "**LANGUAGE FUNDMANTALS**\n",
        "  #1.MANIPULATE USING A LIST\n"
      ],
      "metadata": {
        "id": "fJhJDUViFlJO"
      }
    },
    {
      "cell_type": "code",
      "source": [],
      "metadata": {
        "id": "G467JEfpFkm2"
      },
      "execution_count": null,
      "outputs": []
    },
    {
      "cell_type": "code",
      "source": [
        "my_list = [1, 2, 3]\n",
        "new_element = 4     # New element to add\n",
        "my_list.append(new_element)\n"
      ],
      "metadata": {
        "id": "3gCeMpQWCPqQ"
      },
      "execution_count": null,
      "outputs": []
    },
    {
      "cell_type": "code",
      "source": [
        "print (my_list)"
      ],
      "metadata": {
        "colab": {
          "base_uri": "https://localhost:8080/"
        },
        "id": "CXneFFYeDSJY",
        "outputId": "734d7720-c93a-4a15-adb8-220acbc4020f"
      },
      "execution_count": null,
      "outputs": [
        {
          "output_type": "stream",
          "name": "stdout",
          "text": [
            "[1, 2, 3, 4]\n"
          ]
        }
      ]
    },
    {
      "cell_type": "code",
      "source": [
        "my_list = [1, 2, 3, 4, 5]\n",
        "\n",
        "# Reverse the elements in the list using the reverse() method\n",
        "my_list.reverse()\n",
        "print (my_list)"
      ],
      "metadata": {
        "id": "chQXMretDhjg",
        "colab": {
          "base_uri": "https://localhost:8080/"
        },
        "outputId": "705fcab7-07db-4fd2-f495-181ee5e9cbbb"
      },
      "execution_count": 10,
      "outputs": [
        {
          "output_type": "stream",
          "name": "stdout",
          "text": [
            "[5, 4, 3, 2, 1]\n"
          ]
        }
      ]
    },
    {
      "cell_type": "code",
      "source": [
        "original_list = [1, 2, 3]\n",
        "repeated_list = original_list * 3  # Repeat the list three times\n",
        "\n",
        "print(repeated_list)\n"
      ],
      "metadata": {
        "colab": {
          "base_uri": "https://localhost:8080/"
        },
        "id": "pPwLoVIPI1Ih",
        "outputId": "9a6cc77c-4d4a-4392-d2cb-58ae110289d3"
      },
      "execution_count": null,
      "outputs": [
        {
          "output_type": "stream",
          "name": "stdout",
          "text": [
            "[1, 2, 3, 1, 2, 3, 1, 2, 3]\n"
          ]
        }
      ]
    },
    {
      "cell_type": "markdown",
      "source": [
        "or\n"
      ],
      "metadata": {
        "id": "nL-MJF8rNp35"
      }
    },
    {
      "cell_type": "code",
      "source": [
        "a=[1,2]\n",
        "b=a*4\n",
        "print (b)\n"
      ],
      "metadata": {
        "colab": {
          "base_uri": "https://localhost:8080/"
        },
        "id": "-IyJikr5JXuM",
        "outputId": "66108b72-9668-45a4-86bc-573dae9f131b"
      },
      "execution_count": null,
      "outputs": [
        {
          "output_type": "stream",
          "name": "stdout",
          "text": [
            "[1, 2, 1, 2, 1, 2, 1, 2]\n"
          ]
        }
      ]
    },
    {
      "cell_type": "code",
      "source": [
        "list1 = [1, 2, 3]\n",
        "list2 = [4, 5, 6]\n",
        "\n",
        "# Concatenate list\n",
        "concatenated_list = list1 + list2\n",
        "\n",
        "print(concatenated_list)\n"
      ],
      "metadata": {
        "colab": {
          "base_uri": "https://localhost:8080/"
        },
        "id": "KC5J7KCuNtPc",
        "outputId": "92740a92-c51b-4142-da0d-31a89b348f43"
      },
      "execution_count": null,
      "outputs": [
        {
          "output_type": "stream",
          "name": "stdout",
          "text": [
            "[1, 2, 3, 4, 5, 6]\n"
          ]
        }
      ]
    },
    {
      "cell_type": "code",
      "source": [
        "a= (1,2)\n",
        "b=(2,3,4)\n",
        "print (a+b)\n"
      ],
      "metadata": {
        "colab": {
          "base_uri": "https://localhost:8080/"
        },
        "id": "_0jEnsgKOEjY",
        "outputId": "59436c72-30c8-49e0-9700-2872f97c5b01"
      },
      "execution_count": null,
      "outputs": [
        {
          "output_type": "stream",
          "name": "stdout",
          "text": [
            "(1, 2, 2, 3, 4)\n"
          ]
        }
      ]
    },
    {
      "cell_type": "code",
      "source": [
        "a=[9,8,7,4,5,3,1,8]\n",
        "a.sort()\n",
        "# Sort the elements in the list in ascending order\n",
        "print (a)"
      ],
      "metadata": {
        "colab": {
          "base_uri": "https://localhost:8080/"
        },
        "id": "l4Ypbu-BPFIG",
        "outputId": "55b0a185-8330-4cfe-80c8-93ecf207b01b"
      },
      "execution_count": null,
      "outputs": [
        {
          "output_type": "stream",
          "name": "stdout",
          "text": [
            "[1, 3, 4, 5, 7, 8, 8, 9]\n"
          ]
        }
      ]
    },
    {
      "cell_type": "markdown",
      "source": [
        "#2. WRITE A PYTHON PROGRAM TO DO IT IN TUPLES"
      ],
      "metadata": {
        "id": "xKvU9iQcQn6Q"
      }
    },
    {
      "cell_type": "code",
      "source": [
        "# Creating a tuple\n",
        "my_tuple = (1, 2, 3, 4, 5)\n",
        "\n",
        "# Accessing an element\n",
        "first_element = my_tuple[0]  # Access the first element (1)\n",
        "\n",
        "# Tuple unpacking\n",
        "a, b, c, d, e = my_tuple  # Unpack the tuple into individual variables\n",
        "\n",
        "# Printing the results\n",
        "print(\"Tuple:\", my_tuple)\n",
        "print(\"First Element:\", first_element)\n",
        "print(\"Unpacked Variables:\", a, b, c, d, e)\n"
      ],
      "metadata": {
        "colab": {
          "base_uri": "https://localhost:8080/"
        },
        "id": "anGZW5ghQ-NC",
        "outputId": "05ee32e8-97e3-4504-b15e-41a1ce5224a7"
      },
      "execution_count": null,
      "outputs": [
        {
          "output_type": "stream",
          "name": "stdout",
          "text": [
            "Tuple: (1, 2, 3, 4, 5)\n",
            "First Element: 1\n",
            "Unpacked Variables: 1 2 3 4 5\n"
          ]
        }
      ]
    },
    {
      "cell_type": "code",
      "source": [
        "tuple1 = (1, 2, 3)\n",
        "\n",
        "# Add the element 4 to the end of the tuple.\n",
        "tuple1 = tuple1 + (4,)\n",
        "\n",
        "print(tuple1)\n"
      ],
      "metadata": {
        "colab": {
          "base_uri": "https://localhost:8080/"
        },
        "id": "35mx_4PHoxgk",
        "outputId": "09e1309e-cfc2-427b-e7e1-5994d5bc29a9"
      },
      "execution_count": 13,
      "outputs": [
        {
          "output_type": "stream",
          "name": "stdout",
          "text": [
            "(1, 2, 3, 4)\n"
          ]
        }
      ]
    },
    {
      "cell_type": "markdown",
      "source": [],
      "metadata": {
        "id": "l-V0lUFWFRSM"
      }
    }
  ]
}