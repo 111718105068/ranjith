{
  "nbformat": 4,
  "nbformat_minor": 0,
  "metadata": {
    "colab": {
      "provenance": [],
      "authorship_tag": "ABX9TyP0EIfOvyOgGhUn8Ua6afV8",
      "include_colab_link": true
    },
    "kernelspec": {
      "name": "python3",
      "display_name": "Python 3"
    },
    "language_info": {
      "name": "python"
    }
  },
  "cells": [
    {
      "cell_type": "markdown",
      "metadata": {
        "id": "view-in-github",
        "colab_type": "text"
      },
      "source": [
        "<a href=\"https://colab.research.google.com/github/111718105068/ranjith/blob/main/day3_practice_exercise.ipynb\" target=\"_parent\"><img src=\"https://colab.research.google.com/assets/colab-badge.svg\" alt=\"Open In Colab\"/></a>"
      ]
    },
    {
      "cell_type": "markdown",
      "source": [
        "# **`FILE HANDLING`**"
      ],
      "metadata": {
        "id": "tc7b1xh2tR-I"
      }
    },
    {
      "cell_type": "markdown",
      "source": [
        "# 1. Write a python function that copies a file reading and writing up to 50 characters at a time."
      ],
      "metadata": {
        "id": "W3aJwaBst4Bu"
      }
    },
    {
      "cell_type": "code",
      "source": [
        "def copy_file_chunkwise(source_filename, destination_filename):\n",
        "    try:\n",
        "        with open(source_filename, 'rb') as source_file, open(destination_filename, 'wb') as destination_file:\n",
        "            while True:\n",
        "                chunk = source_file.read(50)  # Read up to 50 characters at a time\n",
        "                if not chunk:\n",
        "                    break\n",
        "                destination_file.write(chunk)\n",
        "        print(f\"File '{source_filename}' copied to '{destination_filename}' successfully.\")\n",
        "    except Exception as e:\n",
        "        print(f\"Error: {e}\")\n",
        "\n",
        "# Example usage:\n",
        "copy_file_chunkwise('source.txt', 'destination.txt')\n"
      ],
      "metadata": {
        "colab": {
          "base_uri": "https://localhost:8080/"
        },
        "id": "U6aXXBU8uFJm",
        "outputId": "a67915da-161a-4cdf-9020-2c45ce8e2cd8"
      },
      "execution_count": null,
      "outputs": [
        {
          "output_type": "stream",
          "name": "stdout",
          "text": [
            "File 'source.txt' copied to 'destination.txt' successfully.\n"
          ]
        }
      ]
    },
    {
      "cell_type": "markdown",
      "source": [
        "# 2. Print all numbers present in the text file and print the number of blank spaces in that file."
      ],
      "metadata": {
        "id": "ZCB0kuYaeAjs"
      }
    },
    {
      "cell_type": "code",
      "source": [
        "def num():\n",
        "    file=open('source.txt','r')\n",
        "    count1=0\n",
        "    count2=0\n",
        "    count=file.read()\n",
        "    for i in count:\n",
        "        if i.isdigit():\n",
        "            count1=count1+1\n",
        "        if i[0]== \" \":\n",
        "            count2=count2+1\n",
        "    print(\"The digits in the text file are : \",count1)\n",
        "    print(\"The spaces in the text file are : \",count2)\n",
        "    file.close()\n",
        "\n",
        "num()"
      ],
      "metadata": {
        "id": "e5dsqcx4KJ6A",
        "colab": {
          "base_uri": "https://localhost:8080/"
        },
        "outputId": "7e106656-f42c-4a6c-89a9-010d0e4606a3"
      },
      "execution_count": null,
      "outputs": [
        {
          "output_type": "stream",
          "name": "stdout",
          "text": [
            "The digits in the text file are :  0\n",
            "The spaces in the text file are :  44\n"
          ]
        }
      ]
    },
    {
      "cell_type": "markdown",
      "source": [
        "# 3. Write a function called sed that takes as arguments a pattern string, a replacement string. and two filenames; it should read the first file and write the contents into the second file (creating it if necessary). If the pattern string appears anywhere in the file, it should be replaced with the replacement string. If an error occurs while opening, reading, writing. or closing files, your program should catch the exception, print an error message, and exit."
      ],
      "metadata": {
        "id": "WDLX-YPXeJUB"
      }
    },
    {
      "cell_type": "code",
      "source": [
        "def sed(implemention, released, input_file, output_file):\n",
        "    try:\n",
        "        with open(input_file, 'r') as infile, open(output_file, 'w') as outfile:\n",
        "            for line in infile:\n",
        "                modified_line = line.replace(implemention, released)\n",
        "                outfile.write(modified_line)\n",
        "\n",
        "    except FileNotFoundError:\n",
        "        print(f\"Error: One or both of the files '{input_file}' and '{output_file}' not found.\")\n",
        "    except Exception as e:\n",
        "        print(f\"An error occurred: {e}\")\n",
        "    else:\n",
        "        print(f\"Pattern '{called}' replaced with '{called}' successfully.\")\n",
        "\n",
        "\n",
        "sed('function', 'called', \"source.txt\",\"sample 3.txt\")"
      ],
      "metadata": {
        "id": "wNVxWUmDKP3O",
        "colab": {
          "base_uri": "https://localhost:8080/",
          "height": 367
        },
        "outputId": "ceebf150-ab33-4735-8b88-32335921758f"
      },
      "execution_count": 5,
      "outputs": [
        {
          "output_type": "error",
          "ename": "NameError",
          "evalue": "ignored",
          "traceback": [
            "\u001b[0;31m---------------------------------------------------------------------------\u001b[0m",
            "\u001b[0;31mNameError\u001b[0m                                 Traceback (most recent call last)",
            "\u001b[0;32m<ipython-input-5-530864c5e0ad>\u001b[0m in \u001b[0;36m<cell line: 16>\u001b[0;34m()\u001b[0m\n\u001b[1;32m     14\u001b[0m \u001b[0;34m\u001b[0m\u001b[0m\n\u001b[1;32m     15\u001b[0m \u001b[0;34m\u001b[0m\u001b[0m\n\u001b[0;32m---> 16\u001b[0;31m \u001b[0msed\u001b[0m\u001b[0;34m(\u001b[0m\u001b[0;34m'function'\u001b[0m\u001b[0;34m,\u001b[0m \u001b[0;34m'called'\u001b[0m\u001b[0;34m,\u001b[0m \u001b[0;34m\"source.txt\"\u001b[0m\u001b[0;34m,\u001b[0m\u001b[0;34m\"sample 3.txt\"\u001b[0m\u001b[0;34m)\u001b[0m\u001b[0;34m\u001b[0m\u001b[0;34m\u001b[0m\u001b[0m\n\u001b[0m",
            "\u001b[0;32m<ipython-input-5-530864c5e0ad>\u001b[0m in \u001b[0;36msed\u001b[0;34m(implemention, released, input_file, output_file)\u001b[0m\n\u001b[1;32m     11\u001b[0m         \u001b[0mprint\u001b[0m\u001b[0;34m(\u001b[0m\u001b[0;34mf\"An error occurred: {e}\"\u001b[0m\u001b[0;34m)\u001b[0m\u001b[0;34m\u001b[0m\u001b[0;34m\u001b[0m\u001b[0m\n\u001b[1;32m     12\u001b[0m     \u001b[0;32melse\u001b[0m\u001b[0;34m:\u001b[0m\u001b[0;34m\u001b[0m\u001b[0;34m\u001b[0m\u001b[0m\n\u001b[0;32m---> 13\u001b[0;31m         \u001b[0mprint\u001b[0m\u001b[0;34m(\u001b[0m\u001b[0;34mf\"Pattern '{called}' replaced with '{called}' successfully.\"\u001b[0m\u001b[0;34m)\u001b[0m\u001b[0;34m\u001b[0m\u001b[0;34m\u001b[0m\u001b[0m\n\u001b[0m\u001b[1;32m     14\u001b[0m \u001b[0;34m\u001b[0m\u001b[0m\n\u001b[1;32m     15\u001b[0m \u001b[0;34m\u001b[0m\u001b[0m\n",
            "\u001b[0;31mNameError\u001b[0m: name 'called' is not defined"
          ]
        }
      ]
    },
    {
      "cell_type": "markdown",
      "source": [
        "# 4. Log File Analysis: You have a log file containing records of user activities on a website. Each line in the file represents a log entry with details like timestamp, user ID, and action performed. Your task is to analyze this log file.\n",
        "\n",
        "a. Write Python code to read the log file and extract specific information, such as the number of unique users or the most common action.\n",
        "\n",
        "b. How would you handle large log files efficiently without loading the entire file into memory?"
      ],
      "metadata": {
        "id": "u4AUbZRqeOgj"
      }
    },
    {
      "cell_type": "code",
      "source": [
        "from collections import Counter\n",
        "unique_users = set()\n",
        "action_count = Counter()\n",
        "log_file_path = 'weblog.txt'\n",
        "try:\n",
        "    with open(log_file_path, 'r') as log_file:\n",
        "        for line in log_file:\n",
        "            parts = line.strip().split(',')\n",
        "            if len(parts) == 3:\n",
        "                timestamp, user_id, action = parts\n",
        "                unique_users.add(user_id)\n",
        "                action_count[action] += 1\n",
        "\n",
        "    print(f\"Number of unique users: {len(unique_users)}\")\n",
        "    most_common_action, most_common_count = action_count.most_common(1)[0]\n",
        "    print(f\"Most common action: {most_common_action} (count: {most_common_count})\")\n",
        "\n",
        "except FileNotFoundError:\n",
        "    print(f\"Log file '{log_file_path}' not found.\")\n",
        "except Exception as e:\n",
        "    print(f\"Error: {str(e)}\")"
      ],
      "metadata": {
        "id": "qF_ynk4WQd2K",
        "colab": {
          "base_uri": "https://localhost:8080/"
        },
        "outputId": "b148194e-8e12-4f41-abdf-dcc528b84edc"
      },
      "execution_count": null,
      "outputs": [
        {
          "output_type": "stream",
          "name": "stdout",
          "text": [
            "Number of unique users: 1\n",
            "Most common action:  branch=c5558820f367665758d4d719b7553a02ff4954e0 (count: 3)\n"
          ]
        }
      ]
    },
    {
      "cell_type": "markdown",
      "source": [
        "# *5. Text File Search and Replace: You have a text file with a large amount of text, and you want to search for specific words or phrases and replace them with new content.*\n",
        "\n",
        "a. Write Python code to search for and replace text within a text file.\n",
        "\n",
        "b. How would you handle cases where you need to perform multiple replacements in a single pass?"
      ],
      "metadata": {
        "id": "4CzW86TGeeFr"
      }
    },
    {
      "cell_type": "code",
      "source": [
        "def search_and_replace(input_file, output_file, search_text, replace_text):\n",
        "    try:\n",
        "        with open(input_file, 'r') as infile, open(output_file, 'w') as outfile:\n",
        "            for line in infile:\n",
        "                modified_line = line.replace(search_text, replace_text)\n",
        "                outfile.write(modified_line)\n",
        "\n",
        "    except FileNotFoundError:\n",
        "        print(f\"Error: Input file '{input_file}' not found.\")\n",
        "    except Exception as e:\n",
        "        print(f\"An error occurred: {e}\")\n",
        "    else:\n",
        "        print(f\"Text '{search_text}' replaced with '{replace_text}' successfully.\")\n",
        "\n",
        "search_and_replace(\"source.txt\",\"three.txt\",\"a way of exit or entranc\",\"Achuthan\")"
      ],
      "metadata": {
        "id": "S3EhXepVRtEG",
        "colab": {
          "base_uri": "https://localhost:8080/"
        },
        "outputId": "c4ac13e3-06ac-42cc-a1a3-e9dd427479a0"
      },
      "execution_count": null,
      "outputs": [
        {
          "output_type": "stream",
          "name": "stdout",
          "text": [
            "Text 'a way of exit or entranc' replaced with 'Achuthan' successfully.\n"
          ]
        }
      ]
    },
    {
      "cell_type": "code",
      "source": [
        "def search_and_replace_multiple(input_file, output_file, replace_dict):\n",
        "    try:\n",
        "        with open(input_file, 'r') as infile, open(output_file, 'w') as outfile:\n",
        "            for line in infile:\n",
        "                for search_text, replace_text in replace_dict.items():\n",
        "                    line = line.replace(search_text, replace_text)\n",
        "                outfile.write(line)\n",
        "\n",
        "    except FileNotFoundError:\n",
        "        print(f\"Error: Input file '{input_file}' not found.\")\n",
        "    except Exception as e:\n",
        "        print(f\"An error occurred: {e}\")\n",
        "    else:\n",
        "        print(\"Multiple replacements completed successfully.\")\n",
        "\n",
        "replace_dict = {\n",
        "    \"a road, path\": \"ranjith\",\n",
        "    \"building\": \"MPHASIS\",\n",
        "    }\n",
        "\n",
        "search_and_replace_multiple(\"source.txt\", \"three.txt\", replace_dict)"
      ],
      "metadata": {
        "colab": {
          "base_uri": "https://localhost:8080/"
        },
        "id": "S3Lf0loEIJhm",
        "outputId": "d9dc8f91-dc74-40bf-a507-a8eefd11babf"
      },
      "execution_count": null,
      "outputs": [
        {
          "output_type": "stream",
          "name": "stdout",
          "text": [
            "Multiple replacements completed successfully.\n"
          ]
        }
      ]
    },
    {
      "cell_type": "markdown",
      "source": [
        "# 6. Write a Python script that concatenates the contents of multiple text files into a single output file. Allow the user to specify the input files and the output file."
      ],
      "metadata": {
        "id": "BxpuzWLAfrtI"
      }
    },
    {
      "cell_type": "code",
      "source": [
        "def concatenate_files(input_files, output_file):\n",
        "    try:\n",
        "        with open(output_file, 'w') as output:\n",
        "            for input_file in input_files:\n",
        "                with open(input_file, 'r') as infile:\n",
        "                    output.write(infile.read())\n",
        "\n",
        "    except FileNotFoundError:\n",
        "        print(\"Error: One or more input files not found.\")\n",
        "    except Exception as e:\n",
        "        print(f\"An error occurred: {e}\")\n",
        "    else:\n",
        "        print(\"Files concatenated successfully.\")\n",
        "\n",
        "def get_input_files():\n",
        "    input_files = []\n",
        "    while True:\n",
        "        file_path = input(\"Enter the path of an input file (or 'done' to finish): \")\n",
        "        if file_path.lower() == 'done':\n",
        "            break\n",
        "        input_files.append(file_path)\n",
        "    return input_files\n",
        "\n",
        "input_files = get_input_files()\n",
        "output_file = input(\"Enter the path of the output file: \")\n",
        "\n",
        "concatenate_files(input_files, output_file)"
      ],
      "metadata": {
        "colab": {
          "base_uri": "https://localhost:8080/"
        },
        "id": "R6tVJQN1h7PO",
        "outputId": "b30890e3-e9e6-454e-d8d2-70b120c9a535"
      },
      "execution_count": null,
      "outputs": [
        {
          "output_type": "stream",
          "name": "stdout",
          "text": [
            "Enter the path of an input file (or 'done' to finish): done\n",
            "Enter the path of the output file: https://colab.research.google.com/drive/1\n",
            "Error: One or more input files not found.\n"
          ]
        }
      ]
    },
    {
      "cell_type": "markdown",
      "source": [],
      "metadata": {
        "id": "NfD3Vs2wKPkU"
      }
    },
    {
      "cell_type": "markdown",
      "source": [
        "# 7. You are given a text file named input ist commaining a list of works, one wond per line. Your task is to create a Python program that reads the contents of inpot.txt, processes the words and writes the result to an outpot file named output.txt.\n"
      ],
      "metadata": {
        "id": "D-PfGCy0fy5_"
      }
    },
    {
      "cell_type": "code",
      "source": [
        "def read_words_and_calculate_lengths(input_file):\n",
        "  word_lengths = {}\n",
        "  with open(input_file, \"r\") as file:\n",
        "    for line in file:\n",
        "      word = line.strip()\n",
        "      word_lengths[word] = len(word)\n",
        "  return word_lengths\n",
        "\n",
        "\n",
        "def write_word_lengths_to_file(word_lengths, output_file):\n",
        "  with open(output_file, \"w\") as file:\n",
        "    for word, length in word_lengths.items():\n",
        "      file.write(f\"{word}: {length}\\n\")\n",
        "\n",
        "\n",
        "def main():\n",
        "  input_file = input(\"Enter the input file name: \")\n",
        "  output_file = input(\"Enter the output file name: \")\n",
        "\n",
        "  word_lengths = read_words_and_calculate_lengths(input_file)\n",
        "  write_word_lengths_to_file(word_lengths, output_file)\n",
        "\n",
        "\n",
        "if __name__ == \"__main__\":\n",
        "  main()\n",
        "\n"
      ],
      "metadata": {
        "colab": {
          "base_uri": "https://localhost:8080/"
        },
        "id": "hw76kqNOieK5",
        "outputId": "17e4c8d2-c474-4799-d01e-7d8d90845719"
      },
      "execution_count": null,
      "outputs": [
        {
          "name": "stdout",
          "output_type": "stream",
          "text": [
            "Enter the input file name: source.txt\n",
            "Enter the output file name: three.txt\n"
          ]
        }
      ]
    },
    {
      "cell_type": "code",
      "source": [],
      "metadata": {
        "id": "TrCGx8lYh8_2"
      },
      "execution_count": null,
      "outputs": []
    },
    {
      "cell_type": "markdown",
      "source": [
        "# **8. Assume that you are developing a student gradebook system for a school. The system should allow teachers to input student grades for various subjects, store the data in files, and provide students with the ability to view their grades.**\n",
        "\n",
        "Design a Python program that accomplishes the following tasks:\n",
        "\n",
        "i. Teachers should be able to input grades for students in different subjects.\n",
        "ii. Store the student grade data in separate text files forch subject.\n",
        "iii. Students should be able to view their grades for each inject\n",
        "\n",
        "iv. Implement error handling for file operations, such as file not found or permission issues."
      ],
      "metadata": {
        "id": "6oqLbCXUf-ZQ"
      }
    },
    {
      "cell_type": "code",
      "source": [
        "import os\n",
        "\n",
        "class Gradebook:\n",
        "    def __init__(self):\n",
        "        self.students = {}\n",
        "\n",
        "    def add_student(self, student_id, student_name):\n",
        "        self.students[student_id] = {\n",
        "            'name': student_name,\n",
        "            'grades': {}\n",
        "        }\n",
        "\n",
        "    def add_grade(self, student_id, subject, grade):\n",
        "        if student_id in self.students:\n",
        "            self.students[student_id]['grades'][subject] = grade\n",
        "        else:\n",
        "            print(f\"Student with ID {student_id} not found.\")\n",
        "\n",
        "    def display_grades(self, student_id):\n",
        "        if student_id in self.students:\n",
        "            student = self.students[student_id]\n",
        "            print(f\"Grades for {student['name']}:\")\n",
        "            for subject, grade in student['grades'].items():\n",
        "                print(f\"{subject}: {grade}\")\n",
        "        else:\n",
        "            print(f\"Student with ID {student_id} not found.\")\n",
        "\n",
        "    def save_data(self, filename):\n",
        "        with open(filename, 'w') as file:\n",
        "            for student_id, student_info in self.students.items():\n",
        "                file.write(f\"Student ID: {student_id}\\n\")\n",
        "                file.write(f\"Student Name: {student_info['name']}\\n\")\n",
        "                for subject, grade in student_info['grades'].items():\n",
        "                    file.write(f\"{subject}: {grade}\\n\")\n",
        "                file.write(\"\\n\")\n",
        "\n",
        "    def load_data(self, filename):\n",
        "        if os.path.exists(filename):\n",
        "            with open(filename, 'r') as file:\n",
        "                lines = file.readlines()\n",
        "                student_id = None\n",
        "                student_name = None\n",
        "                for line in lines:\n",
        "                    line = line.strip()\n",
        "                    if line.startswith(\"Student ID: \"):\n",
        "                        student_id = int(line.split(\": \")[1])\n",
        "                    elif line.startswith(\"Student Name: \"):\n",
        "                        student_name = line.split(\": \")[1]\n",
        "                        self.add_student(student_id, student_name)\n",
        "                    else:\n",
        "                        subject, grade = line.split(\": \")\n",
        "                        self.add_grade(student_id, subject, float(grade))\n",
        "\n",
        "\n",
        "def main():\n",
        "    gradebook = Gradebook()\n",
        "\n",
        "    while True:\n",
        "        print(\"\\nStudent Gradebook System\")\n",
        "        print(\"1. Add Student\")\n",
        "        print(\"2. Add Grade\")\n",
        "        print(\"3. Display Grades\")\n",
        "        print(\"4. Save Data\")\n",
        "        print(\"5. Load Data\")\n",
        "        print(\"6. Exit\")\n",
        "\n",
        "        choice = input(\"Enter your choice: \")\n",
        "\n",
        "        if choice == '1':\n",
        "            student_id = int(input(\"Enter Student ID: \"))\n",
        "            student_name = input(\"Enter Student Name: \")\n",
        "            gradebook.add_student(student_id, student_name)\n",
        "        elif choice == '2':\n",
        "            student_id = int(input(\"Enter Student ID: \"))\n",
        "            subject = input(\"Enter Subject: \")\n",
        "            grade = float(input(\"Enter Grade: \"))\n",
        "            gradebook.add_grade(student_id, subject, grade)\n",
        "        elif choice == '3':\n",
        "            student_id = int(input(\"Enter Student ID: \"))\n",
        "            gradebook.display_grades(student_id)\n",
        "        elif choice == '4':\n",
        "            filename = input(\"Enter the filename to save data: \")\n",
        "            gradebook.save_data(filename)\n",
        "            print(f\"Data saved to {filename}\")\n",
        "        elif choice == '5':\n",
        "            filename = input(\"Enter the filename to load data: \")\n",
        "            gradebook.load_data(filename)\n",
        "            print(f\"Data loaded from {filename}\")\n",
        "        elif choice == '6':\n",
        "            break\n",
        "        else:\n",
        "            print(\"Invalid choice. Please try again.\")\n",
        "\n",
        "if __name__ == \"__main__\":\n",
        "    main()"
      ],
      "metadata": {
        "colab": {
          "base_uri": "https://localhost:8080/",
          "height": 894
        },
        "id": "UH9eKzuj5q5y",
        "outputId": "e22e422d-9965-4f61-860a-9f9ebac077ea"
      },
      "execution_count": null,
      "outputs": [
        {
          "output_type": "stream",
          "name": "stdout",
          "text": [
            "\n",
            "Student Gradebook System\n",
            "1. Add Student\n",
            "2. Add Grade\n",
            "3. Display Grades\n",
            "4. Save Data\n",
            "5. Load Data\n",
            "6. Exit\n",
            "Enter your choice: 1\n",
            "Enter Student ID: 23455\n",
            "Enter Student Name: rahul\n",
            "\n",
            "Student Gradebook System\n",
            "1. Add Student\n",
            "2. Add Grade\n",
            "3. Display Grades\n",
            "4. Save Data\n",
            "5. Load Data\n",
            "6. Exit\n",
            "Enter your choice: 1\n",
            "Enter Student ID: 23456\n",
            "Enter Student Name: nhm\n",
            "\n",
            "Student Gradebook System\n",
            "1. Add Student\n",
            "2. Add Grade\n",
            "3. Display Grades\n",
            "4. Save Data\n",
            "5. Load Data\n",
            "6. Exit\n"
          ]
        },
        {
          "output_type": "error",
          "ename": "KeyboardInterrupt",
          "evalue": "ignored",
          "traceback": [
            "\u001b[0;31m---------------------------------------------------------------------------\u001b[0m",
            "\u001b[0;31mKeyboardInterrupt\u001b[0m                         Traceback (most recent call last)",
            "\u001b[0;32m<ipython-input-13-0442eddbe18f>\u001b[0m in \u001b[0;36m<cell line: 94>\u001b[0;34m()\u001b[0m\n\u001b[1;32m     93\u001b[0m \u001b[0;34m\u001b[0m\u001b[0m\n\u001b[1;32m     94\u001b[0m \u001b[0;32mif\u001b[0m \u001b[0m__name__\u001b[0m \u001b[0;34m==\u001b[0m \u001b[0;34m\"__main__\"\u001b[0m\u001b[0;34m:\u001b[0m\u001b[0;34m\u001b[0m\u001b[0;34m\u001b[0m\u001b[0m\n\u001b[0;32m---> 95\u001b[0;31m     \u001b[0mmain\u001b[0m\u001b[0;34m(\u001b[0m\u001b[0;34m)\u001b[0m\u001b[0;34m\u001b[0m\u001b[0;34m\u001b[0m\u001b[0m\n\u001b[0m",
            "\u001b[0;32m<ipython-input-13-0442eddbe18f>\u001b[0m in \u001b[0;36mmain\u001b[0;34m()\u001b[0m\n\u001b[1;32m     65\u001b[0m         \u001b[0mprint\u001b[0m\u001b[0;34m(\u001b[0m\u001b[0;34m\"6. Exit\"\u001b[0m\u001b[0;34m)\u001b[0m\u001b[0;34m\u001b[0m\u001b[0;34m\u001b[0m\u001b[0m\n\u001b[1;32m     66\u001b[0m \u001b[0;34m\u001b[0m\u001b[0m\n\u001b[0;32m---> 67\u001b[0;31m         \u001b[0mchoice\u001b[0m \u001b[0;34m=\u001b[0m \u001b[0minput\u001b[0m\u001b[0;34m(\u001b[0m\u001b[0;34m\"Enter your choice: \"\u001b[0m\u001b[0;34m)\u001b[0m\u001b[0;34m\u001b[0m\u001b[0;34m\u001b[0m\u001b[0m\n\u001b[0m\u001b[1;32m     68\u001b[0m \u001b[0;34m\u001b[0m\u001b[0m\n\u001b[1;32m     69\u001b[0m         \u001b[0;32mif\u001b[0m \u001b[0mchoice\u001b[0m \u001b[0;34m==\u001b[0m \u001b[0;34m'1'\u001b[0m\u001b[0;34m:\u001b[0m\u001b[0;34m\u001b[0m\u001b[0;34m\u001b[0m\u001b[0m\n",
            "\u001b[0;32m/usr/local/lib/python3.10/dist-packages/ipykernel/kernelbase.py\u001b[0m in \u001b[0;36mraw_input\u001b[0;34m(self, prompt)\u001b[0m\n\u001b[1;32m    849\u001b[0m                 \u001b[0;34m\"raw_input was called, but this frontend does not support input requests.\"\u001b[0m\u001b[0;34m\u001b[0m\u001b[0;34m\u001b[0m\u001b[0m\n\u001b[1;32m    850\u001b[0m             )\n\u001b[0;32m--> 851\u001b[0;31m         return self._input_request(str(prompt),\n\u001b[0m\u001b[1;32m    852\u001b[0m             \u001b[0mself\u001b[0m\u001b[0;34m.\u001b[0m\u001b[0m_parent_ident\u001b[0m\u001b[0;34m,\u001b[0m\u001b[0;34m\u001b[0m\u001b[0;34m\u001b[0m\u001b[0m\n\u001b[1;32m    853\u001b[0m             \u001b[0mself\u001b[0m\u001b[0;34m.\u001b[0m\u001b[0m_parent_header\u001b[0m\u001b[0;34m,\u001b[0m\u001b[0;34m\u001b[0m\u001b[0;34m\u001b[0m\u001b[0m\n",
            "\u001b[0;32m/usr/local/lib/python3.10/dist-packages/ipykernel/kernelbase.py\u001b[0m in \u001b[0;36m_input_request\u001b[0;34m(self, prompt, ident, parent, password)\u001b[0m\n\u001b[1;32m    893\u001b[0m             \u001b[0;32mexcept\u001b[0m \u001b[0mKeyboardInterrupt\u001b[0m\u001b[0;34m:\u001b[0m\u001b[0;34m\u001b[0m\u001b[0;34m\u001b[0m\u001b[0m\n\u001b[1;32m    894\u001b[0m                 \u001b[0;31m# re-raise KeyboardInterrupt, to truncate traceback\u001b[0m\u001b[0;34m\u001b[0m\u001b[0;34m\u001b[0m\u001b[0m\n\u001b[0;32m--> 895\u001b[0;31m                 \u001b[0;32mraise\u001b[0m \u001b[0mKeyboardInterrupt\u001b[0m\u001b[0;34m(\u001b[0m\u001b[0;34m\"Interrupted by user\"\u001b[0m\u001b[0;34m)\u001b[0m \u001b[0;32mfrom\u001b[0m \u001b[0;32mNone\u001b[0m\u001b[0;34m\u001b[0m\u001b[0;34m\u001b[0m\u001b[0m\n\u001b[0m\u001b[1;32m    896\u001b[0m             \u001b[0;32mexcept\u001b[0m \u001b[0mException\u001b[0m \u001b[0;32mas\u001b[0m \u001b[0me\u001b[0m\u001b[0;34m:\u001b[0m\u001b[0;34m\u001b[0m\u001b[0;34m\u001b[0m\u001b[0m\n\u001b[1;32m    897\u001b[0m                 \u001b[0mself\u001b[0m\u001b[0;34m.\u001b[0m\u001b[0mlog\u001b[0m\u001b[0;34m.\u001b[0m\u001b[0mwarning\u001b[0m\u001b[0;34m(\u001b[0m\u001b[0;34m\"Invalid Message:\"\u001b[0m\u001b[0;34m,\u001b[0m \u001b[0mexc_info\u001b[0m\u001b[0;34m=\u001b[0m\u001b[0;32mTrue\u001b[0m\u001b[0;34m)\u001b[0m\u001b[0;34m\u001b[0m\u001b[0;34m\u001b[0m\u001b[0m\n",
            "\u001b[0;31mKeyboardInterrupt\u001b[0m: Interrupted by user"
          ]
        }
      ]
    },
    {
      "cell_type": "markdown",
      "source": [],
      "metadata": {
        "id": "YwGTo-j4tOOS"
      }
    }
  ]
}