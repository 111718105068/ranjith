{
  "nbformat": 4,
  "nbformat_minor": 0,
  "metadata": {
    "colab": {
      "provenance": [],
      "authorship_tag": "ABX9TyNdhkoVj1+d+36pH0JB1UFp",
      "include_colab_link": true
    },
    "kernelspec": {
      "name": "python3",
      "display_name": "Python 3"
    },
    "language_info": {
      "name": "python"
    }
  },
  "cells": [
    {
      "cell_type": "markdown",
      "metadata": {
        "id": "view-in-github",
        "colab_type": "text"
      },
      "source": [
        "<a href=\"https://colab.research.google.com/github/111718105068/ranjith/blob/main/day9_practice_exercies.ipynb\" target=\"_parent\"><img src=\"https://colab.research.google.com/assets/colab-badge.svg\" alt=\"Open In Colab\"/></a>"
      ]
    },
    {
      "cell_type": "markdown",
      "source": [],
      "metadata": {
        "id": "Prj26q_BDfgk"
      }
    },
    {
      "cell_type": "code",
      "execution_count": 3,
      "metadata": {
        "colab": {
          "base_uri": "https://localhost:8080/"
        },
        "id": "Gez1HghmCHQ_",
        "outputId": "0d03c69c-6c09-4c28-bcec-83c8f48e0db2"
      },
      "outputs": [
        {
          "output_type": "stream",
          "name": "stdout",
          "text": [
            "Country with Maximum Gold: US\n",
            "Countries with more than 20 Gold: ['GBR' 'China' 'RUS' 'US']\n",
            "GBR - Gold Medals: 29\n",
            "China - Gold Medals: 38\n",
            "RUS - Gold Medals: 24\n",
            "US - Gold Medals: 46\n",
            "KOR - Gold Medals: 13\n",
            "JPN - Gold Medals: 7\n",
            "GER - Gold Medals: 11\n",
            "GBR - Total Medals: 65\n",
            "China - Total Medals: 88\n",
            "RUS - Total Medals: 81\n",
            "US - Total Medals: 103\n",
            "KOR - Total Medals: 28\n",
            "JPN - Total Medals: 38\n",
            "GER - Total Medals: 36\n"
          ]
        }
      ],
      "source": [
        "import numpy as np\n",
        "\n",
        "# Dataset\n",
        "olympic_country = np.array(['GBR', 'China', 'RUS', 'US', 'KOR', 'JPN', 'GER'])\n",
        "olympic_country_gold = np.array([29, 38, 24, 46, 13, 7, 11])\n",
        "olympic_country_silver = np.array([17, 28, 25, 28, 8, 14, 11])\n",
        "olympic_country_bronze = np.array([19, 22, 32, 29, 7, 17, 14])\n",
        "\n",
        "# 1. Find the country index with the maximum gold\n",
        "max_gold_index = np.argmax(olympic_country_gold)\n",
        "\n",
        "# 2. Print the country with the maximum gold\n",
        "country_with_max_gold = olympic_country[max_gold_index]\n",
        "print(\"Country with Maximum Gold:\", country_with_max_gold)\n",
        "\n",
        "# 3. Find countries with more than 20 gold\n",
        "countries_with_more_than_20_gold = olympic_country[olympic_country_gold > 20]\n",
        "print(\"Countries with more than 20 Gold:\", countries_with_more_than_20_gold)\n",
        "\n",
        "# 4.Evaluate the dataset and print the medals:\n",
        "total_medals = olympic_country_gold + olympic_country_silver + olympic_country_bronze\n",
        "\n",
        "# 1. Print each country name with the number of gold medals\n",
        "for i in range(len(olympic_country)):\n",
        "    print(f\"{olympic_country[i]} - Gold Medals: {olympic_country_gold[i]}\")\n",
        "\n",
        "# 2. Print each country name with the total number of medals\n",
        "for i in range(len(olympic_country)):\n",
        "    print(f\"{olympic_country[i]} - Total Medals: {total_medals[i]}\")\n"
      ]
    },
    {
      "cell_type": "markdown",
      "source": [
        "# 1. Create a 3x3x3 array with random values"
      ],
      "metadata": {
        "id": "qkoQAtuEFcZn"
      }
    },
    {
      "cell_type": "code",
      "source": [
        "import numpy as np\n",
        "random_array = np.random.rand(3, 3, 3)\n",
        "print(random_array)\n"
      ],
      "metadata": {
        "colab": {
          "base_uri": "https://localhost:8080/"
        },
        "id": "RkUyBN7QESZ5",
        "outputId": "fe9e8004-9aa2-401c-8fd8-f6af0e5c498e"
      },
      "execution_count": 4,
      "outputs": [
        {
          "output_type": "stream",
          "name": "stdout",
          "text": [
            "[[[0.96976892 0.10867972 0.76986967]\n",
            "  [0.66094704 0.83783109 0.7218387 ]\n",
            "  [0.92752031 0.34887191 0.44603386]]\n",
            "\n",
            " [[0.82530319 0.99139393 0.1426972 ]\n",
            "  [0.15550119 0.25663573 0.22241814]\n",
            "  [0.38750795 0.3288461  0.79265271]]\n",
            "\n",
            " [[0.14769995 0.65135676 0.45757092]\n",
            "  [0.95769996 0.90612808 0.32784331]\n",
            "  [0.81346405 0.17337667 0.43878024]]]\n"
          ]
        }
      ]
    },
    {
      "cell_type": "markdown",
      "source": [
        "# 2.Create a 5x5 matrix with values 1,2,3,4 just below the diagonal"
      ],
      "metadata": {
        "id": "H4m6lZwFF2UT"
      }
    },
    {
      "cell_type": "code",
      "source": [
        "import numpy as np\n",
        "matrix = np.diag(1 + np.arange(4), k=-1)\n",
        "print(matrix)\n"
      ],
      "metadata": {
        "colab": {
          "base_uri": "https://localhost:8080/"
        },
        "id": "95xCEj5VL-fu",
        "outputId": "72239034-564b-482d-ac47-8c2333374aa8"
      },
      "execution_count": 7,
      "outputs": [
        {
          "output_type": "stream",
          "name": "stdout",
          "text": [
            "[[0 0 0 0 0]\n",
            " [1 0 0 0 0]\n",
            " [0 2 0 0 0]\n",
            " [0 0 3 0 0]\n",
            " [0 0 0 4 0]]\n"
          ]
        }
      ]
    },
    {
      "cell_type": "markdown",
      "source": [
        "# 3.Create a 8x8 matrix and fill it with a checkerboard pattern"
      ],
      "metadata": {
        "id": "hEb-hjsAMNcF"
      }
    },
    {
      "cell_type": "code",
      "source": [
        "import numpy as np\n",
        "checkerboard = np.zeros((8, 8), dtype=int)\n",
        "checkerboard[1::2, ::2] = 1\n",
        "checkerboard[::2, 1::2] = 1\n",
        "print(checkerboard)\n"
      ],
      "metadata": {
        "colab": {
          "base_uri": "https://localhost:8080/"
        },
        "id": "lbzFi-9wMVsK",
        "outputId": "1fae1bca-3ac1-4ad1-9f25-2bf214cd72fb"
      },
      "execution_count": 8,
      "outputs": [
        {
          "output_type": "stream",
          "name": "stdout",
          "text": [
            "[[0 1 0 1 0 1 0 1]\n",
            " [1 0 1 0 1 0 1 0]\n",
            " [0 1 0 1 0 1 0 1]\n",
            " [1 0 1 0 1 0 1 0]\n",
            " [0 1 0 1 0 1 0 1]\n",
            " [1 0 1 0 1 0 1 0]\n",
            " [0 1 0 1 0 1 0 1]\n",
            " [1 0 1 0 1 0 1 0]]\n"
          ]
        }
      ]
    },
    {
      "cell_type": "markdown",
      "source": [
        "# 4. Normalize a 5x5 random matrix"
      ],
      "metadata": {
        "id": "chyflRm8McBC"
      }
    },
    {
      "cell_type": "code",
      "source": [
        "import numpy as np\n",
        "random_matrix = np.random.rand(5, 5)\n",
        "normalized_matrix = (random_matrix - random_matrix.min()) / (random_matrix.max() - random_matrix.min())\n",
        "print(normalized_matrix)\n"
      ],
      "metadata": {
        "colab": {
          "base_uri": "https://localhost:8080/"
        },
        "id": "SzWlZNZfMihL",
        "outputId": "2e33da9a-961d-4486-f652-77c26eaa79c2"
      },
      "execution_count": 9,
      "outputs": [
        {
          "output_type": "stream",
          "name": "stdout",
          "text": [
            "[[0.32725492 0.85417589 0.40392289 0.12759063 0.31147349]\n",
            " [0.09842364 0.19767669 0.02371186 0.16856115 0.87362668]\n",
            " [0.         0.9171215  0.75592521 0.76979245 0.60917395]\n",
            " [0.33190195 0.4513401  0.95142485 0.02752385 0.34483906]\n",
            " [0.32799245 0.44896507 0.1269251  1.         0.88262722]]\n"
          ]
        }
      ]
    },
    {
      "cell_type": "markdown",
      "source": [
        "# 5. How to find common values between two arrays?"
      ],
      "metadata": {
        "id": "mX_3UuRWMrMT"
      }
    },
    {
      "cell_type": "code",
      "source": [
        "import numpy as np\n",
        "array1 = np.array([1, 2, 3, 4, 5])\n",
        "array2 = np.array([3, 4, 5, 6, 7])\n",
        "common_values = np.intersect1d(array1, array2)\n",
        "print(common_values)\n"
      ],
      "metadata": {
        "colab": {
          "base_uri": "https://localhost:8080/"
        },
        "id": "7FpxLR7rMtmy",
        "outputId": "bc8f0171-8428-48e1-a83c-7e25bde9d981"
      },
      "execution_count": 10,
      "outputs": [
        {
          "output_type": "stream",
          "name": "stdout",
          "text": [
            "[3 4 5]\n"
          ]
        }
      ]
    },
    {
      "cell_type": "markdown",
      "source": [
        "# 6. How to get the dates of yesterday, today and tomorrow?"
      ],
      "metadata": {
        "id": "nE8QrMoeMyoN"
      }
    },
    {
      "cell_type": "code",
      "source": [
        "from datetime import datetime, timedelta\n",
        "\n",
        "today = datetime.now()\n",
        "yesterday = today - timedelta(days=1)\n",
        "tomorrow = today + timedelta(days=1)\n",
        "\n",
        "print(\"Yesterday:\", yesterday.strftime(\"%Y-%m-%d\"))\n",
        "print(\"Today:\", today.strftime(\"%Y-%m-%d\"))\n",
        "print(\"Tomorrow:\", tomorrow.strftime(\"%Y-%m-%d\"))\n"
      ],
      "metadata": {
        "colab": {
          "base_uri": "https://localhost:8080/"
        },
        "id": "y8Rnb1raM3op",
        "outputId": "0d674950-5400-4faa-b579-50c98187c440"
      },
      "execution_count": 11,
      "outputs": [
        {
          "output_type": "stream",
          "name": "stdout",
          "text": [
            "Yesterday: 2023-09-20\n",
            "Today: 2023-09-21\n",
            "Tomorrow: 2023-09-22\n"
          ]
        }
      ]
    },
    {
      "cell_type": "markdown",
      "source": [
        "# 7. Consider two random array A and B, check if they are equal"
      ],
      "metadata": {
        "id": "2E3Y4qN-NCxy"
      }
    },
    {
      "cell_type": "code",
      "source": [
        "import numpy as np\n",
        "A = np.array([1, 2, 3])\n",
        "B = np.array([1, 2, 3,4])\n",
        "are_equal = np.array_equal(A, B)\n",
        "\n",
        "if are_equal:\n",
        "    print(\"Arrays A and B are equal.\")\n",
        "else:\n",
        "    print(\"Arrays A and B are not equal.\")\n"
      ],
      "metadata": {
        "colab": {
          "base_uri": "https://localhost:8080/"
        },
        "id": "k6rdsQNIM9Z1",
        "outputId": "da14499b-82c9-4def-9566-b61009eda9ba"
      },
      "execution_count": 13,
      "outputs": [
        {
          "output_type": "stream",
          "name": "stdout",
          "text": [
            "Arrays A and B are not equal.\n"
          ]
        }
      ]
    },
    {
      "cell_type": "markdown",
      "source": [
        "# 8.Create random vector of size 10 and replace the maximum value by 0"
      ],
      "metadata": {
        "id": "wiuOKjMmNOjM"
      }
    },
    {
      "cell_type": "code",
      "source": [
        "import numpy as np\n",
        "random_vector = np.random.rand(10)\n",
        "max_value_index = np.argmax(random_vector)\n",
        "random_vector[max_value_index] = 0\n",
        "print(random_vector)\n"
      ],
      "metadata": {
        "colab": {
          "base_uri": "https://localhost:8080/"
        },
        "id": "gZoAc5TSNZys",
        "outputId": "452cac68-8a31-4547-f142-c7f689a299b0"
      },
      "execution_count": 14,
      "outputs": [
        {
          "output_type": "stream",
          "name": "stdout",
          "text": [
            "[0.77888389 0.74244377 0.02946233 0.         0.19664465 0.10311636\n",
            " 0.02909245 0.48020437 0.67302053 0.01956081]\n"
          ]
        }
      ]
    },
    {
      "cell_type": "markdown",
      "source": [
        "# 9. How to print all the values of an array?"
      ],
      "metadata": {
        "id": "OqWmcvEsNduO"
      }
    },
    {
      "cell_type": "code",
      "source": [
        "import numpy as np\n",
        "arr = np.array([1, 2, 3, 4, 5])\n",
        "for value in arr:\n",
        "    print(value)\n"
      ],
      "metadata": {
        "colab": {
          "base_uri": "https://localhost:8080/"
        },
        "id": "1li-Bsb3NjiX",
        "outputId": "21e3161b-b473-422b-864d-642c919e2110"
      },
      "execution_count": 15,
      "outputs": [
        {
          "output_type": "stream",
          "name": "stdout",
          "text": [
            "1\n",
            "2\n",
            "3\n",
            "4\n",
            "5\n"
          ]
        }
      ]
    },
    {
      "cell_type": "markdown",
      "source": [
        "# **10.Subtract the mean of each row of a matrix**"
      ],
      "metadata": {
        "id": "iw4uwYqZNwWY"
      }
    },
    {
      "cell_type": "code",
      "source": [
        "import numpy as np\n",
        "mat = np.random.rand(3, 3)  # Replace with your matrix\n",
        "row_means = np.mean(mat, axis=1)\n",
        "result = mat - row_means[:, np.newaxis]\n",
        "print(result)\n"
      ],
      "metadata": {
        "colab": {
          "base_uri": "https://localhost:8080/"
        },
        "id": "1W3O1VrPN3p1",
        "outputId": "4da44a29-dfef-4048-9e92-07611ff95200"
      },
      "execution_count": 16,
      "outputs": [
        {
          "output_type": "stream",
          "name": "stdout",
          "text": [
            "[[-0.1651407   0.1818472  -0.0167065 ]\n",
            " [ 0.118241    0.29139001 -0.409631  ]\n",
            " [-0.2669139   0.34449004 -0.07757615]]\n"
          ]
        }
      ]
    },
    {
      "cell_type": "markdown",
      "source": [
        "# 11.Consider a given vector, how to add 1 to each element indexed by a second vector (be careful with repeated indices)?"
      ],
      "metadata": {
        "id": "8O7vK8sqN-Hm"
      }
    },
    {
      "cell_type": "code",
      "source": [
        "import numpy as np\n",
        "A = np.array([1, 2, 3, 4, 5])\n",
        "B = np.array([1, 3, 4])  # Indices where you want to add 1\n",
        "A[B] += 1\n",
        "print(A)\n"
      ],
      "metadata": {
        "colab": {
          "base_uri": "https://localhost:8080/"
        },
        "id": "k8QwkljWOE_Z",
        "outputId": "152252d5-8df6-4ae7-c33b-35d6c3268ab9"
      },
      "execution_count": 17,
      "outputs": [
        {
          "output_type": "stream",
          "name": "stdout",
          "text": [
            "[1 3 3 5 6]\n"
          ]
        }
      ]
    },
    {
      "cell_type": "markdown",
      "source": [
        "# 12.How to get the diagonal of a dot product?"
      ],
      "metadata": {
        "id": "roHtXAaOOOLy"
      }
    },
    {
      "cell_type": "code",
      "source": [
        "import numpy as np\n",
        "A = np.random.rand(3, 3)\n",
        "B = np.random.rand(3, 3)\n",
        "result = np.diag(np.dot(A, B))\n",
        "print(result)\n"
      ],
      "metadata": {
        "colab": {
          "base_uri": "https://localhost:8080/"
        },
        "id": "kpv6rYTEOWKi",
        "outputId": "dd5e1d67-1a23-4369-a2cb-ba748a919a8c"
      },
      "execution_count": 18,
      "outputs": [
        {
          "output_type": "stream",
          "name": "stdout",
          "text": [
            "[1.06779502 0.31746478 0.23787339]\n"
          ]
        }
      ]
    },
    {
      "cell_type": "markdown",
      "source": [
        "# 13.How to find the most frequent value in an array?"
      ],
      "metadata": {
        "id": "4if8UHOkOiMi"
      }
    },
    {
      "cell_type": "code",
      "source": [
        "import numpy as np\n",
        "\n",
        "x = np.random.randint(0, 10, 50)  # Assuming you have your array\n",
        "\n",
        "# Use bincount to count occurrences of each value in x\n",
        "counts = np.bincount(x)\n",
        "\n",
        "# Find the value with the maximum count\n",
        "most_frequent_value = np.argmax(counts)\n",
        "\n",
        "print(\"Most frequent value:\", most_frequent_value)\n"
      ],
      "metadata": {
        "colab": {
          "base_uri": "https://localhost:8080/"
        },
        "id": "NZuJ5yMuOkKH",
        "outputId": "665f95ac-d84d-4ba2-eaca-53ea107f3eae"
      },
      "execution_count": 23,
      "outputs": [
        {
          "output_type": "stream",
          "name": "stdout",
          "text": [
            "Most frequent value: 6\n"
          ]
        }
      ]
    },
    {
      "cell_type": "markdown",
      "source": [
        "# 14.How to get the n largest values of an array"
      ],
      "metadata": {
        "id": "vHUHeAVKPXVk"
      }
    },
    {
      "cell_type": "code",
      "source": [
        "import numpy as np\n",
        "\n",
        "arr = np.array([23, 45, 12, 67, 89, 34])\n",
        "n = 3  # Number of largest values you want to retrieve\n",
        "indices = np.argsort(arr)[::-1][:n]\n",
        "largest_values = arr[indices]\n",
        "\n",
        "print(\"N largest values:\", largest_values)\n"
      ],
      "metadata": {
        "colab": {
          "base_uri": "https://localhost:8080/"
        },
        "id": "0KfmBlmkPoC1",
        "outputId": "3d4dd3b8-4334-4a13-81f9-0832ea1ed88e"
      },
      "execution_count": 24,
      "outputs": [
        {
          "output_type": "stream",
          "name": "stdout",
          "text": [
            "N largest values: [89 67 45]\n"
          ]
        }
      ]
    },
    {
      "cell_type": "markdown",
      "source": [
        "# 15.How to create a record array from a regular array?"
      ],
      "metadata": {
        "id": "JgD0E1g0PsFG"
      }
    },
    {
      "cell_type": "code",
      "source": [
        "import numpy as np\n",
        "\n",
        "regular_array = np.array([(\"Alice\", 25), (\"Bob\", 30), (\"Charlie\", 35)], dtype=[('name', 'U10'), ('age', int)])\n",
        "record_array = np.rec.array(regular_array)\n",
        "\n",
        "print(record_array)\n"
      ],
      "metadata": {
        "colab": {
          "base_uri": "https://localhost:8080/"
        },
        "id": "kP8E2xYXPw81",
        "outputId": "6c450aa7-0731-4e0b-b740-902daf5632fb"
      },
      "execution_count": 25,
      "outputs": [
        {
          "output_type": "stream",
          "name": "stdout",
          "text": [
            "[('Alice', 25) ('Bob', 30) ('Charlie', 35)]\n"
          ]
        }
      ]
    },
    {
      "cell_type": "markdown",
      "source": [
        "# 16. How to swap two rows of an array?"
      ],
      "metadata": {
        "id": "2ANGy_5KP1tt"
      }
    },
    {
      "cell_type": "code",
      "source": [
        "import numpy as np\n",
        "\n",
        "arr = np.array([[1, 2, 3],\n",
        "                [4, 5, 6],\n",
        "                [7, 8, 9]])\n",
        "\n",
        "# Swap rows 0 and 1\n",
        "arr[[0, 1]] = arr[[1, 0]]\n",
        "\n",
        "print(arr)\n"
      ],
      "metadata": {
        "colab": {
          "base_uri": "https://localhost:8080/"
        },
        "id": "oBPXxk4AP6XT",
        "outputId": "971600ae-6c20-413c-da34-b57f62347137"
      },
      "execution_count": 26,
      "outputs": [
        {
          "output_type": "stream",
          "name": "stdout",
          "text": [
            "[[4 5 6]\n",
            " [1 2 3]\n",
            " [7 8 9]]\n"
          ]
        }
      ]
    },
    {
      "cell_type": "markdown",
      "source": [
        "# 17. Write python code to reshape to the next dimension of numpy array?"
      ],
      "metadata": {
        "id": "VTxeerbbP_8y"
      }
    },
    {
      "cell_type": "code",
      "source": [
        "import numpy as np\n",
        "\n",
        "x = np.array([[23, 34, 121],\n",
        "              [23, 22, 67],\n",
        "              [686, 434, 123]])\n",
        "\n",
        "# Reshape to the next dimension\n",
        "reshaped_array = x.reshape(-1)\n",
        "\n",
        "print(reshaped_array)\n"
      ],
      "metadata": {
        "colab": {
          "base_uri": "https://localhost:8080/"
        },
        "id": "uiFN16FFQFQH",
        "outputId": "4704a661-2072-4475-e06c-d4079112d4af"
      },
      "execution_count": 27,
      "outputs": [
        {
          "output_type": "stream",
          "name": "stdout",
          "text": [
            "[ 23  34 121  23  22  67 686 434 123]\n"
          ]
        }
      ]
    }
  ]
}