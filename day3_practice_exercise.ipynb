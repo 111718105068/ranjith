{
  "nbformat": 4,
  "nbformat_minor": 0,
  "metadata": {
    "colab": {
      "provenance": [],
      "authorship_tag": "ABX9TyMcS1aAii0fRKwDwAifQD62",
      "include_colab_link": true
    },
    "kernelspec": {
      "name": "python3",
      "display_name": "Python 3"
    },
    "language_info": {
      "name": "python"
    }
  },
  "cells": [
    {
      "cell_type": "markdown",
      "metadata": {
        "id": "view-in-github",
        "colab_type": "text"
      },
      "source": [
        "<a href=\"https://colab.research.google.com/github/111718105068/ranjith/blob/main/day3_practice_exercise.ipynb\" target=\"_parent\"><img src=\"https://colab.research.google.com/assets/colab-badge.svg\" alt=\"Open In Colab\"/></a>"
      ]
    },
    {
      "cell_type": "markdown",
      "source": [
        "# **`FILE HANDLING`**"
      ],
      "metadata": {
        "id": "tc7b1xh2tR-I"
      }
    },
    {
      "cell_type": "markdown",
      "source": [
        "# 1. Write a python function that copies a file reading and writing up to 50 characters at a time."
      ],
      "metadata": {
        "id": "W3aJwaBst4Bu"
      }
    },
    {
      "cell_type": "code",
      "source": [
        "def copy_file_chunkwise(source_filename, destination_filename):\n",
        "    try:\n",
        "        with open(source_filename, 'rb') as source_file, open(destination_filename, 'wb') as destination_file:\n",
        "            while True:\n",
        "                chunk = source_file.read(50)  # Read up to 50 characters at a time\n",
        "                if not chunk:\n",
        "                    break\n",
        "                destination_file.write(chunk)\n",
        "        print(f\"File '{source_filename}' copied to '{destination_filename}' successfully.\")\n",
        "    except Exception as e:\n",
        "        print(f\"Error: {e}\")\n",
        "\n",
        "# Example usage:\n",
        "copy_file_chunkwise('source.txt', 'destination.txt')\n"
      ],
      "metadata": {
        "colab": {
          "base_uri": "https://localhost:8080/"
        },
        "id": "U6aXXBU8uFJm",
        "outputId": "1394e2e7-6958-425f-fa0e-b8b6f4aeee7d"
      },
      "execution_count": null,
      "outputs": [
        {
          "output_type": "stream",
          "name": "stdout",
          "text": [
            "File 'source.txt' copied to 'destination.txt' successfully.\n"
          ]
        }
      ]
    },
    {
      "cell_type": "markdown",
      "source": [
        "# 2. Print all numbers present in the text file and print the number of blank spaces in that file."
      ],
      "metadata": {
        "id": "ZCB0kuYaeAjs"
      }
    },
    {
      "cell_type": "code",
      "source": [
        "def num():\n",
        "    file=open('source.txt','r')\n",
        "    count1=0\n",
        "    count2=0\n",
        "    count=file.read()\n",
        "    for i in count:\n",
        "        if i.isdigit():\n",
        "            count1=count1+1\n",
        "        if i[0]== \" \":\n",
        "            count2=count2+1\n",
        "    print(\"The digits in the text file are : \",count1)\n",
        "    print(\"The spaces in the text file are : \",count2)\n",
        "    file.close()\n",
        "\n",
        "num()"
      ],
      "metadata": {
        "id": "e5dsqcx4KJ6A",
        "colab": {
          "base_uri": "https://localhost:8080/"
        },
        "outputId": "89068086-bbd4-42a0-a1cc-f528bac122ed"
      },
      "execution_count": null,
      "outputs": [
        {
          "output_type": "stream",
          "name": "stdout",
          "text": [
            "The digits in the text file are :  0\n",
            "The spaces in the text file are :  44\n"
          ]
        }
      ]
    },
    {
      "cell_type": "markdown",
      "source": [
        "# 3. Write a function called sed that takes as arguments a pattern string, a replacement string. and two filenames; it should read the first file and write the contents into the second file (creating it if necessary). If the pattern string appears anywhere in the file, it should be replaced with the replacement string. If an error occurs while opening, reading, writing. or closing files, your program should catch the exception, print an error message, and exit."
      ],
      "metadata": {
        "id": "WDLX-YPXeJUB"
      }
    },
    {
      "cell_type": "code",
      "source": [
        "\n",
        "def sed(implemention, released, input_file, output_file):\n",
        "    try:\n",
        "        with open(input_file, 'r') as infile, open(output_file, 'w') as outfile:\n",
        "            for line in infile:\n",
        "                modified_line = line.replace(implemention, released)\n",
        "                outfile.write(modified_line)\n",
        "\n",
        "    except FileNotFoundError:\n",
        "        print(f\"Error: One or both of the files '{input_file}' and '{output_file}' not found.\")\n",
        "    except Exception as e:\n",
        "        print(f\"An error occurred: {e}\")\n",
        "    else:\n",
        "        print(f\"Pattern '{pattern}' replaced with '{replacement}' successfully.\")\n",
        "\n",
        "\n",
        "sed('implementation', 'released', \"source.txt\",\"destination.txt\")"
      ],
      "metadata": {
        "id": "wNVxWUmDKP3O",
        "colab": {
          "base_uri": "https://localhost:8080/",
          "height": 367
        },
        "outputId": "3394c3a1-c36a-466c-da00-1b7c9ad52cce"
      },
      "execution_count": null,
      "outputs": [
        {
          "output_type": "error",
          "ename": "NameError",
          "evalue": "ignored",
          "traceback": [
            "\u001b[0;31m---------------------------------------------------------------------------\u001b[0m",
            "\u001b[0;31mNameError\u001b[0m                                 Traceback (most recent call last)",
            "\u001b[0;32m<ipython-input-12-2c84dab81df6>\u001b[0m in \u001b[0;36m<cell line: 16>\u001b[0;34m()\u001b[0m\n\u001b[1;32m     14\u001b[0m \u001b[0;34m\u001b[0m\u001b[0m\n\u001b[1;32m     15\u001b[0m \u001b[0;34m\u001b[0m\u001b[0m\n\u001b[0;32m---> 16\u001b[0;31m \u001b[0msed\u001b[0m\u001b[0;34m(\u001b[0m\u001b[0;34m'implementation'\u001b[0m\u001b[0;34m,\u001b[0m \u001b[0;34m'released'\u001b[0m\u001b[0;34m,\u001b[0m \u001b[0;34m\"source.txt\"\u001b[0m\u001b[0;34m,\u001b[0m\u001b[0;34m\"destination.txt\"\u001b[0m\u001b[0;34m)\u001b[0m\u001b[0;34m\u001b[0m\u001b[0;34m\u001b[0m\u001b[0m\n\u001b[0m",
            "\u001b[0;32m<ipython-input-12-2c84dab81df6>\u001b[0m in \u001b[0;36msed\u001b[0;34m(implemention, released, input_file, output_file)\u001b[0m\n\u001b[1;32m     11\u001b[0m         \u001b[0mprint\u001b[0m\u001b[0;34m(\u001b[0m\u001b[0;34mf\"An error occurred: {e}\"\u001b[0m\u001b[0;34m)\u001b[0m\u001b[0;34m\u001b[0m\u001b[0;34m\u001b[0m\u001b[0m\n\u001b[1;32m     12\u001b[0m     \u001b[0;32melse\u001b[0m\u001b[0;34m:\u001b[0m\u001b[0;34m\u001b[0m\u001b[0;34m\u001b[0m\u001b[0m\n\u001b[0;32m---> 13\u001b[0;31m         \u001b[0mprint\u001b[0m\u001b[0;34m(\u001b[0m\u001b[0;34mf\"Pattern '{pattern}' replaced with '{replacement}' successfully.\"\u001b[0m\u001b[0;34m)\u001b[0m\u001b[0;34m\u001b[0m\u001b[0;34m\u001b[0m\u001b[0m\n\u001b[0m\u001b[1;32m     14\u001b[0m \u001b[0;34m\u001b[0m\u001b[0m\n\u001b[1;32m     15\u001b[0m \u001b[0;34m\u001b[0m\u001b[0m\n",
            "\u001b[0;31mNameError\u001b[0m: name 'pattern' is not defined"
          ]
        }
      ]
    },
    {
      "cell_type": "markdown",
      "source": [
        "# 4. Log File Analysis: You have a log file containing records of user activities on a website. Each line in the file represents a log entry with details like timestamp, user ID, and action performed. Your task is to analyze this log file.\n",
        "\n",
        "a. Write Python code to read the log file and extract specific information, such as the number of unique users or the most common action.\n",
        "\n",
        "b. How would you handle large log files efficiently without loading the entire file into memory?"
      ],
      "metadata": {
        "id": "u4AUbZRqeOgj"
      }
    },
    {
      "cell_type": "code",
      "source": [
        "from collections import Counter\n",
        "unique_users = set()\n",
        "action_count = Counter()\n",
        "log_file_path = 'weblog.txt'\n",
        "try:\n",
        "    with open(log_file_path, 'r') as log_file:\n",
        "        for line in log_file:\n",
        "            parts = line.strip().split(',')\n",
        "            if len(parts) == 3:\n",
        "                timestamp, user_id, action = parts\n",
        "                unique_users.add(user_id)\n",
        "                action_count[action] += 1\n",
        "\n",
        "    print(f\"Number of unique users: {len(unique_users)}\")\n",
        "    most_common_action, most_common_count = action_count.most_common(1)[0]\n",
        "    print(f\"Most common action: {most_common_action} (count: {most_common_count})\")\n",
        "\n",
        "except FileNotFoundError:\n",
        "    print(f\"Log file '{log_file_path}' not found.\")\n",
        "except Exception as e:\n",
        "    print(f\"Error: {str(e)}\")"
      ],
      "metadata": {
        "id": "qF_ynk4WQd2K",
        "colab": {
          "base_uri": "https://localhost:8080/"
        },
        "outputId": "5be6b904-a20b-4066-ed2c-ba74d868e078"
      },
      "execution_count": null,
      "outputs": [
        {
          "output_type": "stream",
          "name": "stdout",
          "text": [
            "Number of unique users: 1\n",
            "Most common action:  branch=c5558820f367665758d4d719b7553a02ff4954e0 (count: 3)\n"
          ]
        }
      ]
    },
    {
      "cell_type": "markdown",
      "source": [
        "# *5. Text File Search and Replace: You have a text file with a large amount of text, and you want to search for specific words or phrases and replace them with new content.*\n",
        "\n",
        "a. Write Python code to search for and replace text within a text file.\n",
        "\n",
        "b. How would you handle cases where you need to perform multiple replacements in a single pass?"
      ],
      "metadata": {
        "id": "4CzW86TGeeFr"
      }
    },
    {
      "cell_type": "code",
      "source": [
        "def search_and_replace(input_file, output_file, search_text, replace_text):\n",
        "    try:\n",
        "        with open(input_file, 'r') as infile, open(output_file, 'w') as outfile:\n",
        "            for line in infile:\n",
        "                modified_line = line.replace(search_text, replace_text)\n",
        "                outfile.write(modified_line)\n",
        "\n",
        "    except FileNotFoundError:\n",
        "        print(f\"Error: Input file '{input_file}' not found.\")\n",
        "    except Exception as e:\n",
        "        print(f\"An error occurred: {e}\")\n",
        "    else:\n",
        "        print(f\"Text '{search_text}' replaced with '{replace_text}' successfully.\")\n",
        "\n",
        "search_and_replace(\"source.txt\",\"three.txt\",\"a way of exit or entranc\",\"Achuthan\")"
      ],
      "metadata": {
        "id": "S3EhXepVRtEG",
        "colab": {
          "base_uri": "https://localhost:8080/"
        },
        "outputId": "c4ac13e3-06ac-42cc-a1a3-e9dd427479a0"
      },
      "execution_count": null,
      "outputs": [
        {
          "output_type": "stream",
          "name": "stdout",
          "text": [
            "Text 'a way of exit or entranc' replaced with 'Achuthan' successfully.\n"
          ]
        }
      ]
    },
    {
      "cell_type": "code",
      "source": [
        "def search_and_replace_multiple(input_file, output_file, replace_dict):\n",
        "    try:\n",
        "        with open(input_file, 'r') as infile, open(output_file, 'w') as outfile:\n",
        "            for line in infile:\n",
        "                for search_text, replace_text in replace_dict.items():\n",
        "                    line = line.replace(search_text, replace_text)\n",
        "                outfile.write(line)\n",
        "\n",
        "    except FileNotFoundError:\n",
        "        print(f\"Error: Input file '{input_file}' not found.\")\n",
        "    except Exception as e:\n",
        "        print(f\"An error occurred: {e}\")\n",
        "    else:\n",
        "        print(\"Multiple replacements completed successfully.\")\n",
        "\n",
        "replace_dict = {\n",
        "    \"a road, path\": \"ranjith\",\n",
        "    \"building\": \"MPHASIS\",\n",
        "    }\n",
        "\n",
        "search_and_replace_multiple(\"source.txt\", \"three.txt\", replace_dict)"
      ],
      "metadata": {
        "colab": {
          "base_uri": "https://localhost:8080/"
        },
        "id": "S3Lf0loEIJhm",
        "outputId": "d9dc8f91-dc74-40bf-a507-a8eefd11babf"
      },
      "execution_count": null,
      "outputs": [
        {
          "output_type": "stream",
          "name": "stdout",
          "text": [
            "Multiple replacements completed successfully.\n"
          ]
        }
      ]
    },
    {
      "cell_type": "markdown",
      "source": [
        "# 6. Write a Python script that concatenates the contents of multiple text files into a single output file. Allow the user to specify the input files and the output file."
      ],
      "metadata": {
        "id": "BxpuzWLAfrtI"
      }
    },
    {
      "cell_type": "code",
      "source": [
        "def concatenate_files(input_files, output_file):\n",
        "    try:\n",
        "        with open(output_file, 'w') as output:\n",
        "            for input_file in input_files:\n",
        "                with open(input_file, 'r') as infile:\n",
        "                    output.write(infile.read())\n",
        "\n",
        "    except FileNotFoundError:\n",
        "        print(\"Error: One or more input files not found.\")\n",
        "    except Exception as e:\n",
        "        print(f\"An error occurred: {e}\")\n",
        "    else:\n",
        "        print(\"Files concatenated successfully.\")\n",
        "\n",
        "def get_input_files():\n",
        "    input_files = []\n",
        "    while True:\n",
        "        file_path = input(\"Enter the path of an input file (or 'done' to finish): \")\n",
        "        if file_path.lower() == 'done':\n",
        "            break\n",
        "        input_files.append(file_path)\n",
        "    return input_files\n",
        "\n",
        "input_files = get_input_files()\n",
        "output_file = input(\"Enter the path of the output file: \")\n",
        "\n",
        "concatenate_files(input_files, output_file)"
      ],
      "metadata": {
        "colab": {
          "base_uri": "https://localhost:8080/"
        },
        "id": "R6tVJQN1h7PO",
        "outputId": "b30890e3-e9e6-454e-d8d2-70b120c9a535"
      },
      "execution_count": null,
      "outputs": [
        {
          "output_type": "stream",
          "name": "stdout",
          "text": [
            "Enter the path of an input file (or 'done' to finish): done\n",
            "Enter the path of the output file: https://colab.research.google.com/drive/1\n",
            "Error: One or more input files not found.\n"
          ]
        }
      ]
    },
    {
      "cell_type": "markdown",
      "source": [],
      "metadata": {
        "id": "NfD3Vs2wKPkU"
      }
    },
    {
      "cell_type": "markdown",
      "source": [
        "# 7. You are given a text file named input ist commaining a list of works, one wond per line. Your task is to create a Python program that reads the contents of inpot.txt, processes the words and writes the result to an outpot file named output.txt.\n"
      ],
      "metadata": {
        "id": "D-PfGCy0fy5_"
      }
    },
    {
      "cell_type": "code",
      "source": [
        "def read_words_and_calculate_lengths(input_file):\n",
        "  word_lengths = {}\n",
        "  with open(input_file, \"r\") as file:\n",
        "    for line in file:\n",
        "      word = line.strip()\n",
        "      word_lengths[word] = len(word)\n",
        "  return word_lengths\n",
        "\n",
        "\n",
        "def write_word_lengths_to_file(word_lengths, output_file):\n",
        "  with open(output_file, \"w\") as file:\n",
        "    for word, length in word_lengths.items():\n",
        "      file.write(f\"{word}: {length}\\n\")\n",
        "\n",
        "\n",
        "def main():\n",
        "  input_file = input(\"Enter the input file name: \")\n",
        "  output_file = input(\"Enter the output file name: \")\n",
        "\n",
        "  word_lengths = read_words_and_calculate_lengths(input_file)\n",
        "  write_word_lengths_to_file(word_lengths, output_file)\n",
        "\n",
        "\n",
        "if __name__ == \"__main__\":\n",
        "  main()\n",
        "\n"
      ],
      "metadata": {
        "colab": {
          "base_uri": "https://localhost:8080/"
        },
        "id": "hw76kqNOieK5",
        "outputId": "671a8a22-b7bc-4286-b074-ba49a59bd4c1"
      },
      "execution_count": null,
      "outputs": [
        {
          "name": "stdout",
          "output_type": "stream",
          "text": [
            "Enter the input file name: source.txt\n",
            "Enter the output file name: three.txt\n"
          ]
        }
      ]
    },
    {
      "cell_type": "code",
      "source": [],
      "metadata": {
        "id": "TrCGx8lYh8_2"
      },
      "execution_count": null,
      "outputs": []
    },
    {
      "cell_type": "markdown",
      "source": [
        "# **8. Assume that you are developing a student gradebook system for a school. The system should allow teachers to input student grades for various subjects, store the data in files, and provide students with the ability to view their grades.**\n",
        "\n",
        "Design a Python program that accomplishes the following tasks:\n",
        "\n",
        "i. Teachers should be able to input grades for students in different subjects.\n",
        "ii. Store the student grade data in separate text files forch subject.\n",
        "iii. Students should be able to view their grades for each inject\n",
        "\n",
        "iv. Implement error handling for file operations, such as file not found or permission issues."
      ],
      "metadata": {
        "id": "6oqLbCXUf-ZQ"
      }
    },
    {
      "cell_type": "code",
      "source": [
        "def add_grades(subject, student_name, grade):\n",
        "  \"\"\"\n",
        "  Add a grade for a student in a subject.\n",
        "\n",
        "  Args:\n",
        "    subject: The subject name.\n",
        "    student_name: The student name.\n",
        "    grade: The grade.\n",
        "\n",
        "  Returns:\n",
        "    True if the grade was added successfully, False otherwise.\n",
        "  \"\"\"\n",
        "  with open(f\"grades/{subject}.txt\", \"a\") as file:\n",
        "    file.write(f\"{student_name} {grade}\\n\")\n",
        "  return True\n",
        "\n",
        "\n",
        "def view_grades(subject, student_name):\n",
        "  \"\"\"\n",
        "  View the grades for a student in a subject.\n",
        "\n",
        "  Args:\n",
        "    subject: The subject name.\n",
        "    student_name: The student name.\n",
        "\n",
        "  Returns:\n",
        "    A list of grades for the student in the subject.\n",
        "  \"\"\"\n",
        "  with open(f\"grades/{subject}.txt\", \"r\") as file:\n",
        "    grades = []\n",
        "    for line in file:\n",
        "      split_line = line.split(\" \")\n",
        "      if student_name == split_line[0]:\n",
        "        grades.append(split_line[1])\n",
        "  return grades\n",
        "\n",
        "\n",
        "def main():\n",
        "  while True:\n",
        "    print(\"1. Add grades\")\n",
        "    print(\"2. View grades\")\n",
        "    print(\"3. Exit\")\n",
        "\n",
        "    choice = input(\"Enter your choice: \")\n",
        "\n",
        "    if choice == \"1\":\n",
        "      subject = input(\"Enter the subject name: \")\n",
        "      student_name = input(\"Enter the student name: \")\n",
        "      grade = input(\"Enter the grade: \")\n",
        "\n",
        "      if add_grades(subject, student_name, grade):\n",
        "        print(\"Grade added successfully\")\n",
        "      else:\n",
        "        print(\"Error adding grade\")\n",
        "\n",
        "    elif choice == \"2\":\n",
        "      subject = input(\"Enter the subject name: \")\n",
        "      student_name = input(\"Enter the student name: \")\n",
        "\n",
        "      grades = view_grades(subject, student_name)\n",
        "\n",
        "      if grades:\n",
        "        print(f\"The grades for {student_name} in {subject} are:\")\n",
        "        for grade in grades:\n",
        "          print(grade)\n",
        "      else:\n",
        "        print(\"No grades found for student\")\n",
        "\n",
        "    elif choice == \"3\":\n",
        "      break\n",
        "\n",
        "    else:\n",
        "      print(\"Invalid choice\")\n",
        "\n",
        "\n",
        "if __name__ == \"__main__\":\n",
        "  main()\n",
        "\n"
      ],
      "metadata": {
        "colab": {
          "base_uri": "https://localhost:8080/",
          "height": 477
        },
        "id": "qkB0XSCNh-Ul",
        "outputId": "629e8220-24bc-4336-e5b6-bb17bc923d44"
      },
      "execution_count": null,
      "outputs": [
        {
          "name": "stdout",
          "output_type": "stream",
          "text": [
            "1. Add grades\n",
            "2. View grades\n",
            "3. Exit\n",
            "Enter your choice: 2\n",
            "Enter the subject name: maths\n",
            "Enter the student name: rahul\n"
          ]
        },
        {
          "output_type": "error",
          "ename": "FileNotFoundError",
          "evalue": "ignored",
          "traceback": [
            "\u001b[0;31m---------------------------------------------------------------------------\u001b[0m",
            "\u001b[0;31mFileNotFoundError\u001b[0m                         Traceback (most recent call last)",
            "\u001b[0;32m<ipython-input-24-321ba18e15cf>\u001b[0m in \u001b[0;36m<cell line: 76>\u001b[0;34m()\u001b[0m\n\u001b[1;32m     75\u001b[0m \u001b[0;34m\u001b[0m\u001b[0m\n\u001b[1;32m     76\u001b[0m \u001b[0;32mif\u001b[0m \u001b[0m__name__\u001b[0m \u001b[0;34m==\u001b[0m \u001b[0;34m\"__main__\"\u001b[0m\u001b[0;34m:\u001b[0m\u001b[0;34m\u001b[0m\u001b[0;34m\u001b[0m\u001b[0m\n\u001b[0;32m---> 77\u001b[0;31m   \u001b[0mmain\u001b[0m\u001b[0;34m(\u001b[0m\u001b[0;34m)\u001b[0m\u001b[0;34m\u001b[0m\u001b[0;34m\u001b[0m\u001b[0m\n\u001b[0m\u001b[1;32m     78\u001b[0m \u001b[0;34m\u001b[0m\u001b[0m\n",
            "\u001b[0;32m<ipython-input-24-321ba18e15cf>\u001b[0m in \u001b[0;36mmain\u001b[0;34m()\u001b[0m\n\u001b[1;32m     58\u001b[0m       \u001b[0mstudent_name\u001b[0m \u001b[0;34m=\u001b[0m \u001b[0minput\u001b[0m\u001b[0;34m(\u001b[0m\u001b[0;34m\"Enter the student name: \"\u001b[0m\u001b[0;34m)\u001b[0m\u001b[0;34m\u001b[0m\u001b[0;34m\u001b[0m\u001b[0m\n\u001b[1;32m     59\u001b[0m \u001b[0;34m\u001b[0m\u001b[0m\n\u001b[0;32m---> 60\u001b[0;31m       \u001b[0mgrades\u001b[0m \u001b[0;34m=\u001b[0m \u001b[0mview_grades\u001b[0m\u001b[0;34m(\u001b[0m\u001b[0msubject\u001b[0m\u001b[0;34m,\u001b[0m \u001b[0mstudent_name\u001b[0m\u001b[0;34m)\u001b[0m\u001b[0;34m\u001b[0m\u001b[0;34m\u001b[0m\u001b[0m\n\u001b[0m\u001b[1;32m     61\u001b[0m \u001b[0;34m\u001b[0m\u001b[0m\n\u001b[1;32m     62\u001b[0m       \u001b[0;32mif\u001b[0m \u001b[0mgrades\u001b[0m\u001b[0;34m:\u001b[0m\u001b[0;34m\u001b[0m\u001b[0;34m\u001b[0m\u001b[0m\n",
            "\u001b[0;32m<ipython-input-24-321ba18e15cf>\u001b[0m in \u001b[0;36mview_grades\u001b[0;34m(subject, student_name)\u001b[0m\n\u001b[1;32m     27\u001b[0m     \u001b[0mA\u001b[0m \u001b[0mlist\u001b[0m \u001b[0mof\u001b[0m \u001b[0mgrades\u001b[0m \u001b[0;32mfor\u001b[0m \u001b[0mthe\u001b[0m \u001b[0mstudent\u001b[0m \u001b[0;32min\u001b[0m \u001b[0mthe\u001b[0m \u001b[0msubject\u001b[0m\u001b[0;34m.\u001b[0m\u001b[0;34m\u001b[0m\u001b[0;34m\u001b[0m\u001b[0m\n\u001b[1;32m     28\u001b[0m   \"\"\"\n\u001b[0;32m---> 29\u001b[0;31m   \u001b[0;32mwith\u001b[0m \u001b[0mopen\u001b[0m\u001b[0;34m(\u001b[0m\u001b[0;34mf\"grades/{subject}.txt\"\u001b[0m\u001b[0;34m,\u001b[0m \u001b[0;34m\"r\"\u001b[0m\u001b[0;34m)\u001b[0m \u001b[0;32mas\u001b[0m \u001b[0mfile\u001b[0m\u001b[0;34m:\u001b[0m\u001b[0;34m\u001b[0m\u001b[0;34m\u001b[0m\u001b[0m\n\u001b[0m\u001b[1;32m     30\u001b[0m     \u001b[0mgrades\u001b[0m \u001b[0;34m=\u001b[0m \u001b[0;34m[\u001b[0m\u001b[0;34m]\u001b[0m\u001b[0;34m\u001b[0m\u001b[0;34m\u001b[0m\u001b[0m\n\u001b[1;32m     31\u001b[0m     \u001b[0;32mfor\u001b[0m \u001b[0mline\u001b[0m \u001b[0;32min\u001b[0m \u001b[0mfile\u001b[0m\u001b[0;34m:\u001b[0m\u001b[0;34m\u001b[0m\u001b[0;34m\u001b[0m\u001b[0m\n",
            "\u001b[0;31mFileNotFoundError\u001b[0m: [Errno 2] No such file or directory: 'grades/maths.txt'"
          ]
        }
      ]
    },
    {
      "cell_type": "markdown",
      "source": [],
      "metadata": {
        "id": "YwGTo-j4tOOS"
      }
    }
  ]
}