{
  "nbformat": 4,
  "nbformat_minor": 0,
  "metadata": {
    "colab": {
      "provenance": [],
      "authorship_tag": "ABX9TyPPF9TNnbIFhSMXy0u4w53w",
      "include_colab_link": true
    },
    "kernelspec": {
      "name": "python3",
      "display_name": "Python 3"
    },
    "language_info": {
      "name": "python"
    }
  },
  "cells": [
    {
      "cell_type": "markdown",
      "metadata": {
        "id": "view-in-github",
        "colab_type": "text"
      },
      "source": [
        "<a href=\"https://colab.research.google.com/github/111718105068/ranjith/blob/main/day6_practice_exercies.ipynb\" target=\"_parent\"><img src=\"https://colab.research.google.com/assets/colab-badge.svg\" alt=\"Open In Colab\"/></a>"
      ]
    },
    {
      "cell_type": "markdown",
      "source": [
        "# 1. Write a python program to create a base class \"Shape\" with methods to calculate area and perimeter. Then, create derived classes \"Circle\" and \"Rectangle\" that inherit from the base class and calculate their respective areas and perimeters. Demonstrate their usage in a program.\n",
        "\n",
        "You are developing an online quiz application where users can take quizzes on\n",
        "\n",
        "various topics and receive scores.\n",
        "\n",
        "1. Create a class for quizzes and questions. 2. Implement a scoring system that calculates the user's score on a quiz.\n",
        "\n",
        "3. How would you store and retrieve user progress, including quiz history and\n",
        "\n",
        "scores?"
      ],
      "metadata": {
        "id": "em2pKIt2KbbO"
      }
    },
    {
      "cell_type": "code",
      "execution_count": null,
      "metadata": {
        "colab": {
          "base_uri": "https://localhost:8080/"
        },
        "id": "glPXJqfAItdN",
        "outputId": "5e51fc6a-f57e-416e-ebf6-c26a7fa44ddc"
      },
      "outputs": [
        {
          "output_type": "stream",
          "name": "stdout",
          "text": [
            "78.5\n",
            "200\n",
            "31.400000000000002\n",
            "60\n"
          ]
        }
      ],
      "source": [
        "class Shape:\n",
        "    def __init__(self):\n",
        "        pass\n",
        "\n",
        "    def calculate_area(self):\n",
        "        raise NotImplementedError\n",
        "\n",
        "    def calculate_perimeter(self):\n",
        "        raise NotImplementedError\n",
        "\n",
        "\n",
        "class Circle(Shape):\n",
        "    def __init__(self, radius):\n",
        "        super().__init__()\n",
        "        self.radius = radius\n",
        "\n",
        "    def calculate_area(self):\n",
        "        return 3.14 * self.radius ** 2\n",
        "\n",
        "    def calculate_perimeter(self):\n",
        "        return 2 * 3.14 * self.radius\n",
        "\n",
        "\n",
        "class Rectangle(Shape):\n",
        "    def __init__(self, length, width):\n",
        "        super().__init__()\n",
        "        self.length = length\n",
        "        self.width = width\n",
        "\n",
        "    def calculate_area(self):\n",
        "        return self.length * self.width\n",
        "\n",
        "    def calculate_perimeter(self):\n",
        "        return 2 * (self.length + self.width)\n",
        "\n",
        "\n",
        "circle = Circle(5)\n",
        "rectangle = Rectangle(10, 20)\n",
        "\n",
        "print(circle.calculate_area())\n",
        "\n",
        "print(rectangle.calculate_area())\n",
        "\n",
        "print(circle.calculate_perimeter())\n",
        "\n",
        "print(rectangle.calculate_perimeter())\n"
      ]
    },
    {
      "cell_type": "markdown",
      "source": [
        "# 2. Write a python script to create a class \"Person\" with private attributes for age and name. Implement a method to calculate a person's eligibility for voting based on their age. Ensure that age cannot be accessed directly put only through a getter method."
      ],
      "metadata": {
        "id": "aarqum-iKm6z"
      }
    },
    {
      "cell_type": "code",
      "source": [
        "class Person:\n",
        "    def __init__(self, name, age):\n",
        "        self._name = name\n",
        "        self._age = age\n",
        "\n",
        "    def get_age(self):\n",
        "        return self._age\n",
        "\n",
        "    def is_eligible_to_vote(self):\n",
        "        return self._age >= 18\n",
        "\n",
        "person = Person(\"raj\", 25)\n",
        "\n",
        "if person.is_eligible_to_vote():\n",
        "    print(\"raj is eligible to vote.\")\n",
        "else:\n",
        "    print(\"raj is not eligible to vote.\")\n"
      ],
      "metadata": {
        "colab": {
          "base_uri": "https://localhost:8080/"
        },
        "id": "_uuOh1DlKrDA",
        "outputId": "15a84bfe-fcc6-421e-e002-1a4d7b309427"
      },
      "execution_count": null,
      "outputs": [
        {
          "output_type": "stream",
          "name": "stdout",
          "text": [
            "raj is eligible to vote.\n"
          ]
        }
      ]
    },
    {
      "cell_type": "markdown",
      "source": [
        "# 3. You are tasked with designing a Python class hierarchy for a simple banking system. The system should be able to handle different types of accounts, such as Savings Accounts and Checking Accounts. Both account types should have common attributes like an account number, account holder's name, and balance. However, Savings Accounts should have an additional attribute for interest rate, while Checking Accounts should have an attribute for overdraft limit.\n",
        "\n",
        "1. Create a Python class called BankAccount with the following attributes and methods:\n",
        "\n",
        "a. Attributes: account number, account holder name, balance b. Methods: init_0) (constructor), deposit(), and withdraw()\n",
        "\n",
        "2. Create two subclasses, Savings Account and Checking Account, that inherit from the BankAccount class,\n",
        "\n",
        "3. Add the following attributes and methods to each subclass:\n",
        "\n",
        "a Savings Account:\n",
        "\n",
        "i. Additional attribute: interest rate ii. Method: calculate interest(), which calculates and adds interest\n",
        "\n",
        "to the account based on the interest rate.\n",
        "\n",
        "b. Checking Account:\n",
        "\n",
        "1. Additional attribute: overdraft limit\n",
        "\n",
        "ii. Method: withdraw(), which allows withdrawing money up to the overdraft limit (if available) without additional fees.\n",
        "\n",
        "4. Write a program that creates instances of both Savings Account and\n",
        "\n",
        "Checking Account and demonstrates the use of their methods.\n",
        "\n",
        "5. Implement proper encapsulation by making the attributes private where\n",
        "\n",
        "necessary and providing getter and setter methods as needed. 6. Handle any potential errors or exceptions that may occur during operations\n",
        "\n",
        "like withdrawals, deposits, or interest calculations.\n",
        "\n",
        "7. Provide comments in your code to explain the purpose of each class, attribute,\n",
        "\n",
        "and method.\n",
        "\n",
        "Note: Your code should create instances of the classes, simulate transactions, and\n",
        "\n",
        "showcase the differences between Savings Accounts and Checking Accounts,\n"
      ],
      "metadata": {
        "id": "Yxj0xkKLLyTZ"
      }
    },
    {
      "cell_type": "code",
      "source": [
        "class BankAccount:\n",
        "  \"\"\"Base class for all bank accounts.\"\"\"\n",
        "\n",
        "  def __init__(self, account_number, account_holder_name, balance):\n",
        "\n",
        "    self._account_number = account_number\n",
        "    self._account_holder_name = account_holder_name\n",
        "    self._balance = balance\n",
        "\n",
        "  def get_account_number(self):\n",
        "    \"\"\"Returns the account number.\"\"\"\n",
        "    return self._account_number\n",
        "\n",
        "  def get_account_holder_name(self):\n",
        "    \"\"\"Returns the account holder's name.\"\"\"\n",
        "    return self._account_holder_name\n",
        "\n",
        "  def get_balance(self):\n",
        "\n",
        "    return self._balance\n",
        "\n",
        "  def deposit(self, amount):\n",
        "\n",
        "    if amount < 0:\n",
        "      raise ValueError(\"Cannot deposit a negative amount.\")\n",
        "\n",
        "    self._balance += amount\n",
        "\n",
        "  def withdraw(self, amount):\n",
        "\n",
        "    if amount < 0:\n",
        "      raise ValueError(\"Cannot withdraw a negative amount.\")\n",
        "\n",
        "    if amount > self._balance:\n",
        "      raise ValueError(\"Insufficient balance.\")\n",
        "\n",
        "    self._balance -= amount\n",
        "\n",
        "class SavingsAccount(BankAccount):\n",
        "\n",
        "\n",
        "  def __init__(self, account_number, account_holder_name, balance, interest_rate):\n",
        "\n",
        "    super().__init__(account_number, account_holder_name, balance)\n",
        "    self._interest_rate = interest_rate\n",
        "\n",
        "  def calculate_interest(self):\n",
        "\n",
        "    interest = self._balance * self._interest_rate\n",
        "    self._balance += interest\n",
        "\n",
        "class CheckingAccount(BankAccount):\n",
        "\n",
        "\n",
        "  def __init__(self, account_number, account_holder_name, balance, overdraft_limit):\n",
        "\n",
        "    super().__init__(account_number, account_holder_name, balance)\n",
        "    self._overdraft_limit = overdraft_limit\n",
        "\n",
        "  def withdraw(self, amount):\n",
        "\n",
        "    if amount > self._balance + self._overdraft_limit:\n",
        "      raise ValueError(\"Insufficient balance.\")\n",
        "\n",
        "    self._balance -= amount\n",
        "\n",
        "# Example usage:\n",
        "\n",
        "savings_account = SavingsAccount(1234567890, \"John Doe\", 1000, 0.05)\n",
        "checking_account = CheckingAccount(9876543210, \"John Doe\", 500, 200)\n",
        "\n",
        "# Deposit money into the savings account.\n",
        "savings_account.deposit(100)\n",
        "\n",
        "# Calculate and add interest to the savings account.\n",
        "savings_account.calculate_interest()\n",
        "\n",
        "# Withdraw money from the checking account, allowing an overdraft.\n",
        "checking_account.withdraw(700)\n",
        "\n",
        "# Print the balances of the two accounts.\n",
        "print(f\"Savings account balance: ${savings_account.get_balance()}\")\n",
        "print(f\"Checking account balance: ${checking_account.get_balance()}\")\n"
      ],
      "metadata": {
        "id": "AOtIyEhHLIC4",
        "colab": {
          "base_uri": "https://localhost:8080/"
        },
        "outputId": "d2af49b5-afbd-42ad-e27d-9fbc0540a7f0"
      },
      "execution_count": 11,
      "outputs": [
        {
          "output_type": "stream",
          "name": "stdout",
          "text": [
            "Savings account balance: $1155.0\n",
            "Checking account balance: $-200\n"
          ]
        }
      ]
    },
    {
      "cell_type": "markdown",
      "source": [
        "# 4. You are developing an employee management system for a company. Ensure that the system utilizes encapsulation and polymorphism to handle different types of employees, such as full-time and part-time employees.\n",
        "\n",
        "1. Create a base class called \"Employee\" with private attributes for name, employee ID, and salary. Implement getter and setter methods for these attributes.\n",
        "2. Design two subclasses, \"FullTimeEmployee and \"PartTimeEmployee,\" that inherit from \"Employee.\" These subclasses should encapsulate specific properties like hours worked (for part-time employees) and annual salary (for full-time employees).\n",
        "\n",
        "3. Override the salary calculation method in both subclasses to account for different payment structures.\n",
        "4. Write a program that demonstrates polymorphism by creating instances of both \"FullTimeEmployee\" and \"PartTimeEmployee. Calculate their salaries and display employee information."
      ],
      "metadata": {
        "id": "_zPH_6l00O1T"
      }
    },
    {
      "cell_type": "code",
      "source": [
        "class Employee:\n",
        "\n",
        "\n",
        "  def __init__(self, name, employee_id, salary):\n",
        "\n",
        "\n",
        "    self.name = name\n",
        "    self.employee_id = employee_id\n",
        "    self.salary = salary\n",
        "\n",
        "  def calculate_salary(self):\n",
        "\n",
        "\n",
        "    raise NotImplementedError\n",
        "\n",
        "class FullTimeEmployee(Employee):\n",
        "\n",
        "\n",
        "  def __init__(self, name, employee_id, salary, annual_salary):\n",
        "\n",
        "\n",
        "    super().__init__(name, employee_id, salary)\n",
        "    self.annual_salary = annual_salary\n",
        "\n",
        "  def calculate_salary(self):\n",
        "\n",
        "\n",
        "    self.salary = self.annual_salary / 12\n",
        "\n",
        "class PartTimeEmployee(Employee):\n",
        "\n",
        "\n",
        "  def __init__(self, name, employee_id, salary, hours_worked):\n",
        "\n",
        "\n",
        "    super().__init__(name, employee_id, salary)\n",
        "    self.hours_worked = hours_worked\n",
        "\n",
        "  def calculate_salary(self):\n",
        "\n",
        "\n",
        "    self.salary = self.salary * self.hours_worked\n",
        "\n",
        "# Example usage:\n",
        "\n",
        "# Create a full-time employee and a part-time employee.\n",
        "full_time_employee = FullTimeEmployee(\"rahul\", 1234567890, 20, 100000)\n",
        "part_time_employee = PartTimeEmployee(\"rahul\", 9876543210, 15, 20)\n",
        "\n",
        "# Calculate the salaries of both employees.\n",
        "full_time_employee.calculate_salary()\n",
        "part_time_employee.calculate_salary()\n",
        "\n",
        "# Print the salaries of both employees.\n",
        "print(full_time_employee.salary)\n",
        "print(part_time_employee.salary)\n"
      ],
      "metadata": {
        "colab": {
          "base_uri": "https://localhost:8080/"
        },
        "id": "5vzNECA90ka_",
        "outputId": "bf0cdd93-19de-4b1f-f55c-43f2b91c1142"
      },
      "execution_count": 4,
      "outputs": [
        {
          "output_type": "stream",
          "name": "stdout",
          "text": [
            "8333.333333333334\n",
            "300\n"
          ]
        }
      ]
    },
    {
      "cell_type": "markdown",
      "source": [
        "\n",
        "# **5. Library Management System-Scenario: You are developing a library management system where you need to handle books, patrons, and library transactions**\n",
        "\n",
        "1. Create a class hierarchy that includes classes for books (eg, Book), patrons (e.g... Patron), and transactions (e.g., Transaction). Define attributes and methods for each class.\n",
        "2. Implement encapsulation by making relevant attributes private and providing getterand setter methods where necessary.\n",
        "\n",
        "3. Use inheritance to represent different types of books (e.g.. fiction, non-fiction) as subclasses of the Book class. Ensure that each book type can have specific attributes and methods.\n",
        "\n",
        "4. Demonstrate polymorphism by allowing patrons to check out and return books regardless of the book type.\n",
        "\n",
        "5. Impl ement a method for tracking overdue books and notifying patrons.\n",
        "6. Consider scenarios like book reservations, late fees, and library staff interactions in your design."
      ],
      "metadata": {
        "id": "Ctr7Mb_e1xF5"
      }
    },
    {
      "cell_type": "code",
      "source": [
        "class Book:\n",
        "    def __init__(self, title, author):\n",
        "        self.title = title\n",
        "        self.author = author\n",
        "        self.checked_out = False\n",
        "\n",
        "    def check_out(self):\n",
        "        if not self.checked_out:\n",
        "            self.checked_out = True\n",
        "            return True\n",
        "        return False\n",
        "\n",
        "    def return_book(self):\n",
        "        if self.checked_out:\n",
        "            self.checked_out = False\n",
        "            return True\n",
        "        return False\n",
        "\n",
        "class Patron:\n",
        "    def __init__(self, name):\n",
        "        self.name = name\n",
        "        self.checked_out_books = []\n",
        "\n",
        "    def check_out_book(self, book):\n",
        "        if book.check_out():\n",
        "            self.checked_out_books.append(book)\n",
        "            return True\n",
        "        return False\n",
        "\n",
        "    def return_book(self, book):\n",
        "        if book.return_book() and book in self.checked_out_books:\n",
        "            self.checked_out_books.remove(book)\n",
        "            return True\n",
        "        return False\n",
        "\n",
        "# Usage example:\n",
        "book1 = Book(\"The Hobbit\", \"J.R.R. Tolkien\")\n",
        "book2 = Book(\"Sapiens\", \"Yuval Noah Harari\")\n",
        "\n",
        "patron1 = Patron(\"John Doe\")\n",
        "\n",
        "patron1.check_out_book(book1)\n",
        "\n",
        "print(book1.checked_out)  # True\n",
        "print(patron1.checked_out_books[0].title)  # \"The Hobbit\"\n",
        "\n",
        "patron1.return_book(book1)\n",
        "print(book1.checked_out)  # False\n"
      ],
      "metadata": {
        "colab": {
          "base_uri": "https://localhost:8080/"
        },
        "id": "1CD0ZNWL2T62",
        "outputId": "d8f7d69b-f732-47ee-94a6-e08fe2331d71"
      },
      "execution_count": 9,
      "outputs": [
        {
          "output_type": "stream",
          "name": "stdout",
          "text": [
            "True\n",
            "The Hobbit\n",
            "False\n"
          ]
        }
      ]
    },
    {
      "cell_type": "markdown",
      "source": [
        "# **6.Online Shopping Cart**\n",
        "\n",
        "Scenario: You are tasked with designing a class hierarchy for an online shopping cart system. The system should handle products, shopping carts, and orders. Consider various OOP principles while designing this system.\n",
        "\n",
        "1. Create a class hierarchy that includes classes for products (e.g., Product), shopping carts (eg. ShoppingCart), and orders (e.g., Order). Define attributes and methods for each class.\n",
        "\n",
        "2. Implement encapsulation by making relevant attributes private and providing getter and setter methods where necessary\n",
        "\n",
        "3. Use inheritance to represent different types of products (e.g., electronics, clothing) as subclasses of the Product class. Ensure that each product type can have specific attributes and methods.\n",
        "\n",
        "4 Demonstrate polymorphism by allowing various product types to be added to a shopping cart and calculate the total cost of items in the cart. 5. Implement a method for placing an order, which transfers items from the shopping cart to an order.\n",
        "\n",
        "Consider scenarios like out-of-stock products, discounts, and shipping costs in your design."
      ],
      "metadata": {
        "id": "soq_qmP44Xd-"
      }
    },
    {
      "cell_type": "code",
      "source": [
        "class Product:\n",
        "    def __init__(self, name, price, stock_quantity):\n",
        "        self.name = name\n",
        "        self.price = price\n",
        "        self.stock_quantity = stock_quantity\n",
        "\n",
        "    def is_available(self):\n",
        "        return self.stock_quantity > 0\n",
        "\n",
        "class ShoppingCart:\n",
        "    def __init__(self):\n",
        "        self.items = []\n",
        "\n",
        "    def add_item(self, product, quantity):\n",
        "        if product.is_available():\n",
        "            self.items.append((product, quantity))\n",
        "            product.stock_quantity -= quantity\n",
        "            return True\n",
        "        else:\n",
        "            return False\n",
        "\n",
        "    def calculate_total_cost(self):\n",
        "        total_cost = 0\n",
        "        for item in self.items:\n",
        "            product, quantity = item\n",
        "            total_cost += product.price * quantity\n",
        "        return total_cost\n",
        "\n",
        "class Order:\n",
        "    def __init__(self, items):\n",
        "        self.items = items\n",
        "\n",
        "    def calculate_total_cost(self):\n",
        "        total_cost = 0\n",
        "        for item in self.items:\n",
        "            product, quantity = item\n",
        "            total_cost += product.price * quantity\n",
        "        return total_cost\n",
        "\n",
        "# Usage example:\n",
        "\n",
        "# Create products\n",
        "product1 = Product(\"Laptop\", 999.99, 10)\n",
        "product2 = Product(\"T-Shirt\", 19.99, 50)\n",
        "\n",
        "# Create a shopping cart\n",
        "cart = ShoppingCart()\n",
        "\n",
        "# Add products to the cart\n",
        "cart.add_item(product1, 2)\n",
        "cart.add_item(product2, 3)\n",
        "\n",
        "# Calculate the total cost in the cart\n",
        "cart_total_cost = cart.calculate_total_cost()\n",
        "print(f\"Cart Total Cost: ${cart_total_cost}\")\n",
        "\n",
        "# Create an order from the cart\n",
        "order = Order(cart.items)\n",
        "\n",
        "# Calculate the total cost in the order\n",
        "order_total_cost = order.calculate_total_cost()\n",
        "print(f\"Order Total Cost: ${order_total_cost}\")\n"
      ],
      "metadata": {
        "colab": {
          "base_uri": "https://localhost:8080/"
        },
        "id": "hsW5yESs4hzf",
        "outputId": "fc7f4bad-b6a7-439c-afe4-14c7487f61b7"
      },
      "execution_count": 10,
      "outputs": [
        {
          "output_type": "stream",
          "name": "stdout",
          "text": [
            "Cart Total Cost: $2059.95\n",
            "Order Total Cost: $2059.95\n"
          ]
        }
      ]
    }
  ]
}