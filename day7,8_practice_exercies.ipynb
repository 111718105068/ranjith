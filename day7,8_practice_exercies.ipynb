{
  "nbformat": 4,
  "nbformat_minor": 0,
  "metadata": {
    "colab": {
      "provenance": [],
      "authorship_tag": "ABX9TyO+s+MoULDG2Zu5K1veAW/u",
      "include_colab_link": true
    },
    "kernelspec": {
      "name": "python3",
      "display_name": "Python 3"
    },
    "language_info": {
      "name": "python"
    }
  },
  "cells": [
    {
      "cell_type": "markdown",
      "metadata": {
        "id": "view-in-github",
        "colab_type": "text"
      },
      "source": [
        "<a href=\"https://colab.research.google.com/github/111718105068/ranjith/blob/main/day7%2C8_practice_exercies.ipynb\" target=\"_parent\"><img src=\"https://colab.research.google.com/assets/colab-badge.svg\" alt=\"Open In Colab\"/></a>"
      ]
    },
    {
      "cell_type": "markdown",
      "source": [
        "# **Implementation of Data Structures in Python**\n",
        "\n",
        "# **1. Write a Python program to find a target values in a list using linear soarch with following steps:**\n",
        "\n",
        "A Initialize the list to store the input elements.\n",
        "\n",
        "b. Initialize found-Palse,\n",
        "\n",
        "c.Enter the item to be searched (match item).\n",
        "\n",
        "d. For each element in the list\n",
        "\n",
        "1. If match item value\n",
        "\n",
        "2.return match item's position.\n",
        "\n",
        "a.If the match item is not in the list, display an error message that the items is not found in the list\n"
      ],
      "metadata": {
        "id": "gp5m7CFbTHTL"
      }
    },
    {
      "cell_type": "code",
      "execution_count": null,
      "metadata": {
        "colab": {
          "base_uri": "https://localhost:8080/"
        },
        "id": "b38i_TsVS7MO",
        "outputId": "a0d7be0b-457b-4144-f552-b6ed57248c17"
      },
      "outputs": [
        {
          "output_type": "stream",
          "name": "stdout",
          "text": [
            "Enter the number of elements in the list: 5\n",
            "Enter element 1: 34\n",
            "Enter element 2: 345\n",
            "Enter element 3: 65\n",
            "Enter element 4: 87\n",
            "Enter element 5: 98\n",
            "Enter the item to be searched (match item): 34\n",
            "The item 34 is found at position 1.\n"
          ]
        }
      ],
      "source": [
        "# Initialize the list\n",
        "input_list = []\n",
        "\n",
        "# Input elements into the list\n",
        "n = int(input(\"Enter the number of elements in the list: \"))\n",
        "for i in range(n):\n",
        "    element = int(input(f\"Enter element {i + 1}: \"))\n",
        "    input_list.append(element)\n",
        "\n",
        "# Input the item to be searched\n",
        "target = int(input(\"Enter the item to be searched (match item): \"))\n",
        "\n",
        "# Linear search\n",
        "found = False\n",
        "position = -1  # Initialize position to -1 (not found)\n",
        "\n",
        "for index, item in enumerate(input_list):\n",
        "    if item == target:\n",
        "        found = True\n",
        "        position = index + 1\n",
        "        break\n",
        "\n",
        "# Display the result\n",
        "if found:\n",
        "    print(f\"The item {target} is found at position {position}.\")\n",
        "else:\n",
        "    print(f\"The item {target} is not found in the list.\")\n"
      ]
    },
    {
      "cell_type": "markdown",
      "source": [
        "# **2 Write a Python program to implement binary search to find the target values from the list:**\n",
        "\n",
        "a. Create a separate function to do binary search.\n",
        "\n",
        "b. Get the number of inputs from the user.\n",
        "\n",
        "c. Store the inputs individually in a list.\n",
        "\n",
        "d. In binary search function at first sort the list in order to start the search from middle of the Tist\n",
        "\n",
        "e. Compare the middle element to right and left elements to search target element\n",
        "f.If greater, move to right of list or clso move to another side of the list.\n",
        "\n",
        "g.Print the result along with the position of the element\n"
      ],
      "metadata": {
        "id": "E_OHZsKJVtGs"
      }
    },
    {
      "cell_type": "code",
      "source": [
        "# Binary search function\n",
        "def binary_search(arr, target):\n",
        "    left = 0\n",
        "    right = len(arr) - 1\n",
        "\n",
        "    while left <= right:\n",
        "        mid = left + (right - left) // 2  # Calculate the middle index\n",
        "\n",
        "        if arr[mid] == target:\n",
        "            return mid  # Target element found, return its position\n",
        "        elif arr[mid] < target:\n",
        "            left = mid + 1  # Target is in the right half\n",
        "        else:\n",
        "            right = mid - 1  # Target is in the left half\n",
        "\n",
        "    return -1  # Target element not found\n",
        "\n",
        "# Get the number of inputs from the user\n",
        "n = int(input(\"Enter the number of elements in the list: \"))\n",
        "\n",
        "# Store the inputs individually in a list\n",
        "input_list = []\n",
        "for i in range(n):\n",
        "    element = int(input(f\"Enter element {i + 1}: \"))\n",
        "    input_list.append(element)\n",
        "\n",
        "# Sort the list in ascending order\n",
        "input_list.sort()\n",
        "\n",
        "# Input the target element to be searched\n",
        "target = int(input(\"Enter the item to be searched (match item): \"))\n",
        "\n",
        "# Perform binary search\n",
        "result = binary_search(input_list, target)\n",
        "\n",
        "# Display the result\n",
        "if result != -1:\n",
        "    print(f\"The item {target} is found at position {result + 1}.\")\n",
        "else:\n",
        "    print(f\"The item {target} is not found in the list.\")\n"
      ],
      "metadata": {
        "colab": {
          "base_uri": "https://localhost:8080/"
        },
        "id": "JMM4XPLPV6bu",
        "outputId": "a18c5414-0405-4bca-ec90-a9e4d8588fba"
      },
      "execution_count": null,
      "outputs": [
        {
          "output_type": "stream",
          "name": "stdout",
          "text": [
            "Enter the number of elements in the list: 3\n",
            "Enter element 1: 76\n",
            "Enter element 2: 87\n",
            "Enter element 3: 98\n",
            "Enter the item to be searched (match item): 76\n",
            "The item 76 is found at position 1.\n"
          ]
        }
      ]
    },
    {
      "cell_type": "markdown",
      "source": [
        "# 3. Write a Python program for sorting a list of elements using selection sort algorithm:\n",
        "a. Assume two lists. Sorted list- Initially empty and Unsorted List Given input list\n",
        "\n",
        "b. In the first iteration, find the smallest element in the unsorted list and place it in the sorted list\n",
        "\n",
        "c. In the second iteration, find the smallest element in the unsorted list and place it in the correct position by comparing with the clement in the sorted list.\n",
        "\n",
        "d. In the third iteration, again find the smallest element in the unsorted list and place it in the correct position by comparing with the elements in the sorted list.\n",
        "\n",
        "e. This process continues till the unsorted list becomes empty.\n",
        "\n",
        "f Display the sorted list."
      ],
      "metadata": {
        "id": "xU2-VwRdX1AW"
      }
    },
    {
      "cell_type": "code",
      "source": [
        "# Selection Sort function\n",
        "def selection_sort(input_list):\n",
        "    sorted_list = []  # Initialize an empty sorted list\n",
        "\n",
        "    while input_list:  # Continue until the input list is not empty\n",
        "        min_index = 0  # Assume the first element is the minimum\n",
        "        for i in range(1, len(input_list)):\n",
        "            if input_list[i] < input_list[min_index]:\n",
        "                min_index = i  # Update the index of the minimum element\n",
        "\n",
        "        # Move the minimum element from the input list to the sorted list\n",
        "        sorted_list.append(input_list.pop(min_index))\n",
        "\n",
        "    return sorted_list\n",
        "\n",
        "# Input the number of elements in the list\n",
        "n = int(input(\"Enter the number of elements in the list: \"))\n",
        "\n",
        "# Input the elements into the list\n",
        "input_list = []\n",
        "for i in range(n):\n",
        "    element = int(input(f\"Enter element {i + 1}: \"))\n",
        "    input_list.append(element)\n",
        "\n",
        "# Call the selection_sort function to sort the list\n",
        "sorted_list = selection_sort(input_list)\n",
        "\n",
        "# Display the sorted list\n",
        "print(\"Sorted List:\", sorted_list)\n"
      ],
      "metadata": {
        "colab": {
          "base_uri": "https://localhost:8080/"
        },
        "id": "iSQjj0-OYDpP",
        "outputId": "fee7469e-5c6f-4eb1-e92e-a020ef820e04"
      },
      "execution_count": null,
      "outputs": [
        {
          "output_type": "stream",
          "name": "stdout",
          "text": [
            "Enter the number of elements in the list: 4\n",
            "Enter element 1: 34\n",
            "Enter element 2: 67\n",
            "Enter element 3: 9\n",
            "Enter element 4: 65\n",
            "Sorted List: [9, 34, 65, 67]\n"
          ]
        }
      ]
    },
    {
      "cell_type": "markdown",
      "source": [
        "# 4. Write a Python program for sorting a list of elements using insertion sort algorithm:\n",
        "a. Assume two lists: Sorted list- Initially empty and Unsorted List-Given input list.\n",
        "\n",
        "b. In the first iteration, take the first element in the unsorted list and insert it in Sorted list.\n",
        "\n",
        "c. In the second iteration, take the second element in the given list and compare with the element in the sorted sub list and place it in the correct position.\n",
        "\n",
        "d. In the third iteration, take the third element in the given list and compare with the elements in the sorted sub list and place the elements in the correct position.\n",
        "\n",
        "e. This process continues until the last element is inserted in the sorted sub list.\n",
        "\n",
        "f.Display the sorted elements"
      ],
      "metadata": {
        "id": "zUmHX172YP0r"
      }
    },
    {
      "cell_type": "code",
      "source": [
        "# Insertion Sort function\n",
        "def insertion_sort(input_list):\n",
        "    for i in range(1, len(input_list)):\n",
        "        key = input_list[i]  # Current element to be inserted\n",
        "        j = i - 1  # Start from the previous element\n",
        "\n",
        "        while j >= 0 and key < input_list[j]:\n",
        "            input_list[j + 1] = input_list[j]  # Shift elements to the right\n",
        "            j -= 1\n",
        "\n",
        "        input_list[j + 1] = key  # Insert the current element in the correct position\n",
        "\n",
        "# Input the number of elements in the list\n",
        "n = int(input(\"Enter the number of elements in the list: \"))\n",
        "\n",
        "# Input the elements into the list\n",
        "input_list = []\n",
        "for i in range(n):\n",
        "    element = int(input(f\"Enter element {i + 1}: \"))\n",
        "    input_list.append(element)\n",
        "\n",
        "# Call the insertion_sort function to sort the list\n",
        "insertion_sort(input_list)\n",
        "\n",
        "# Display the sorted list\n",
        "print(\"Sorted List:\", input_list)\n"
      ],
      "metadata": {
        "colab": {
          "base_uri": "https://localhost:8080/"
        },
        "id": "zgfwLOe8Yg1j",
        "outputId": "2dc40fc0-225c-48e7-d207-09fa1cb9574d"
      },
      "execution_count": null,
      "outputs": [
        {
          "output_type": "stream",
          "name": "stdout",
          "text": [
            "Enter the number of elements in the list: 4\n",
            "Enter element 1: 65\n",
            "Enter element 2: 87\n",
            "Enter element 3: 09\n",
            "Enter element 4: 87\n",
            "Sorted List: [9, 65, 87, 87]\n"
          ]
        }
      ]
    },
    {
      "cell_type": "markdown",
      "source": [
        "# **5. Write a Python program that performs merge sort on a list of numbers:\n",
        " a. Divide: If the given array has zero or one element, return.**\n",
        "\n",
        "1. Otherwise\n",
        "\n",
        " ii. Divide the input list in to two halves each containing half of the\n",
        "\n",
        "elements, i.e. left half and right half.\n",
        "\n",
        "b. Conquer: Recursively sort the two lists (left half and right half).\n",
        "\n",
        "  a. Call the merge sort on left half.\n",
        "\n",
        "  b. Call the merge sort on right half.\n",
        "\n",
        "c.Combine: Combine the elements back in the input list by merging the two sorted\n",
        "\n",
        "lists into a sorted sequence."
      ],
      "metadata": {
        "id": "WwOoSJ01Y4iH"
      }
    },
    {
      "cell_type": "code",
      "source": [
        "# Merge Sort function\n",
        "def merge_sort(input_list):\n",
        "    if len(input_list) <= 1:\n",
        "        return input_list\n",
        "\n",
        "    # Split the input list into two halves\n",
        "    mid = len(input_list) // 2\n",
        "    left_half = input_list[:mid]\n",
        "    right_half = input_list[mid:]\n",
        "\n",
        "    # Recursively sort the left and right halves\n",
        "    left_half = merge_sort(left_half)\n",
        "    right_half = merge_sort(right_half)\n",
        "\n",
        "    # Merge the sorted halves back together\n",
        "    sorted_list = merge(left_half, right_half)\n",
        "\n",
        "    return sorted_list\n",
        "\n",
        "# Merge two sorted lists into a single sorted list\n",
        "def merge(left, right):\n",
        "    result = []\n",
        "    left_index, right_index = 0, 0\n",
        "\n",
        "    while left_index < len(left) and right_index < len(right):\n",
        "        if left[left_index] < right[right_index]:\n",
        "            result.append(left[left_index])\n",
        "            left_index += 1\n",
        "        else:\n",
        "            result.append(right[right_index])\n",
        "            right_index += 1\n",
        "\n",
        "    result.extend(left[left_index:])\n",
        "    result.extend(right[right_index:])\n",
        "\n",
        "    return result\n",
        "\n",
        "# Input the number of elements in the list\n",
        "n = int(input(\"Enter the number of elements in the list: \"))\n",
        "\n",
        "# Input the elements into the list\n",
        "input_list = []\n",
        "for i in range(n):\n",
        "    element = int(input(f\"Enter element {i + 1}: \"))\n",
        "    input_list.append(element)\n",
        "\n",
        "# Call the merge_sort function to sort the list\n",
        "sorted_list = merge_sort(input_list)\n",
        "\n",
        "# Display the sorted list\n",
        "print(\"Sorted List:\", sorted_list)\n"
      ],
      "metadata": {
        "colab": {
          "base_uri": "https://localhost:8080/"
        },
        "id": "gN5m8oCuZNPU",
        "outputId": "855a1b66-61ab-4ccd-a770-8043ff453529"
      },
      "execution_count": null,
      "outputs": [
        {
          "output_type": "stream",
          "name": "stdout",
          "text": [
            "Enter the number of elements in the list: 2\n",
            "Enter element 1: 65\n",
            "Enter element 2: 87\n",
            "Sorted List: [65, 87]\n"
          ]
        }
      ]
    },
    {
      "cell_type": "markdown",
      "source": [
        "# **6 Write a Python script to perform the following operations on a singly linked list**\n",
        "\n",
        "a. Create a list\n",
        "\n",
        "b. Find the smallest element from the list\n",
        "\n",
        "c. Insert an element if it is not a duplicate element\n",
        "\n",
        "d. Display the elements in reverse order\n"
      ],
      "metadata": {
        "id": "3R4ocThtZp76"
      }
    },
    {
      "cell_type": "code",
      "source": [
        "class Node:\n",
        "    def __init__(self, data):\n",
        "        self.data = data\n",
        "        self.next = None\n",
        "\n",
        "class LinkedList:\n",
        "    def __init__(self):\n",
        "        self.head = None\n",
        "\n",
        "    # Function to insert a new node at the end of the linked list\n",
        "    def insert(self, data):\n",
        "        new_node = Node(data)\n",
        "        if not self.head:\n",
        "            self.head = new_node\n",
        "        else:\n",
        "            current = self.head\n",
        "            while current.next:\n",
        "                current = current.next\n",
        "            current.next = new_node\n",
        "\n",
        "    # Function to find the smallest element in the linked list\n",
        "    def find_smallest(self):\n",
        "        if not self.head:\n",
        "            return None\n",
        "\n",
        "        current = self.head\n",
        "        smallest = current.data\n",
        "\n",
        "        while current:\n",
        "            if current.data < smallest:\n",
        "                smallest = current.data\n",
        "            current = current.next\n",
        "\n",
        "        return smallest\n",
        "\n",
        "    # Function to insert an element if it is not a duplicate\n",
        "    def insert_if_not_duplicate(self, data):\n",
        "        if not self.head:\n",
        "            self.insert(data)\n",
        "        else:\n",
        "            current = self.head\n",
        "            while current:\n",
        "                if current.data == data:\n",
        "                    return  # Element is already in the list\n",
        "                if current.next is None:\n",
        "                    break\n",
        "                current = current.next\n",
        "            self.insert(data)\n",
        "\n",
        "    # Function to display the elements in reverse order\n",
        "    def display_reverse(self):\n",
        "        stack = []\n",
        "        current = self.head\n",
        "\n",
        "        while current:\n",
        "            stack.append(current.data)\n",
        "            current = current.next\n",
        "\n",
        "        while stack:\n",
        "            print(stack.pop(), end=\" \")\n",
        "        print()\n",
        "\n",
        "\n",
        "# Create a singly linked list\n",
        "linked_list = LinkedList()\n",
        "\n",
        "# Insert elements into the linked list\n",
        "elements = [5, 2, 8, 3, 5, 1, 8]\n",
        "for element in elements:\n",
        "    linked_list.insert(element)\n",
        "\n",
        "# Find the smallest element\n",
        "smallest = linked_list.find_smallest()\n",
        "if smallest is not None:\n",
        "    print(f\"The smallest element in the list is: {smallest}\")\n",
        "else:\n",
        "    print(\"The list is empty.\")\n",
        "\n",
        "# Insert an element if it is not a duplicate\n",
        "element_to_insert = 7\n",
        "linked_list.insert_if_not_duplicate(element_to_insert)\n",
        "\n",
        "# Display the elements in reverse order\n",
        "print(\"Elements in reverse order:\")\n",
        "linked_list.display_reverse()\n"
      ],
      "metadata": {
        "colab": {
          "base_uri": "https://localhost:8080/"
        },
        "id": "JISp8eV6Z0HQ",
        "outputId": "dfb2a02d-6003-469c-b73b-1a752eef5151"
      },
      "execution_count": null,
      "outputs": [
        {
          "output_type": "stream",
          "name": "stdout",
          "text": [
            "The smallest element in the list is: 1\n",
            "Elements in reverse order:\n",
            "7 8 1 5 3 8 2 5 \n"
          ]
        }
      ]
    },
    {
      "cell_type": "markdown",
      "source": [
        "# 7.Write a python program to implement the various operations for Stack ADT\n",
        "\n",
        "i) Push ii) Pop iii.) Display.\n"
      ],
      "metadata": {
        "id": "OyDO1BJUZ_Hh"
      }
    },
    {
      "cell_type": "code",
      "source": [
        "class Stack:\n",
        "    def __init__(self):\n",
        "        self.items = []\n",
        "\n",
        "    def is_empty(self):\n",
        "        return len(self.items) == 0\n",
        "\n",
        "    def push(self, item):\n",
        "        self.items.append(item)\n",
        "        print(f\"Pushed: {item}\")\n",
        "\n",
        "    def pop(self):\n",
        "        if not self.is_empty():\n",
        "            popped_item = self.items.pop()\n",
        "            print(f\"Popped: {popped_item}\")\n",
        "            return popped_item\n",
        "        else:\n",
        "            print(\"Stack is empty. Cannot pop.\")\n",
        "\n",
        "    def display(self):\n",
        "        if not self.is_empty():\n",
        "            print(\"Stack elements:\")\n",
        "            for item in reversed(self.items):\n",
        "                print(item)\n",
        "        else:\n",
        "            print(\"Stack is empty.\")\n",
        "\n",
        "\n",
        "# Create a stack object\n",
        "stack = Stack()\n",
        "\n",
        "while True:\n",
        "    print(\"\\nStack Operations:\")\n",
        "    print(\"1. Push\")\n",
        "    print(\"2. Pop\")\n",
        "    print(\"3. Display\")\n",
        "    print(\"4. Quit\")\n",
        "    choice = int(input(\"Enter your choice: \"))\n",
        "\n",
        "    if choice == 1:\n",
        "        item = input(\"Enter the element to push: \")\n",
        "        stack.push(item)\n",
        "    elif choice == 2:\n",
        "        stack.pop()\n",
        "    elif choice == 3:\n",
        "        stack.display()\n",
        "    elif choice == 4:\n",
        "        break\n",
        "    else:\n",
        "        print(\"Invalid choice. Please try again.\")\n",
        "\n"
      ],
      "metadata": {
        "colab": {
          "base_uri": "https://localhost:8080/"
        },
        "id": "HTPlMktxaMsU",
        "outputId": "6c9b2ab0-3b9a-43db-f154-2bd4c9c5d9f9"
      },
      "execution_count": null,
      "outputs": [
        {
          "name": "stdout",
          "output_type": "stream",
          "text": [
            "\n",
            "Stack Operations:\n",
            "1. Push\n",
            "2. Pop\n",
            "3. Display\n",
            "4. Quit\n",
            "Enter your choice: 2\n",
            "Stack is empty. Cannot pop.\n",
            "\n",
            "Stack Operations:\n",
            "1. Push\n",
            "2. Pop\n",
            "3. Display\n",
            "4. Quit\n",
            "Enter your choice: 1\n",
            "Enter the element to push: 6\n",
            "Pushed: 6\n",
            "\n",
            "Stack Operations:\n",
            "1. Push\n",
            "2. Pop\n",
            "3. Display\n",
            "4. Quit\n",
            "Enter your choice: 6\n",
            "Invalid choice. Please try again.\n",
            "\n",
            "Stack Operations:\n",
            "1. Push\n",
            "2. Pop\n",
            "3. Display\n",
            "4. Quit\n",
            "Enter your choice: 3\n",
            "Stack elements:\n",
            "6\n",
            "\n",
            "Stack Operations:\n",
            "1. Push\n",
            "2. Pop\n",
            "3. Display\n",
            "4. Quit\n",
            "Enter your choice: 4\n"
          ]
        }
      ]
    },
    {
      "cell_type": "markdown",
      "source": [
        "\n",
        "## 8. Write a python script to implement the various operations for Queue ADT 1.) Insert ii) Delete iii.) Display\n"
      ],
      "metadata": {
        "id": "0IIkI3M8bbHJ"
      }
    },
    {
      "cell_type": "code",
      "source": [
        "class Queue:\n",
        "    def __init__(self):\n",
        "        self.items = []\n",
        "\n",
        "    def is_empty(self):\n",
        "        return len(self.items) == 0\n",
        "\n",
        "    def insert(self, item):\n",
        "        self.items.append(item)\n",
        "        print(f\"Inserted: {item}\")\n",
        "\n",
        "    def delete(self):\n",
        "        if not self.is_empty():\n",
        "            deleted_item = self.items.pop(0)\n",
        "            print(f\"Deleted: {deleted_item}\")\n",
        "            return deleted_item\n",
        "        else:\n",
        "            print(\"Queue is empty. Cannot delete.\")\n",
        "\n",
        "    def display(self):\n",
        "        if not self.is_empty():\n",
        "            print(\"Queue elements:\")\n",
        "            for item in self.items:\n",
        "                print(item)\n",
        "        else:\n",
        "            print(\"Queue is empty.\")\n",
        "\n",
        "\n",
        "# Create a queue object\n",
        "queue = Queue()\n",
        "\n",
        "while True:\n",
        "    print(\"\\nQueue Operations:\")\n",
        "    print(\"1. Insert\")\n",
        "    print(\"2. Delete\")\n",
        "    print(\"3. Display\")\n",
        "    print(\"4. Quit\")\n",
        "    choice = int(input(\"Enter your choice: \"))\n",
        "\n",
        "    if choice == 1:\n",
        "        item = input(\"Enter the element to insert: \")\n",
        "        queue.insert(item)\n",
        "    elif choice == 2:\n",
        "        queue.delete()\n",
        "    elif choice == 3:\n",
        "        queue.display()\n",
        "    elif choice == 4:\n",
        "        break\n",
        "    else:\n",
        "        print(\"Invalid choice. Please try again.\")\n",
        "\n"
      ],
      "metadata": {
        "colab": {
          "base_uri": "https://localhost:8080/"
        },
        "id": "ArgXQ8xdbr33",
        "outputId": "ee80560e-a610-4b37-a4b4-a05cf3f71890"
      },
      "execution_count": null,
      "outputs": [
        {
          "name": "stdout",
          "output_type": "stream",
          "text": [
            "\n",
            "Queue Operations:\n",
            "1. Insert\n",
            "2. Delete\n",
            "3. Display\n",
            "4. Quit\n",
            "Enter your choice: 1\n",
            "Enter the element to insert: 2\n",
            "Inserted: 2\n",
            "\n",
            "Queue Operations:\n",
            "1. Insert\n",
            "2. Delete\n",
            "3. Display\n",
            "4. Quit\n",
            "Enter your choice: 4\n"
          ]
        }
      ]
    },
    {
      "cell_type": "markdown",
      "source": [
        "# 9. Write a program in python to convert the following infix expression to its postfix form using push and pop operations of a Stack\n",
        "\n",
        "a. A/BC+D'E-F'G\n",
        "\n",
        "b. (B^2-4°A°C)^(1/2) (100)"
      ],
      "metadata": {
        "id": "7e8oAmGkb3ZQ"
      }
    },
    {
      "cell_type": "code",
      "source": [
        "class Stack:\n",
        "    def __init__(self):\n",
        "        self.items = []\n",
        "\n",
        "    def is_empty(self):\n",
        "        return len(self.items) == 0\n",
        "\n",
        "    def push(self, item):\n",
        "        self.items.append(item)\n",
        "\n",
        "    def pop(self):\n",
        "        if not self.is_empty():\n",
        "            return self.items.pop()\n",
        "        else:\n",
        "            return None\n",
        "\n",
        "    def peek(self):\n",
        "        if not self.is_empty():\n",
        "            return self.items[-1]\n",
        "        else:\n",
        "            return None\n",
        "\n",
        "def infix_to_postfix(expression):\n",
        "    precedence = {'+': 1, '-': 1, '*': 2, '/': 2, '^': 3}\n",
        "    output = []\n",
        "    stack = Stack()\n",
        "\n",
        "    for char in expression:\n",
        "        if char.isalnum():\n",
        "            output.append(char)\n",
        "        elif char == '(':\n",
        "            stack.push(char)\n",
        "        elif char == ')':\n",
        "            while not stack.is_empty() and stack.peek() != '(':\n",
        "                output.append(stack.pop())\n",
        "            stack.pop()  # Remove the '(' from the stack\n",
        "        else:\n",
        "            while (not stack.is_empty() and stack.peek() != '(' and\n",
        "                   precedence.get(char, 0) <= precedence.get(stack.peek(), 0)):\n",
        "                output.append(stack.pop())\n",
        "            stack.push(char)\n",
        "\n",
        "    while not stack.is_empty():\n",
        "        output.append(stack.pop())\n",
        "\n",
        "    return ''.join(output)\n",
        "\n",
        "# Test the expressions\n",
        "expression1 = \"A/BC+D'E-F'G\"\n",
        "expression2 = \"(B^2-4*A*C)^(1/2)*(100)\"\n",
        "\n",
        "postfix1 = infix_to_postfix(expression1)\n",
        "postfix2 = infix_to_postfix(expression2)\n",
        "\n",
        "print(f\"Infix Expression 1: {expression1}\")\n",
        "print(f\"Postfix Expression 1: {postfix1}\")\n",
        "\n",
        "print(f\"Infix Expression 2: {expression2}\")\n",
        "print(f\"Postfix Expression 2: {postfix2}\")\n",
        "\n"
      ],
      "metadata": {
        "colab": {
          "base_uri": "https://localhost:8080/"
        },
        "id": "dkMCXnKUb_-h",
        "outputId": "357f8a2e-b60d-4882-b8c6-07efe9a942a4"
      },
      "execution_count": null,
      "outputs": [
        {
          "output_type": "stream",
          "name": "stdout",
          "text": [
            "Infix Expression 1: A/BC+D'E-F'G\n",
            "Postfix Expression 1: ABC/D+EF-'G'\n",
            "Infix Expression 2: (B^2-4*A*C)^(1/2)*(100)\n",
            "Postfix Expression 2: B2^4A*C*-12/^100*\n"
          ]
        }
      ]
    }
  ]
}