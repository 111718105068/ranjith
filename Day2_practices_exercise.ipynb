{
  "nbformat": 4,
  "nbformat_minor": 0,
  "metadata": {
    "colab": {
      "provenance": [],
      "authorship_tag": "ABX9TyNVutXzJNha7G/p03viObnU",
      "include_colab_link": true
    },
    "kernelspec": {
      "name": "python3",
      "display_name": "Python 3"
    },
    "language_info": {
      "name": "python"
    }
  },
  "cells": [
    {
      "cell_type": "markdown",
      "metadata": {
        "id": "view-in-github",
        "colab_type": "text"
      },
      "source": [
        "<a href=\"https://colab.research.google.com/github/111718105068/ranjith/blob/main/Day2_practices_exercise.ipynb\" target=\"_parent\"><img src=\"https://colab.research.google.com/assets/colab-badge.svg\" alt=\"Open In Colab\"/></a>"
      ]
    },
    {
      "cell_type": "markdown",
      "source": [],
      "metadata": {
        "id": "SBpzYjhlPk4j"
      }
    },
    {
      "cell_type": "markdown",
      "source": [
        "# FUNCTIONS"
      ],
      "metadata": {
        "id": "yDhm_W3vPnG_"
      }
    },
    {
      "cell_type": "markdown",
      "source": [
        "# 1. Write a python Function to list even and odd numbers in a list."
      ],
      "metadata": {
        "id": "QVOb3p62QfG4"
      }
    },
    {
      "cell_type": "code",
      "source": [
        "def list_even_odd(list1):\n",
        "  even_numbers = [number for number in list1 if number % 2 == 0]\n",
        "  odd_numbers = [number for number in list1 if number % 2 != 0]\n",
        "\n",
        "  return even_numbers, odd_numbers\n",
        "\n",
        "\n",
        "list1 = [1, 2, 3, 4, 5, 6, 7, 8, 9, 10]\n",
        "\n",
        "even_numbers, odd_numbers = list_even_odd(list1)\n",
        "\n",
        "print(\"The even numbers are:\", even_numbers)\n",
        "print(\"The odd numbers are:\", odd_numbers)\n"
      ],
      "metadata": {
        "colab": {
          "base_uri": "https://localhost:8080/"
        },
        "id": "JPXRLWydPtnR",
        "outputId": "eaaaec80-bbc4-4448-9a56-887dd9727234"
      },
      "execution_count": null,
      "outputs": [
        {
          "output_type": "stream",
          "name": "stdout",
          "text": [
            "The even numbers are: [2, 4, 6, 8, 10]\n",
            "The odd numbers are: [1, 3, 5, 7, 9]\n"
          ]
        }
      ]
    },
    {
      "cell_type": "markdown",
      "source": [
        "# 2. Write and run a Python program that asks the user to enter 8 integers (one at a time), and then prints out how many of those integers were even numbers. For example, if the user entered 19, 6, 9, 20, 13, 7, 6, and 1, then your program should print out 3 since 3 of those numbers were even."
      ],
      "metadata": {
        "id": "C0wuwTYYQo0M"
      }
    },
    {
      "cell_type": "code",
      "source": [
        "even_numbers = 0\n",
        "\n",
        "for i in range(8):\n",
        "  number = int(input(\"Enter an integer: \"))\n",
        "  if number % 2 == 0:\n",
        "    even_numbers += 1\n",
        "\n",
        "print(\"The number of even numbers is:\", even_numbers)\n"
      ],
      "metadata": {
        "colab": {
          "base_uri": "https://localhost:8080/"
        },
        "id": "MWuotzwjQ2sQ",
        "outputId": "b7ffa148-68f4-4e1f-fcd0-927c8b8d41a0"
      },
      "execution_count": null,
      "outputs": [
        {
          "output_type": "stream",
          "name": "stdout",
          "text": [
            "Enter an integer: 4\n",
            "Enter an integer: 19\n",
            "Enter an integer: 6\n",
            "Enter an integer: 9\n",
            "Enter an integer: 20\n",
            "Enter an integer: 13\n",
            "Enter an integer: 7\n",
            "Enter an integer: 6\n",
            "The number of even numbers is: 4\n"
          ]
        }
      ]
    },
    {
      "cell_type": "markdown",
      "source": [
        "# 3. Write a Python program where you take any positive integer n, if n is even, divide it by 2 to get n/2. If n is odd, multiply it by 3 and add 1 to obtain 3n+1. Repeat the process until you reach 1.\n"
      ],
      "metadata": {
        "id": "ngzi0NiuRmBv"
      }
    },
    {
      "cell_type": "code",
      "source": [
        "def collatz(n):\n",
        "  \"\"\"\n",
        "  Prints the Collatz sequence starting from n.\n",
        "\n",
        "  Args:\n",
        "    n: The starting number.\n",
        "  \"\"\"\n",
        "  while n > 1:\n",
        "    print(n)\n",
        "    if n % 2 == 0:\n",
        "      n = n // 2\n",
        "    else:\n",
        "      n = 3 * n + 1\n",
        "\n",
        "\n",
        "# Start with the number 13\n",
        "collatz(13)\n"
      ],
      "metadata": {
        "colab": {
          "base_uri": "https://localhost:8080/"
        },
        "id": "hdXfgiNARuDp",
        "outputId": "f420fa44-5a5a-4179-ef94-40fad8efe40b"
      },
      "execution_count": null,
      "outputs": [
        {
          "output_type": "stream",
          "name": "stdout",
          "text": [
            "13\n",
            "40\n",
            "20\n",
            "10\n",
            "5\n",
            "16\n",
            "8\n",
            "4\n",
            "2\n"
          ]
        }
      ]
    },
    {
      "cell_type": "markdown",
      "source": [
        "# 4. Write a Python program to compute the sum of all the multiples of 3 or 5 below 500."
      ],
      "metadata": {
        "id": "21yGfAnNSHYg"
      }
    },
    {
      "cell_type": "code",
      "source": [
        "def sum_of_multiples(limit):\n",
        "\n",
        "  sum = 0\n",
        "  for i in range(limit):\n",
        "    if i % 3 == 0 or i % 5 == 0:\n",
        "      sum += i\n",
        "\n",
        "  return sum\n",
        "\n",
        "\n",
        "# Find the sum of all the multiples of 3 or 5 below 500.\n",
        "sum = sum_of_multiples(500)\n",
        "\n",
        "# Print the sum.\n",
        "print(\"The sum is\", sum)\n"
      ],
      "metadata": {
        "colab": {
          "base_uri": "https://localhost:8080/"
        },
        "id": "IFXlLdoASJad",
        "outputId": "b2009d85-5559-4ccf-bf64-f012c4c256cf"
      },
      "execution_count": null,
      "outputs": [
        {
          "output_type": "stream",
          "name": "stdout",
          "text": [
            "The sum is 57918\n"
          ]
        }
      ]
    },
    {
      "cell_type": "markdown",
      "source": [
        "# 5. To write a Python program to find first 'n' prime numbers from a list of given numbers."
      ],
      "metadata": {
        "id": "9_55c8vCSWx3"
      }
    },
    {
      "cell_type": "code",
      "source": [
        "def is_prime(n):\n",
        "    if n <= 1:\n",
        "        return False\n",
        "    for i in range(2, int(n ** 0.5) + 1):\n",
        "        if n % i == 0:\n",
        "            return False\n",
        "    return True\n",
        "\n",
        "def find_primes(n, nums):\n",
        "    primes = []\n",
        "    for i, num in enumerate(nums):\n",
        "        if is_prime(num):\n",
        "            primes.append(num)\n",
        "            if len(primes) == n:\n",
        "                break\n",
        "    return primes\n",
        "\n",
        "nums = [2, 3, 5, 7, 11, 13, 17, 19, 23, 29]\n",
        "print(find_primes(5, nums))\n"
      ],
      "metadata": {
        "colab": {
          "base_uri": "https://localhost:8080/"
        },
        "id": "4n4QEqeeSe3-",
        "outputId": "df9e00e5-6d57-4c8b-f455-ceebcd93fc83"
      },
      "execution_count": 1,
      "outputs": [
        {
          "output_type": "stream",
          "name": "stdout",
          "text": [
            "[2, 3, 5, 7, 11]\n"
          ]
        }
      ]
    },
    {
      "cell_type": "markdown",
      "source": [
        "# 6.To write a Python program to compute matrix multiplication"
      ],
      "metadata": {
        "id": "TZpANDAKywT8"
      }
    },
    {
      "cell_type": "code",
      "source": [
        "def matrix_multiplication(A, B):\n",
        "    m = len(A)\n",
        "    n = len(A[0])\n",
        "    p = len(B[0])\n",
        "    C = [[0 for i in range(p)] for j in range(m)]\n",
        "    for i in range(m):\n",
        "        for j in range(p):\n",
        "            for k in range(n):\n",
        "                C[i][j] += A[i][k] * B[k][j]\n",
        "    return C\n",
        "\n",
        "A = [[1, 2, 3], [4, 5, 6]]\n",
        "B = [[7, 8], [9, 10], [11, 12]]\n",
        "\n",
        "C = matrix_multiplication(A, B)\n",
        "\n",
        "print(C)\n"
      ],
      "metadata": {
        "colab": {
          "base_uri": "https://localhost:8080/"
        },
        "id": "D1CgvGgKy87r",
        "outputId": "0ca97365-40c4-4671-a384-d4c3a8d22667"
      },
      "execution_count": 4,
      "outputs": [
        {
          "output_type": "stream",
          "name": "stdout",
          "text": [
            "[[58, 64], [139, 154]]\n"
          ]
        }
      ]
    },
    {
      "cell_type": "markdown",
      "source": [
        "\n",
        "# 7. Write a python Function to count the number of vowels in a string."
      ],
      "metadata": {
        "id": "pko3Mx-o3d-5"
      }
    },
    {
      "cell_type": "code",
      "source": [
        "def count_vowels(str1):\n",
        "    vowels = \"aeiou\"\n",
        "    count = 0\n",
        "    for char in str1:\n",
        "        if char in vowels:\n",
        "            count += 1\n",
        "    return count\n",
        "\n",
        "str1 = \"This is a string with vowels\"\n",
        "\n",
        "print(count_vowels(str1))\n"
      ],
      "metadata": {
        "colab": {
          "base_uri": "https://localhost:8080/"
        },
        "id": "3uzXk89T32uG",
        "outputId": "e26dfd1b-c977-48ae-c155-35a00fcfd66f"
      },
      "execution_count": 6,
      "outputs": [
        {
          "output_type": "stream",
          "name": "stdout",
          "text": [
            "7\n"
          ]
        }
      ]
    },
    {
      "cell_type": "markdown",
      "source": [
        "# 8. Write a python Function for finding factorial for the given number using a recursive function.\n"
      ],
      "metadata": {
        "id": "dbyYi67o5Um1"
      }
    },
    {
      "cell_type": "code",
      "source": [
        "def factorial(n):\n",
        "    if n == 0:\n",
        "        return 1\n",
        "    else:\n",
        "        return n * factorial(n - 1)\n",
        "\n",
        "print(factorial(5))\n"
      ],
      "metadata": {
        "colab": {
          "base_uri": "https://localhost:8080/"
        },
        "id": "zMYU1ZS95lmG",
        "outputId": "5e63d9ba-dad5-4883-802a-e6fb18fac160"
      },
      "execution_count": 7,
      "outputs": [
        {
          "output_type": "stream",
          "name": "stdout",
          "text": [
            "120\n"
          ]
        }
      ]
    },
    {
      "cell_type": "markdown",
      "source": [
        "\n",
        "# **9. Write a python Function for generating the Fibonacci series using the function.**\n"
      ],
      "metadata": {
        "id": "9FldwrWG517Q"
      }
    },
    {
      "cell_type": "code",
      "source": [
        "def fibonacci(n):\n",
        "    if n == 0:\n",
        "        return 0\n",
        "    elif n == 1:\n",
        "        return 1\n",
        "    else:\n",
        "        return fibonacci(n - 1) + fibonacci(n - 2)\n",
        "\n",
        "print(fibonacci(10))\n"
      ],
      "metadata": {
        "colab": {
          "base_uri": "https://localhost:8080/"
        },
        "id": "1bEnpFSr6KTa",
        "outputId": "64bd79ed-f03c-4e37-99c0-152f3eeea473"
      },
      "execution_count": 8,
      "outputs": [
        {
          "output_type": "stream",
          "name": "stdout",
          "text": [
            "55\n"
          ]
        }
      ]
    },
    {
      "cell_type": "markdown",
      "source": [
        "# 10. Python program to display the given integer in reverse order using the function without an in-built function"
      ],
      "metadata": {
        "id": "vW7oVBZy6UQh"
      }
    },
    {
      "cell_type": "code",
      "source": [
        "def reverse_integer(n):\n",
        "    rev_num = 0\n",
        "    while n != 0:\n",
        "        rev_num = rev_num * 10 + n % 10\n",
        "        n //= 10\n",
        "    return rev_num\n",
        "\n",
        "num = 12345\n",
        "\n",
        "print(reverse_integer(num))\n"
      ],
      "metadata": {
        "colab": {
          "base_uri": "https://localhost:8080/"
        },
        "id": "05uSvSz36jsY",
        "outputId": "604eaa7b-34c6-4172-9304-49673fb44876"
      },
      "execution_count": 9,
      "outputs": [
        {
          "output_type": "stream",
          "name": "stdout",
          "text": [
            "54321\n"
          ]
        }
      ]
    },
    {
      "cell_type": "markdown",
      "source": [
        "# 11. Write a Python Function to display all integers within the range 200-300 whose sum of digits is an even number.\n"
      ],
      "metadata": {
        "id": "FWywUy4f6ySP"
      }
    },
    {
      "cell_type": "code",
      "source": [
        "def display_even_sum_numbers(start_number, end_number):\n",
        "    for number in range(start_number, end_number + 1):\n",
        "        sum_of_digits = 0\n",
        "        for digit in str(number):\n",
        "            sum_of_digits += int(digit)\n",
        "        if sum_of_digits % 2 == 0:\n",
        "            print(number)\n",
        "\n",
        "display_even_sum_numbers(200, 300)\n"
      ],
      "metadata": {
        "colab": {
          "base_uri": "https://localhost:8080/"
        },
        "id": "oFBt6-p57Jqn",
        "outputId": "9c0eee34-5e4f-4653-8bfa-778e4fdb06c7"
      },
      "execution_count": 10,
      "outputs": [
        {
          "output_type": "stream",
          "name": "stdout",
          "text": [
            "200\n",
            "202\n",
            "204\n",
            "206\n",
            "208\n",
            "211\n",
            "213\n",
            "215\n",
            "217\n",
            "219\n",
            "220\n",
            "222\n",
            "224\n",
            "226\n",
            "228\n",
            "231\n",
            "233\n",
            "235\n",
            "237\n",
            "239\n",
            "240\n",
            "242\n",
            "244\n",
            "246\n",
            "248\n",
            "251\n",
            "253\n",
            "255\n",
            "257\n",
            "259\n",
            "260\n",
            "262\n",
            "264\n",
            "266\n",
            "268\n",
            "271\n",
            "273\n",
            "275\n",
            "277\n",
            "279\n",
            "280\n",
            "282\n",
            "284\n",
            "286\n",
            "288\n",
            "291\n",
            "293\n",
            "295\n",
            "297\n",
            "299\n"
          ]
        }
      ]
    },
    {
      "cell_type": "markdown",
      "source": [
        "# 12. Write a python Function to find the number of digits and sum of digits for a given integer.\n"
      ],
      "metadata": {
        "id": "mC7i4Lqa7RmG"
      }
    },
    {
      "cell_type": "code",
      "source": [
        "def find_number_of_digits_and_sum(number):\n",
        "    num_digits = 0\n",
        "    sum_of_digits = 0\n",
        "    while number != 0:\n",
        "        num_digits += 1\n",
        "        sum_of_digits += number % 10\n",
        "        number //= 10\n",
        "    return num_digits, sum_of_digits\n",
        "\n",
        "number = 12345\n",
        "\n",
        "num_digits, sum_of_digits = find_number_of_digits_and_sum(number)\n",
        "\n",
        "print(\"The number of digits in\", number, \"is\", num_digits)\n",
        "print(\"The sum of digits in\", number, \"is\", sum_of_digits)\n"
      ],
      "metadata": {
        "colab": {
          "base_uri": "https://localhost:8080/"
        },
        "id": "B8dmC4h27bcn",
        "outputId": "59bb7901-a099-406e-bda6-8195d3b18471"
      },
      "execution_count": 11,
      "outputs": [
        {
          "output_type": "stream",
          "name": "stdout",
          "text": [
            "The number of digits in 12345 is 5\n",
            "The sum of digits in 12345 is 15\n"
          ]
        }
      ]
    },
    {
      "cell_type": "markdown",
      "source": [
        "# 13. Write functions called is_sorted that takes a list as a parameter and returns True if the list is sorted in ascending order and False otherwise and has duplicates that takes a list and returns True if there is any element that appears more than once. It should not modify the original list"
      ],
      "metadata": {
        "id": "T__qiEbI7lJd"
      }
    },
    {
      "cell_type": "code",
      "source": [
        "def is_sorted(list1):\n",
        "    for i in range(len(list1) - 1):\n",
        "        if list1[i] > list1[i + 1]:\n",
        "            return False\n",
        "    return True\n",
        "\n",
        "def has_duplicates(list1):\n",
        "    for i in range(len(list1)):\n",
        "        for j in range(i + 1, len(list1)):\n",
        "            if list1[i] == list1[j]:\n",
        "                return True\n",
        "    return False\n",
        "\n",
        "list1 = [1, 2, 3, 4, 5]\n",
        "print(is_sorted(list1))\n",
        "\n",
        "list2 = [1, 2, 3, 2, 5]\n",
        "print(has_duplicates(list2))\n"
      ],
      "metadata": {
        "colab": {
          "base_uri": "https://localhost:8080/"
        },
        "id": "ZGLkHpXW7q7A",
        "outputId": "822019c8-ac0b-4e21-ee03-bd404ff0cdb4"
      },
      "execution_count": 14,
      "outputs": [
        {
          "output_type": "stream",
          "name": "stdout",
          "text": [
            "True\n",
            "True\n"
          ]
        }
      ]
    },
    {
      "cell_type": "markdown",
      "source": [
        "# **14. Write functions called nested_sum that takes a list of integers and adds up the elements from all the nested lists and cumsum that takes a list of numbers and returns the cumulative sum; that is, a new list where the ith element is the sum of the first i + 1 elements from the original list.**"
      ],
      "metadata": {
        "id": "oYSAcFs28Mak"
      }
    },
    {
      "cell_type": "code",
      "source": [
        "def nested_sum(list1):\n",
        "    sum = 0\n",
        "    for sublist in list1:\n",
        "        sum+= sum(sublist)\n",
        "    return sum\n",
        "\n",
        "def cumsum(list1):\n",
        "    cumsum_list = []\n",
        "    cumsum = 0\n",
        "    for num in list1:\n",
        "        cumsum += num\n",
        "        cumsum_list.append(cumsum)\n",
        "    return cumsum_list\n",
        "\n",
        "list1 = [[1, 2, 3], [4, 5, 6], [7, 8, 9]]\n",
        "print(nested_sum(list1))\n",
        "\n",
        "list2 = [1, 2, 3, 4, 5]\n",
        "print(cumsum(list2))\n"
      ],
      "metadata": {
        "colab": {
          "base_uri": "https://localhost:8080/",
          "height": 367
        },
        "id": "3ZTvGG188Vjn",
        "outputId": "8278064d-98e6-421d-e921-f1df3dcd35d4"
      },
      "execution_count": 20,
      "outputs": [
        {
          "output_type": "error",
          "ename": "TypeError",
          "evalue": "ignored",
          "traceback": [
            "\u001b[0;31m---------------------------------------------------------------------------\u001b[0m",
            "\u001b[0;31mTypeError\u001b[0m                                 Traceback (most recent call last)",
            "\u001b[0;32m<ipython-input-20-40cf82c5d484>\u001b[0m in \u001b[0;36m<cell line: 16>\u001b[0;34m()\u001b[0m\n\u001b[1;32m     14\u001b[0m \u001b[0;34m\u001b[0m\u001b[0m\n\u001b[1;32m     15\u001b[0m \u001b[0mlist1\u001b[0m \u001b[0;34m=\u001b[0m \u001b[0;34m[\u001b[0m\u001b[0;34m[\u001b[0m\u001b[0;36m1\u001b[0m\u001b[0;34m,\u001b[0m \u001b[0;36m2\u001b[0m\u001b[0;34m,\u001b[0m \u001b[0;36m3\u001b[0m\u001b[0;34m]\u001b[0m\u001b[0;34m,\u001b[0m \u001b[0;34m[\u001b[0m\u001b[0;36m4\u001b[0m\u001b[0;34m,\u001b[0m \u001b[0;36m5\u001b[0m\u001b[0;34m,\u001b[0m \u001b[0;36m6\u001b[0m\u001b[0;34m]\u001b[0m\u001b[0;34m,\u001b[0m \u001b[0;34m[\u001b[0m\u001b[0;36m7\u001b[0m\u001b[0;34m,\u001b[0m \u001b[0;36m8\u001b[0m\u001b[0;34m,\u001b[0m \u001b[0;36m9\u001b[0m\u001b[0;34m]\u001b[0m\u001b[0;34m]\u001b[0m\u001b[0;34m\u001b[0m\u001b[0;34m\u001b[0m\u001b[0m\n\u001b[0;32m---> 16\u001b[0;31m \u001b[0mprint\u001b[0m\u001b[0;34m(\u001b[0m\u001b[0mnested_sum\u001b[0m\u001b[0;34m(\u001b[0m\u001b[0mlist1\u001b[0m\u001b[0;34m)\u001b[0m\u001b[0;34m)\u001b[0m\u001b[0;34m\u001b[0m\u001b[0;34m\u001b[0m\u001b[0m\n\u001b[0m\u001b[1;32m     17\u001b[0m \u001b[0;34m\u001b[0m\u001b[0m\n\u001b[1;32m     18\u001b[0m \u001b[0mlist2\u001b[0m \u001b[0;34m=\u001b[0m \u001b[0;34m[\u001b[0m\u001b[0;36m1\u001b[0m\u001b[0;34m,\u001b[0m \u001b[0;36m2\u001b[0m\u001b[0;34m,\u001b[0m \u001b[0;36m3\u001b[0m\u001b[0;34m,\u001b[0m \u001b[0;36m4\u001b[0m\u001b[0;34m,\u001b[0m \u001b[0;36m5\u001b[0m\u001b[0;34m]\u001b[0m\u001b[0;34m\u001b[0m\u001b[0;34m\u001b[0m\u001b[0m\n",
            "\u001b[0;32m<ipython-input-20-40cf82c5d484>\u001b[0m in \u001b[0;36mnested_sum\u001b[0;34m(list1)\u001b[0m\n\u001b[1;32m      2\u001b[0m     \u001b[0msum\u001b[0m \u001b[0;34m=\u001b[0m \u001b[0;36m0\u001b[0m\u001b[0;34m\u001b[0m\u001b[0;34m\u001b[0m\u001b[0m\n\u001b[1;32m      3\u001b[0m     \u001b[0;32mfor\u001b[0m \u001b[0msublist\u001b[0m \u001b[0;32min\u001b[0m \u001b[0mlist1\u001b[0m\u001b[0;34m:\u001b[0m\u001b[0;34m\u001b[0m\u001b[0;34m\u001b[0m\u001b[0m\n\u001b[0;32m----> 4\u001b[0;31m         \u001b[0msum\u001b[0m\u001b[0;34m+=\u001b[0m \u001b[0msum\u001b[0m\u001b[0;34m(\u001b[0m\u001b[0msublist\u001b[0m\u001b[0;34m)\u001b[0m\u001b[0;34m\u001b[0m\u001b[0;34m\u001b[0m\u001b[0m\n\u001b[0m\u001b[1;32m      5\u001b[0m     \u001b[0;32mreturn\u001b[0m \u001b[0msum\u001b[0m\u001b[0;34m\u001b[0m\u001b[0;34m\u001b[0m\u001b[0m\n\u001b[1;32m      6\u001b[0m \u001b[0;34m\u001b[0m\u001b[0m\n",
            "\u001b[0;31mTypeError\u001b[0m: 'int' object is not callable"
          ]
        }
      ]
    }
  ]
}