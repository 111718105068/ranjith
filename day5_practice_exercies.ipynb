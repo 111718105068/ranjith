{
  "nbformat": 4,
  "nbformat_minor": 0,
  "metadata": {
    "colab": {
      "provenance": [],
      "toc_visible": true,
      "authorship_tag": "ABX9TyNUDFFCrjp4Hic5+1OAX1sW",
      "include_colab_link": true
    },
    "kernelspec": {
      "name": "python3",
      "display_name": "Python 3"
    },
    "language_info": {
      "name": "python"
    }
  },
  "cells": [
    {
      "cell_type": "markdown",
      "metadata": {
        "id": "view-in-github",
        "colab_type": "text"
      },
      "source": [
        "<a href=\"https://colab.research.google.com/github/111718105068/ranjith/blob/main/day5_practice_exercies.ipynb\" target=\"_parent\"><img src=\"https://colab.research.google.com/assets/colab-badge.svg\" alt=\"Open In Colab\"/></a>"
      ]
    },
    {
      "cell_type": "markdown",
      "source": [
        "# **Modules and Virtual Environments**\n",
        "\n",
        "## 1. Module Import and Management\n",
        "\n",
        "Scenario: You are developing a complex Python project with multiple modules. To manage the project effectively, you need to import and use various modules. Additionally, you want to organize your code using namespaces and avoid naming conflicts.\n",
        "\n",
        "Design a Python program that demonstrates the following:\n",
        "\n",
        "1. Import multiple modules within your project.\n",
        "\n",
        "2. Use the import statement to access functions, classes, and variables from imported modules.\n",
        "\n",
        "3. Create your custom module and use it in your main program.\n",
        "\n",
        "4. Handle naming conflicts and ensure proper namespacing\n",
        "\n",
        "5. Implement error handling for missing modules or incorrect module usage"
      ],
      "metadata": {
        "id": "r5IpZW2N_le5"
      }
    },
    {
      "cell_type": "code",
      "execution_count": null,
      "metadata": {
        "colab": {
          "base_uri": "https://localhost:8080/"
        },
        "id": "G0Dea5tY-1Zv",
        "outputId": "14ec92dc-a47d-48f0-abe1-28f3412798a8"
      },
      "outputs": [
        {
          "output_type": "stream",
          "name": "stdout",
          "text": [
            "3.141592653589793\n",
            "86\n",
            "3\n",
            "12\n",
            "3.141592653589793\n",
            "Module missing_module does not exist.\n"
          ]
        }
      ],
      "source": [
        "import math\n",
        "import random\n",
        "\n",
        "# Create a custom module\n",
        "def my_module():\n",
        "    def add_numbers(a, b):\n",
        "        return a + b\n",
        "\n",
        "    def multiply_numbers(a, b):\n",
        "        return a * b\n",
        "\n",
        "    return add_numbers, multiply_numbers\n",
        "\n",
        "# Import the custom module\n",
        "add_numbers, multiply_numbers = my_module()\n",
        "\n",
        "# Access functions and variables from imported modules\n",
        "print(math.pi)\n",
        "print(random.randint(1, 100))\n",
        "\n",
        "# Use the custom module functions\n",
        "print(add_numbers(1, 2))\n",
        "print(multiply_numbers(3, 4))\n",
        "\n",
        "# Handle naming conflicts and ensure proper namespacing\n",
        "import math as math_module\n",
        "\n",
        "print(math_module.pi)\n",
        "\n",
        "# Implement error handling for missing modules or incorrect module usage\n",
        "try:\n",
        "    import missing_module\n",
        "except ImportError:\n",
        "    print(\"Module missing_module does not exist.\")\n",
        "\n",
        "try:\n",
        "    add_numbers(\"a\", \"b\")\n",
        "except TypeError:\n",
        "    print(\"The add_numbers() function expects two numeric arguments.\")\n"
      ]
    },
    {
      "cell_type": "markdown",
      "source": [
        "# 2. Virtual Environment Management\n",
        "\n",
        "Scenario: You are working on multiple Python projects with different dependencies and versions. To avoid conflicts and ensure project isolation, you del de to use virtual environments.\n",
        "\n",
        "Create a Python program that demonstrates the following:\n",
        "\n",
        "1. Create a virtual environment for a specific project.\n",
        "\n",
        "2. Activate and deactivate virtual environments.\n",
        "\n",
        "3 Install, upgrade, and uninstall packages within a virtual environment.\n",
        "\n",
        "4 List the installed packages in a virtual environment.\n",
        "\n",
        "5. Implement error handling for virtual environment operations"
      ],
      "metadata": {
        "id": "THqxFXsDK3dz"
      }
    },
    {
      "cell_type": "code",
      "source": [
        "import os\n",
        "import subprocess\n",
        "\n",
        "# Function to create a virtual environment\n",
        "def create_virtual_environment(venv_name):\n",
        "    try:\n",
        "        subprocess.run([\"python\", \"-m\", \"venv\", venv_name], check=True)\n",
        "        print(f\"Virtual environment '{venv_name}' created successfully.\")\n",
        "    except subprocess.CalledProcessError as e:\n",
        "        print(f\"Error creating virtual environment: {e}\")\n",
        "\n",
        "# Function to activate a virtual environment\n",
        "def activate_virtual_environment(venv_name):\n",
        "    try:\n",
        "        activate_script = os.path.join(venv_name, \"Scripts\" if os.name == \"nt\" else \"bin\", \"activate\")\n",
        "        subprocess.run([activate_script], shell=True, check=True)\n",
        "        print(f\"Activated virtual environment '{venv_name}'.\")\n",
        "    except subprocess.CalledProcessError as e:\n",
        "        print(f\"Error activating virtual environment: {e}\")\n",
        "def deactivate_virtual_environment():\n",
        "    try:\n",
        "        subprocess.run([\"deactivate\"], shell=True, check=True)\n",
        "        print(\"Deactivated the current virtual environment.\")\n",
        "    except subprocess.CalledProcessError as e:\n",
        "        print(f\"Error deactivating virtual environment: {e}\")\n",
        "def install_package(package_name):\n",
        "    try:\n",
        "        subprocess.run([\"pip\", \"install\", package_name], check=True)\n",
        "        print(f\"Installed '{package_name}' in the current virtual environment.\")\n",
        "    except subprocess.CalledProcessError as e:\n",
        "        print(f\"Error installing package: {e}\")\n",
        "def list_installed_packages():\n",
        "    try:\n",
        "        subprocess.run([\"pip\", \"list\"], check=True)\n",
        "    except subprocess.CalledProcessError as e:\n",
        "        print(f\"Error listing installed packages: {e}\")\n",
        "\n",
        "if __name__ == \"__main__\":\n",
        "    venv_name = \"my_virtual_env\"\n",
        "    create_virtual_environment(venv_name)\n",
        "    activate_virtual_environment(venv_name)\n",
        "    install_package(\"requests\")\n",
        "    list_installed_packages()\n",
        "    deactivate_virtual_environment()"
      ],
      "metadata": {
        "colab": {
          "base_uri": "https://localhost:8080/"
        },
        "id": "-mrXWOePLLRQ",
        "outputId": "467cb716-ae5a-4194-fd4d-ad9ed4153324"
      },
      "execution_count": null,
      "outputs": [
        {
          "output_type": "stream",
          "name": "stdout",
          "text": [
            "Error creating virtual environment: Command '['python', '-m', 'venv', 'my_virtual_env']' returned non-zero exit status 1.\n",
            "Error activating virtual environment: Command '['my_virtual_env/bin/activate']' returned non-zero exit status 127.\n",
            "Installed 'requests' in the current virtual environment.\n",
            "Error deactivating virtual environment: Command '['deactivate']' returned non-zero exit status 127.\n"
          ]
        }
      ]
    },
    {
      "cell_type": "markdown",
      "source": [
        "# **3. Module Dependency Resolution**\n",
        "\n",
        "Scenario: You are developing a Python application that relies on third-party packages. Managing dependencies and ensuring compatibility is crucial for your project's success\n",
        "\n",
        "Design a Python program that demonstrates the following:\n",
        "\n",
        "1. Use a requirements.txt file to specify project dependencies.\n",
        "\n",
        "2. Automatically install all project dependencies from the requirements.txt file.\n",
        "\n",
        "3. Ensure that the versions of installed packages are compatible.\n",
        "\n",
        "4. Implement error handling for dependency resolution and installation."
      ],
      "metadata": {
        "id": "4gQ1JHEWMFqR"
      }
    },
    {
      "cell_type": "code",
      "source": [
        "import subprocess\n",
        "def install_dependencies(requirements_file):\n",
        "    try:\n",
        "        subprocess.run([\"pip\", \"install\", \"-r\", requirements_file], check=True)\n",
        "        print(\"Dependencies installed successfully.\")\n",
        "    except subprocess.CalledProcessError as e:\n",
        "        print(f\"Error installing dependencies: {e}\")\n",
        "\n",
        "if __name__ == \"__main__\":\n",
        "    requirements_file = \"requirements.txt\"  # Replace with the path to your requirements.txt file\n",
        "    install_dependencies(requirements_file)"
      ],
      "metadata": {
        "colab": {
          "base_uri": "https://localhost:8080/"
        },
        "id": "T3JGsGHqMKK-",
        "outputId": "86947211-3839-4104-facd-dacc949951d6"
      },
      "execution_count": null,
      "outputs": [
        {
          "output_type": "stream",
          "name": "stdout",
          "text": [
            "Error installing dependencies: Command '['pip', 'install', '-r', 'requirements.txt']' returned non-zero exit status 1.\n"
          ]
        }
      ]
    },
    {
      "cell_type": "markdown",
      "source": [
        "# 1. Implement Inventory Management in Python with MySQL\n",
        "a) Inventory management, a critical element of the supply chain, is the tracking of inventory from manufacturers to warehouses and from these facilities to a point of sale. The goal of inventory management is to have the right products in the right place at the right time.\n",
        "\n",
        "b) The required Database is Inventory, and the required Tables are Purchases, Sales and Inventory\n",
        "\n",
        "c) Note: Apply your thoughts to demonstrate the DB Operation in Python."
      ],
      "metadata": {
        "id": "B2e4l1UAzc04"
      }
    },
    {
      "cell_type": "code",
      "source": [
        "import mysql.connector\n",
        "conn = mysql.connector.connect(\n",
        "    host=\"127.0.0.1\",\n",
        "    user=\"root\",\n",
        "    password=\"Ganapathi@002\",\n",
        "    database=\"Inventory\")\n",
        "print(conn)"
      ],
      "metadata": {
        "colab": {
          "base_uri": "https://localhost:8080/",
          "height": 384
        },
        "id": "wxtQxn0X0vg9",
        "outputId": "a73df04e-786d-4d0e-fc53-cf054965e73d"
      },
      "execution_count": 11,
      "outputs": [
        {
          "output_type": "error",
          "ename": "ModuleNotFoundError",
          "evalue": "ignored",
          "traceback": [
            "\u001b[0;31m---------------------------------------------------------------------------\u001b[0m",
            "\u001b[0;31mModuleNotFoundError\u001b[0m                       Traceback (most recent call last)",
            "\u001b[0;32m<ipython-input-11-6e3b87279c97>\u001b[0m in \u001b[0;36m<cell line: 1>\u001b[0;34m()\u001b[0m\n\u001b[0;32m----> 1\u001b[0;31m \u001b[0;32mimport\u001b[0m \u001b[0mmysql\u001b[0m\u001b[0;34m.\u001b[0m\u001b[0mconnector\u001b[0m\u001b[0;34m\u001b[0m\u001b[0;34m\u001b[0m\u001b[0m\n\u001b[0m\u001b[1;32m      2\u001b[0m conn = mysql.connector.connect(\n\u001b[1;32m      3\u001b[0m     \u001b[0mhost\u001b[0m\u001b[0;34m=\u001b[0m\u001b[0;34m\"127.0.0.1\"\u001b[0m\u001b[0;34m,\u001b[0m\u001b[0;34m\u001b[0m\u001b[0;34m\u001b[0m\u001b[0m\n\u001b[1;32m      4\u001b[0m     \u001b[0muser\u001b[0m\u001b[0;34m=\u001b[0m\u001b[0;34m\"root\"\u001b[0m\u001b[0;34m,\u001b[0m\u001b[0;34m\u001b[0m\u001b[0;34m\u001b[0m\u001b[0m\n\u001b[1;32m      5\u001b[0m     \u001b[0mpassword\u001b[0m\u001b[0;34m=\u001b[0m\u001b[0;34m\"Ganapathi@002\"\u001b[0m\u001b[0;34m,\u001b[0m\u001b[0;34m\u001b[0m\u001b[0;34m\u001b[0m\u001b[0m\n",
            "\u001b[0;31mModuleNotFoundError\u001b[0m: No module named 'mysql'",
            "",
            "\u001b[0;31m---------------------------------------------------------------------------\u001b[0;32m\nNOTE: If your import is failing due to a missing package, you can\nmanually install dependencies using either !pip or !apt.\n\nTo view examples of installing some common dependencies, click the\n\"Open Examples\" button below.\n\u001b[0;31m---------------------------------------------------------------------------\u001b[0m\n"
          ],
          "errorDetails": {
            "actions": [
              {
                "action": "open_url",
                "actionText": "Open Examples",
                "url": "/notebooks/snippets/importing_libraries.ipynb"
              }
            ]
          }
        }
      ]
    },
    {
      "cell_type": "code",
      "source": [
        "!apt-get -qq install -y libarchive-dev && pip install -U libarchive\n",
        "import libarchive"
      ],
      "metadata": {
        "colab": {
          "base_uri": "https://localhost:8080/",
          "height": 748
        },
        "id": "Z89x8oDIFHAX",
        "outputId": "9770d8c8-31d3-4869-a8b6-b51a10a82c16"
      },
      "execution_count": 10,
      "outputs": [
        {
          "output_type": "stream",
          "name": "stdout",
          "text": [
            "Selecting previously unselected package libarchive-dev:amd64.\n",
            "(Reading database ... 120901 files and directories currently installed.)\n",
            "Preparing to unpack .../libarchive-dev_3.6.0-1ubuntu1_amd64.deb ...\n",
            "Unpacking libarchive-dev:amd64 (3.6.0-1ubuntu1) ...\n",
            "Setting up libarchive-dev:amd64 (3.6.0-1ubuntu1) ...\n",
            "Processing triggers for man-db (2.10.2-1) ...\n",
            "Collecting libarchive\n",
            "  Downloading libarchive-0.4.7.tar.gz (23 kB)\n",
            "  Preparing metadata (setup.py) ... \u001b[?25l\u001b[?25hdone\n",
            "Collecting nose (from libarchive)\n",
            "  Downloading nose-1.3.7-py3-none-any.whl (154 kB)\n",
            "\u001b[2K     \u001b[90m━━━━━━━━━━━━━━━━━━━━━━━━━━━━━━━━━━━━━━━\u001b[0m \u001b[32m154.7/154.7 kB\u001b[0m \u001b[31m3.9 MB/s\u001b[0m eta \u001b[36m0:00:00\u001b[0m\n",
            "\u001b[?25hBuilding wheels for collected packages: libarchive\n",
            "  \u001b[1;31merror\u001b[0m: \u001b[1msubprocess-exited-with-error\u001b[0m\n",
            "  \n",
            "  \u001b[31m×\u001b[0m \u001b[32mpython setup.py bdist_wheel\u001b[0m did not run successfully.\n",
            "  \u001b[31m│\u001b[0m exit code: \u001b[1;36m1\u001b[0m\n",
            "  \u001b[31m╰─>\u001b[0m See above for output.\n",
            "  \n",
            "  \u001b[1;35mnote\u001b[0m: This error originates from a subprocess, and is likely not a problem with pip.\n",
            "  Building wheel for libarchive (setup.py) ... \u001b[?25lerror\n",
            "\u001b[31m  ERROR: Failed building wheel for libarchive\u001b[0m\u001b[31m\n",
            "\u001b[0m\u001b[?25h  Running setup.py clean for libarchive\n",
            "Failed to build libarchive\n",
            "\u001b[31mERROR: Could not build wheels for libarchive, which is required to install pyproject.toml-based projects\u001b[0m\u001b[31m\n",
            "\u001b[0m"
          ]
        },
        {
          "output_type": "error",
          "ename": "ModuleNotFoundError",
          "evalue": "ignored",
          "traceback": [
            "\u001b[0;31m---------------------------------------------------------------------------\u001b[0m",
            "\u001b[0;31mModuleNotFoundError\u001b[0m                       Traceback (most recent call last)",
            "\u001b[0;32m<ipython-input-10-00e696518bc8>\u001b[0m in \u001b[0;36m<cell line: 2>\u001b[0;34m()\u001b[0m\n\u001b[1;32m      1\u001b[0m \u001b[0mget_ipython\u001b[0m\u001b[0;34m(\u001b[0m\u001b[0;34m)\u001b[0m\u001b[0;34m.\u001b[0m\u001b[0msystem\u001b[0m\u001b[0;34m(\u001b[0m\u001b[0;34m'apt-get -qq install -y libarchive-dev && pip install -U libarchive'\u001b[0m\u001b[0;34m)\u001b[0m\u001b[0;34m\u001b[0m\u001b[0;34m\u001b[0m\u001b[0m\n\u001b[0;32m----> 2\u001b[0;31m \u001b[0;32mimport\u001b[0m \u001b[0mlibarchive\u001b[0m\u001b[0;34m\u001b[0m\u001b[0;34m\u001b[0m\u001b[0m\n\u001b[0m",
            "\u001b[0;31mModuleNotFoundError\u001b[0m: No module named 'libarchive'",
            "",
            "\u001b[0;31m---------------------------------------------------------------------------\u001b[0;32m\nNOTE: If your import is failing due to a missing package, you can\nmanually install dependencies using either !pip or !apt.\n\nTo install libarchive, click the button below.\n\u001b[0;31m---------------------------------------------------------------------------\u001b[0m\n"
          ],
          "errorDetails": {
            "actions": [
              {
                "action": "open_snippet",
                "actionText": "Install libarchive",
                "snippetFilter": "import libarchive"
              }
            ]
          }
        }
      ]
    },
    {
      "cell_type": "code",
      "source": [
        "!pip install cartopy\n",
        "import cartopy"
      ],
      "metadata": {
        "colab": {
          "base_uri": "https://localhost:8080/"
        },
        "id": "Gh6Pj7SQEg_D",
        "outputId": "b77d9fbd-75c5-44fe-bc57-8c1c2615412e"
      },
      "execution_count": 7,
      "outputs": [
        {
          "output_type": "stream",
          "name": "stdout",
          "text": [
            "Collecting cartopy\n",
            "  Downloading Cartopy-0.22.0-cp310-cp310-manylinux_2_17_x86_64.manylinux2014_x86_64.whl (11.8 MB)\n",
            "\u001b[2K     \u001b[90m━━━━━━━━━━━━━━━━━━━━━━━━━━━━━━━━━━━━━━━━\u001b[0m \u001b[32m11.8/11.8 MB\u001b[0m \u001b[31m48.7 MB/s\u001b[0m eta \u001b[36m0:00:00\u001b[0m\n",
            "\u001b[?25hRequirement already satisfied: numpy>=1.21 in /usr/local/lib/python3.10/dist-packages (from cartopy) (1.23.5)\n",
            "Requirement already satisfied: matplotlib>=3.4 in /usr/local/lib/python3.10/dist-packages (from cartopy) (3.7.1)\n",
            "Requirement already satisfied: shapely>=1.7 in /usr/local/lib/python3.10/dist-packages (from cartopy) (2.0.1)\n",
            "Requirement already satisfied: packaging>=20 in /usr/local/lib/python3.10/dist-packages (from cartopy) (23.1)\n",
            "Requirement already satisfied: pyshp>=2.1 in /usr/local/lib/python3.10/dist-packages (from cartopy) (2.3.1)\n",
            "Requirement already satisfied: pyproj>=3.1.0 in /usr/local/lib/python3.10/dist-packages (from cartopy) (3.6.0)\n",
            "Requirement already satisfied: contourpy>=1.0.1 in /usr/local/lib/python3.10/dist-packages (from matplotlib>=3.4->cartopy) (1.1.0)\n",
            "Requirement already satisfied: cycler>=0.10 in /usr/local/lib/python3.10/dist-packages (from matplotlib>=3.4->cartopy) (0.11.0)\n",
            "Requirement already satisfied: fonttools>=4.22.0 in /usr/local/lib/python3.10/dist-packages (from matplotlib>=3.4->cartopy) (4.42.1)\n",
            "Requirement already satisfied: kiwisolver>=1.0.1 in /usr/local/lib/python3.10/dist-packages (from matplotlib>=3.4->cartopy) (1.4.5)\n",
            "Requirement already satisfied: pillow>=6.2.0 in /usr/local/lib/python3.10/dist-packages (from matplotlib>=3.4->cartopy) (9.4.0)\n",
            "Requirement already satisfied: pyparsing>=2.3.1 in /usr/local/lib/python3.10/dist-packages (from matplotlib>=3.4->cartopy) (3.1.1)\n",
            "Requirement already satisfied: python-dateutil>=2.7 in /usr/local/lib/python3.10/dist-packages (from matplotlib>=3.4->cartopy) (2.8.2)\n",
            "Requirement already satisfied: certifi in /usr/local/lib/python3.10/dist-packages (from pyproj>=3.1.0->cartopy) (2023.7.22)\n",
            "Requirement already satisfied: six>=1.5 in /usr/local/lib/python3.10/dist-packages (from python-dateutil>=2.7->matplotlib>=3.4->cartopy) (1.16.0)\n",
            "Installing collected packages: cartopy\n",
            "Successfully installed cartopy-0.22.0\n"
          ]
        }
      ]
    },
    {
      "cell_type": "code",
      "source": [
        "cursor = conn.cursor()\n",
        "cursor"
      ],
      "metadata": {
        "colab": {
          "base_uri": "https://localhost:8080/",
          "height": 193
        },
        "id": "4iAtwAVn0y93",
        "outputId": "920f2af2-1406-4a7d-c469-790a3d6b5892"
      },
      "execution_count": null,
      "outputs": [
        {
          "output_type": "error",
          "ename": "NameError",
          "evalue": "ignored",
          "traceback": [
            "\u001b[0;31m---------------------------------------------------------------------------\u001b[0m",
            "\u001b[0;31mNameError\u001b[0m                                 Traceback (most recent call last)",
            "\u001b[0;32m<ipython-input-6-a4bc6ab08091>\u001b[0m in \u001b[0;36m<cell line: 1>\u001b[0;34m()\u001b[0m\n\u001b[0;32m----> 1\u001b[0;31m \u001b[0mcursor\u001b[0m \u001b[0;34m=\u001b[0m \u001b[0mconn\u001b[0m\u001b[0;34m.\u001b[0m\u001b[0mcursor\u001b[0m\u001b[0;34m(\u001b[0m\u001b[0;34m)\u001b[0m\u001b[0;34m\u001b[0m\u001b[0;34m\u001b[0m\u001b[0m\n\u001b[0m\u001b[1;32m      2\u001b[0m \u001b[0mcursor\u001b[0m\u001b[0;34m\u001b[0m\u001b[0;34m\u001b[0m\u001b[0m\n",
            "\u001b[0;31mNameError\u001b[0m: name 'conn' is not defined"
          ]
        }
      ]
    },
    {
      "cell_type": "code",
      "source": [
        "cursor.execute(\"CREATE TABLE Purchases (id INT AUTO_INCREMENT PRIMARY KEY,product_name VARCHAR(255) NOT NULL,quantity INT NOT NULL)\")\n",
        "cursor.execute(\"CREATE TABLE Sales (id INT AUTO_INCREMENT PRIMARY KEY,product_name VARCHAR(255) NOT NULL,quantity INT NOT NULL)\")\n",
        "cursor.execute(\"CREATE TABLE Inventory (id INT AUTO_INCREMENT PRIMARY KEY,product_name VARCHAR(255) NOT NULL,quantity INT NOT NULL)\")\n",
        "cursor.execute(\"alter table purchases add column products_date Date NOT NULL\")\n",
        "cursor.execute(\"alter table Sales add column sale_date Date NOT NULL\")\n",
        "insert_purchase_query = \"INSERT INTO Purchases (id,product_name, quantity, products_date) VALUES (%s,%s, %s, %s)\"\n",
        "insert_purchase_query = \"INSERT INTO Sales (id,product_name, quantity, sale_date) VALUES (%s,%s, %s, %s)\"\n",
        "purchase_data = [(1,\"Product A\", 100, \"2023-09-15\"),(2,\"Product B\", 100, \"2023-09-15\")]\n",
        "sales_data = [(1,\"Product A\", 100, \"2023-09-15\"),(2,\"Product B\", 100, \"2023-09-15\")]\n",
        "cursor.executemany(insert_purchase_query, purchase_data)\n",
        "conn.commit()\n",
        "select_sample_query = \"SELECT * FROM Purchases\"\n",
        "cursor.execute(select_sample_query)\n",
        "sample_data = cursor.fetchall()\n",
        "for row in sample_data:\n",
        "    print(row)\n",
        "\n",
        "cursor.close()\n",
        "conn.close()"
      ],
      "metadata": {
        "colab": {
          "base_uri": "https://localhost:8080/",
          "height": 297
        },
        "id": "jJadHbeD03QU",
        "outputId": "9623bfbe-a635-4979-938d-c3a5d3eb8ad1"
      },
      "execution_count": null,
      "outputs": [
        {
          "output_type": "error",
          "ename": "NameError",
          "evalue": "ignored",
          "traceback": [
            "\u001b[0;31m---------------------------------------------------------------------------\u001b[0m",
            "\u001b[0;31mNameError\u001b[0m                                 Traceback (most recent call last)",
            "\u001b[0;32m<ipython-input-7-6d83866a8f35>\u001b[0m in \u001b[0;36m<cell line: 1>\u001b[0;34m()\u001b[0m\n\u001b[0;32m----> 1\u001b[0;31m \u001b[0mcursor\u001b[0m\u001b[0;34m.\u001b[0m\u001b[0mexecute\u001b[0m\u001b[0;34m(\u001b[0m\u001b[0;34m\"CREATE TABLE Purchases (id INT AUTO_INCREMENT PRIMARY KEY,product_name VARCHAR(255) NOT NULL,quantity INT NOT NULL)\"\u001b[0m\u001b[0;34m)\u001b[0m\u001b[0;34m\u001b[0m\u001b[0;34m\u001b[0m\u001b[0m\n\u001b[0m\u001b[1;32m      2\u001b[0m \u001b[0mcursor\u001b[0m\u001b[0;34m.\u001b[0m\u001b[0mexecute\u001b[0m\u001b[0;34m(\u001b[0m\u001b[0;34m\"CREATE TABLE Sales (id INT AUTO_INCREMENT PRIMARY KEY,product_name VARCHAR(255) NOT NULL,quantity INT NOT NULL)\"\u001b[0m\u001b[0;34m)\u001b[0m\u001b[0;34m\u001b[0m\u001b[0;34m\u001b[0m\u001b[0m\n\u001b[1;32m      3\u001b[0m \u001b[0mcursor\u001b[0m\u001b[0;34m.\u001b[0m\u001b[0mexecute\u001b[0m\u001b[0;34m(\u001b[0m\u001b[0;34m\"CREATE TABLE Inventory (id INT AUTO_INCREMENT PRIMARY KEY,product_name VARCHAR(255) NOT NULL,quantity INT NOT NULL)\"\u001b[0m\u001b[0;34m)\u001b[0m\u001b[0;34m\u001b[0m\u001b[0;34m\u001b[0m\u001b[0m\n\u001b[1;32m      4\u001b[0m \u001b[0mcursor\u001b[0m\u001b[0;34m.\u001b[0m\u001b[0mexecute\u001b[0m\u001b[0;34m(\u001b[0m\u001b[0;34m\"alter table purchases add column products_date Date NOT NULL\"\u001b[0m\u001b[0;34m)\u001b[0m\u001b[0;34m\u001b[0m\u001b[0;34m\u001b[0m\u001b[0m\n\u001b[1;32m      5\u001b[0m \u001b[0mcursor\u001b[0m\u001b[0;34m.\u001b[0m\u001b[0mexecute\u001b[0m\u001b[0;34m(\u001b[0m\u001b[0;34m\"alter table Sales add column sale_date Date NOT NULL\"\u001b[0m\u001b[0;34m)\u001b[0m\u001b[0;34m\u001b[0m\u001b[0;34m\u001b[0m\u001b[0m\n",
            "\u001b[0;31mNameError\u001b[0m: name 'cursor' is not defined"
          ]
        }
      ]
    },
    {
      "cell_type": "markdown",
      "source": [
        "# **2. Customer Order Processing**\n",
        "Scenario: You are building a customer order processing system for an e-commerce company. The system needs to interact with a MySQL database to store customer orders, products, and order details\n",
        "\n",
        "1.Design a MySQL database schema for the order processing system, including tables for customers, products, and orders\n",
        "\n",
        "2.Write a Python program that connects to the database and allows customers to place new orders\n",
        "\n",
        "3.Implement a feature that calculates the total cost of an order and updates product quantities in the database\n",
        "\n",
        "4.How would you handle cases where a product is no longer available when a customer places an order?\n",
        "\n",
        "5.Develop a function to generate order reports for the company's finance department"
      ],
      "metadata": {
        "id": "I_-Hf226Wf4Y"
      }
    },
    {
      "cell_type": "code",
      "source": [],
      "metadata": {
        "id": "G_gh0_lcWfd2"
      },
      "execution_count": null,
      "outputs": []
    },
    {
      "cell_type": "code",
      "source": [
        "import pymysql\n",
        "\n",
        "# Connect to the MySQL database\n",
        "connection = pymysql.connect(host='localhost', user='root', password='password', database='order_processing')\n",
        "\n",
        "# Get a cursor object\n",
        "cursor = connection.cursor()\n"
      ],
      "metadata": {
        "colab": {
          "base_uri": "https://localhost:8080/",
          "height": 401
        },
        "id": "mO3rg-Yb2OJn",
        "outputId": "0c2c1738-4edb-45f6-bad0-c53cab162529"
      },
      "execution_count": null,
      "outputs": [
        {
          "output_type": "error",
          "ename": "ModuleNotFoundError",
          "evalue": "ignored",
          "traceback": [
            "\u001b[0;31m---------------------------------------------------------------------------\u001b[0m",
            "\u001b[0;31mModuleNotFoundError\u001b[0m                       Traceback (most recent call last)",
            "\u001b[0;32m<ipython-input-9-4498ae59c21b>\u001b[0m in \u001b[0;36m<cell line: 1>\u001b[0;34m()\u001b[0m\n\u001b[0;32m----> 1\u001b[0;31m \u001b[0;32mimport\u001b[0m \u001b[0mpymysql\u001b[0m\u001b[0;34m\u001b[0m\u001b[0;34m\u001b[0m\u001b[0m\n\u001b[0m\u001b[1;32m      2\u001b[0m \u001b[0;34m\u001b[0m\u001b[0m\n\u001b[1;32m      3\u001b[0m \u001b[0;31m# Connect to the MySQL database\u001b[0m\u001b[0;34m\u001b[0m\u001b[0;34m\u001b[0m\u001b[0m\n\u001b[1;32m      4\u001b[0m \u001b[0mconnection\u001b[0m \u001b[0;34m=\u001b[0m \u001b[0mpymysql\u001b[0m\u001b[0;34m.\u001b[0m\u001b[0mconnect\u001b[0m\u001b[0;34m(\u001b[0m\u001b[0mhost\u001b[0m\u001b[0;34m=\u001b[0m\u001b[0;34m'localhost'\u001b[0m\u001b[0;34m,\u001b[0m \u001b[0muser\u001b[0m\u001b[0;34m=\u001b[0m\u001b[0;34m'root'\u001b[0m\u001b[0;34m,\u001b[0m \u001b[0mpassword\u001b[0m\u001b[0;34m=\u001b[0m\u001b[0;34m'password'\u001b[0m\u001b[0;34m,\u001b[0m \u001b[0mdatabase\u001b[0m\u001b[0;34m=\u001b[0m\u001b[0;34m'order_processing'\u001b[0m\u001b[0;34m)\u001b[0m\u001b[0;34m\u001b[0m\u001b[0;34m\u001b[0m\u001b[0m\n\u001b[1;32m      5\u001b[0m \u001b[0;34m\u001b[0m\u001b[0m\n",
            "\u001b[0;31mModuleNotFoundError\u001b[0m: No module named 'pymysql'",
            "",
            "\u001b[0;31m---------------------------------------------------------------------------\u001b[0;32m\nNOTE: If your import is failing due to a missing package, you can\nmanually install dependencies using either !pip or !apt.\n\nTo view examples of installing some common dependencies, click the\n\"Open Examples\" button below.\n\u001b[0;31m---------------------------------------------------------------------------\u001b[0m\n"
          ],
          "errorDetails": {
            "actions": [
              {
                "action": "open_url",
                "actionText": "Open Examples",
                "url": "/notebooks/snippets/importing_libraries.ipynb"
              }
            ]
          }
        }
      ]
    },
    {
      "cell_type": "code",
      "source": [
        "cursor = db.cursor()\n",
        "cursor\n",
        "\n",
        "cursor.execute(\"CREATE TABLE Customers(customer_id INT AUTO_INCREMENT PRIMARY KEY,first_name VARCHAR(255) NOT NULL,last_name VARCHAR(255) NOT NULL,email VARCHAR(255) NOT NULL)\")\n",
        "cursor.execute(\"CREATE TABLE Products(product_id INT AUTO_INCREMENT PRIMARY KEY,product_name VARCHAR(255) NOT NULL,price DECIMAL(10, 2) NOT NULL,quantity INT NOT NULL)\")\n",
        "cursor.execute(\"CREATE TABLE Orders(order_id INT AUTO_INCREMENT PRIMARY KEY,customer_id INT NOT NULL,order_date DATE NOT NULL,FOREIGN KEY (customer_id) REFERENCES Customers(customer_id))\")\n",
        "cursor.execute(\"alter table Orders add column total_cost INT NOT NULL \")\n",
        "cursor.execute(\"alter table Products add column quantity_available INT NOT NULL \")\n",
        "def place_order(customer_id, product_id, quantity):\n",
        "    # Check if the product is available\n",
        "    cursor.execute(\"SELECT quantity_available FROM Products WHERE product_id = %s\", (product_id,))\n",
        "    available_quantity = 1\n",
        "\n",
        "    if available_quantity < quantity:\n",
        "        print(\"Product not available in the desired quantity.\")\n",
        "        return\n",
        "\n",
        "    # Calculate the total cost\n",
        "    cursor.execute(\"SELECT price FROM Products WHERE product_id = %s\", (product_id,))\n",
        "    unit_price = cursor.fetchone()[0]\n",
        "    total_cost = unit_price * quantity\n",
        "    cursor.execute(\"INSERT INTO Orders (customer_id, total_cost) VALUES (%s, %s)\", (customer_id, total_cost))\n",
        "    order_id = cursor.lastrowid\n",
        "    cursor.execute(\"INSERT INTO OrderDetails (order_id, product_id, quantity, unit_price) VALUES (%s, %s, %s, %s)\",(order_id, product_id, quantity, unit_price))\n",
        "    new_quantity = available_quantity - quantity\n",
        "    cursor.execute(\"UPDATE Products SET quantity_available = %s WHERE product_id = %s\", (new_quantity, product_id))\n",
        "    db.commit()\n",
        "    print(\"Order placed successfully.\")\n",
        "place_order(1, 101, 3)\n",
        "\n",
        "def generate_order_report(start_date, end_date):\n",
        "    cursor.execute(\"SELECT Customers.first_name, Customers.last_name, Orders.order_date, Orders.total_cost \"\n",
        "                   \"FROM Customers \"\n",
        "                   \"JOIN Orders ON Customers.customer_id = Orders.customer_id \"\n",
        "                   \"WHERE Orders.order_date BETWEEN %s AND %s\", (start_date, end_date))\n",
        "\n",
        "    orders = cursor.fetchall()\n",
        "\n",
        "    if not orders:\n",
        "        print(\"No orders found for the specified date range.\")\n",
        "        return\n",
        "\n",
        "    print(\"Order Report:\")\n",
        "    print(\"Customer Name\\tOrder Date\\tTotal Cost\")\n",
        "    for order in orders:\n",
        "        print(f\"{order[0]} {order[1]}\\t{order[2]}\\t${order[3]:.2f}\")\n",
        "generate_order_report(\"2023-01-01\", \"2023-12-31\")"
      ],
      "metadata": {
        "id": "VJZwtFZRXQo1"
      },
      "execution_count": null,
      "outputs": []
    },
    {
      "cell_type": "markdown",
      "source": [
        "# 3. You are tasked with developing a Python program that connects to a MySQL database, retrieves data from a table, performs some operations on the data, and updates the database with the modified data. Please write Python code to accomplish this task.\n",
        "Instructions:\n",
        "\n",
        "1.Assume that you have a MySQL database server running with the following details:\n",
        "i) Host: localhost\n",
        "\n",
        "ii) Port: 3306\n",
        "\n",
        "iii) Username: your username\n",
        "\n",
        "iv) Password: your password\n",
        "\n",
        "v) Database Name: your database.\n",
        "\n",
        "vi) Table Name your table\n",
        "\n",
        "vii) The table has the following columns: id (int), name (varchar),quantity (int)\n",
        "\n",
        "2.Your Python program should\n",
        "i) Connect to the MySQL database.\n",
        "\n",
        "ii) Retrieve all records from the your table table.\n",
        "\n",
        "iii) Calculate the total quantity of all records retrieved.\n",
        "\n",
        "iv) Update the quantity column of each record by doubling its value.\n",
        "\n",
        "v) Commit the changes to the database v Close the database connection.\n",
        "\n",
        "3.Handle any potential errors that may occur during the database connection and data manipulation, such as connection failures or SQL errors\n",
        "\n",
        "4.Provide comments in your code to explain each step."
      ],
      "metadata": {
        "id": "tyXLV-DbW_t8"
      }
    },
    {
      "cell_type": "code",
      "source": [
        "import mysql.connector\n",
        "db = mysql.connector.connect(\n",
        "    host=\"127.0.0.1\",\n",
        "    user=\"root\",\n",
        "    password=\"Ganapathi@002\",\n",
        "    database=\"Customer_Order\")\n",
        "print(db)\n",
        "\n",
        "cursor = db.cursor()\n",
        "cursor\n",
        "\n",
        "cursor.execute('INSERT INTO products (product_id,product_name,price,quantity,quantity_available) VALUES (3,\"sum\",1800,15,20)')\n",
        "db.commit()\n",
        "import mysql.connector\n",
        "\n",
        "try:\n",
        "    # Database connection parameters\n",
        "    db_config = {\n",
        "        \"host\":\"127.0.0.1\",\n",
        "        \"port\":3306,\n",
        "        \"user\": \"root\",\n",
        "        \"password\": \"Ganapathi@002\",\n",
        "        \"database\": \"Customer_Order\" }\n",
        "    conn = mysql.connector.connect(**db_config)\n",
        "    cursor = conn.cursor()\n",
        "    cursor.execute(\"SELECT * FROM Products\")\n",
        "    records = cursor.fetchall()\n",
        "    total_quantity = sum(record[4] for record in records)\n",
        "    update_query = \"UPDATE Products SET quantity = quantity * 2\"\n",
        "    cursor.execute(update_query)\n",
        "\n",
        "    # Commit the changes to the database\n",
        "    conn.commit()\n",
        "\n",
        "    # Close the cursor and connection\n",
        "    cursor.close()\n",
        "    conn.close()\n",
        "\n",
        "    print(\"Database update completed successfully.\")\n",
        "    print(f\"Total quantity before update: {total_quantity}\")\n",
        "    print(f\"Total quantity after update: {total_quantity * 2}\")\n",
        "\n",
        "except mysql.connector.Error as err:\n",
        "    print(f\"Error: {err}\")\n",
        "except Exception as e:\n",
        "    print(f\"An error occurred: {e}\")"
      ],
      "metadata": {
        "colab": {
          "base_uri": "https://localhost:8080/",
          "height": 384
        },
        "id": "gLAmZW4FYQ7h",
        "outputId": "00449d0b-6251-4bc2-b930-7615e4dd4945"
      },
      "execution_count": 13,
      "outputs": [
        {
          "output_type": "error",
          "ename": "ModuleNotFoundError",
          "evalue": "ignored",
          "traceback": [
            "\u001b[0;31m---------------------------------------------------------------------------\u001b[0m",
            "\u001b[0;31mModuleNotFoundError\u001b[0m                       Traceback (most recent call last)",
            "\u001b[0;32m<ipython-input-13-c2115fd6b54f>\u001b[0m in \u001b[0;36m<cell line: 1>\u001b[0;34m()\u001b[0m\n\u001b[0;32m----> 1\u001b[0;31m \u001b[0;32mimport\u001b[0m \u001b[0mmysql\u001b[0m\u001b[0;34m.\u001b[0m\u001b[0mconnector\u001b[0m\u001b[0;34m\u001b[0m\u001b[0;34m\u001b[0m\u001b[0m\n\u001b[0m\u001b[1;32m      2\u001b[0m db = mysql.connector.connect(\n\u001b[1;32m      3\u001b[0m     \u001b[0mhost\u001b[0m\u001b[0;34m=\u001b[0m\u001b[0;34m\"127.0.0.1\"\u001b[0m\u001b[0;34m,\u001b[0m\u001b[0;34m\u001b[0m\u001b[0;34m\u001b[0m\u001b[0m\n\u001b[1;32m      4\u001b[0m     \u001b[0muser\u001b[0m\u001b[0;34m=\u001b[0m\u001b[0;34m\"root\"\u001b[0m\u001b[0;34m,\u001b[0m\u001b[0;34m\u001b[0m\u001b[0;34m\u001b[0m\u001b[0m\n\u001b[1;32m      5\u001b[0m     \u001b[0mpassword\u001b[0m\u001b[0;34m=\u001b[0m\u001b[0;34m\"Ganapathi@002\"\u001b[0m\u001b[0;34m,\u001b[0m\u001b[0;34m\u001b[0m\u001b[0;34m\u001b[0m\u001b[0m\n",
            "\u001b[0;31mModuleNotFoundError\u001b[0m: No module named 'mysql'",
            "",
            "\u001b[0;31m---------------------------------------------------------------------------\u001b[0;32m\nNOTE: If your import is failing due to a missing package, you can\nmanually install dependencies using either !pip or !apt.\n\nTo view examples of installing some common dependencies, click the\n\"Open Examples\" button below.\n\u001b[0;31m---------------------------------------------------------------------------\u001b[0m\n"
          ],
          "errorDetails": {
            "actions": [
              {
                "action": "open_url",
                "actionText": "Open Examples",
                "url": "/notebooks/snippets/importing_libraries.ipynb"
              }
            ]
          }
        }
      ]
    },
    {
      "cell_type": "markdown",
      "source": [
        "# **4. You are developing an employee management system for a company. The database should store employee information, including name, salary, department, and hire date. Managers should be able to view and update employee details.**\n",
        "1.Design the database schema for the employee management system.\n",
        "\n",
        "2.Write Python code to connect to the database and retrieve a list of employees in a specific department\n",
        "\n",
        "3.Implement a feature to update an employee's salary"
      ],
      "metadata": {
        "id": "gqcSRA-7MZTE"
      }
    },
    {
      "cell_type": "code",
      "source": [
        "import mysql.connector\n",
        "db = mysql.connector.connect(\n",
        "    host=\"127.0.0.1\",\n",
        "    user=\"root\",\n",
        "    password=\"Ganapathi@002\",\n",
        "    database=\"Employee_managament\")\n",
        "print(db)\n",
        "\n",
        "cursor = db.cursor()\n",
        "cursor\n",
        "\n",
        "cursor.execute(\"CREATE TABLE Employees(Name VARCHAR(255) NOT NULL,Salary INT NOT NULL,Hire_Date DATE NOT NULL)\")\n",
        "cursor.execute(\"alter table Employees add column department VARCHAR(55)\")\n",
        "cursor.execute('INSERT INTO Employees (Name,Salary,Hire_Date,Department) VALUES (\"Achu\",2500,\"2023-09-15\",\"HR\")')\n",
        "db.commit()\n",
        "import mysql.connector\n",
        "try:\n",
        "    db_config = {\n",
        "        \"host\": \"localhost\",\n",
        "        \"user\": \"root\",\n",
        "        \"password\": \"Ganapathi@002\",\n",
        "        \"database\": \"Employee_managament\"\n",
        "    }\n",
        "    conn = mysql.connector.connect(**db_config)\n",
        "    cursor = conn.cursor()\n",
        "    target_department = \"HR\"\n",
        "    query = \"SELECT name, salary, hire_date FROM Employees WHERE department = %s\"\n",
        "    cursor.execute(query, (target_department,))\n",
        "    employees = cursor.fetchall()\n",
        "    for employee in employees:\n",
        "        name, salary, hire_date = employee\n",
        "        print(f\"Name: {name}, Salary: {salary}, Hire Date: {hire_date}\")\n",
        "except mysql.connector.Error as err:\n",
        "    print(f\"Error: {err}\")\n",
        "except Exception as e:\n",
        "    print(f\"An error occurred: {e}\")\n",
        "\n",
        "employee_name = \"John Doe\"\n",
        "new_salary = 60000.00\n",
        "update_query = \"UPDATE Employees SET salary = %s WHERE name = %s\"\n",
        "cursor.execute(update_query, (new_salary, employee_name))\n",
        "db.commit()\n",
        "print(f\"{employee_name}'s salary updated to {new_salary:.2f}\")"
      ],
      "metadata": {
        "id": "gcQfIJpRY1dw",
        "colab": {
          "base_uri": "https://localhost:8080/",
          "height": 384
        },
        "outputId": "dc9d48af-6fc7-48cf-aa84-ea401c309504"
      },
      "execution_count": 14,
      "outputs": [
        {
          "output_type": "error",
          "ename": "ModuleNotFoundError",
          "evalue": "ignored",
          "traceback": [
            "\u001b[0;31m---------------------------------------------------------------------------\u001b[0m",
            "\u001b[0;31mModuleNotFoundError\u001b[0m                       Traceback (most recent call last)",
            "\u001b[0;32m<ipython-input-14-bc2485b96cc9>\u001b[0m in \u001b[0;36m<cell line: 1>\u001b[0;34m()\u001b[0m\n\u001b[0;32m----> 1\u001b[0;31m \u001b[0;32mimport\u001b[0m \u001b[0mmysql\u001b[0m\u001b[0;34m.\u001b[0m\u001b[0mconnector\u001b[0m\u001b[0;34m\u001b[0m\u001b[0;34m\u001b[0m\u001b[0m\n\u001b[0m\u001b[1;32m      2\u001b[0m db = mysql.connector.connect(\n\u001b[1;32m      3\u001b[0m     \u001b[0mhost\u001b[0m\u001b[0;34m=\u001b[0m\u001b[0;34m\"127.0.0.1\"\u001b[0m\u001b[0;34m,\u001b[0m\u001b[0;34m\u001b[0m\u001b[0;34m\u001b[0m\u001b[0m\n\u001b[1;32m      4\u001b[0m     \u001b[0muser\u001b[0m\u001b[0;34m=\u001b[0m\u001b[0;34m\"root\"\u001b[0m\u001b[0;34m,\u001b[0m\u001b[0;34m\u001b[0m\u001b[0;34m\u001b[0m\u001b[0m\n\u001b[1;32m      5\u001b[0m     \u001b[0mpassword\u001b[0m\u001b[0;34m=\u001b[0m\u001b[0;34m\"Ganapathi@002\"\u001b[0m\u001b[0;34m,\u001b[0m\u001b[0;34m\u001b[0m\u001b[0;34m\u001b[0m\u001b[0m\n",
            "\u001b[0;31mModuleNotFoundError\u001b[0m: No module named 'mysql'",
            "",
            "\u001b[0;31m---------------------------------------------------------------------------\u001b[0;32m\nNOTE: If your import is failing due to a missing package, you can\nmanually install dependencies using either !pip or !apt.\n\nTo view examples of installing some common dependencies, click the\n\"Open Examples\" button below.\n\u001b[0;31m---------------------------------------------------------------------------\u001b[0m\n"
          ],
          "errorDetails": {
            "actions": [
              {
                "action": "open_url",
                "actionText": "Open Examples",
                "url": "/notebooks/snippets/importing_libraries.ipynb"
              }
            ]
          }
        }
      ]
    },
    {
      "cell_type": "markdown",
      "source": [],
      "metadata": {
        "id": "HEiyjguGhTws"
      }
    },
    {
      "cell_type": "code",
      "source": [],
      "metadata": {
        "id": "t-krQTmlhnu5"
      },
      "execution_count": null,
      "outputs": []
    }
  ]
}