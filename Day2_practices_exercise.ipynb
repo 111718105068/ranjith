{
  "nbformat": 4,
  "nbformat_minor": 0,
  "metadata": {
    "colab": {
      "provenance": [],
      "authorship_tag": "ABX9TyMhL3gozSica2sMRuc1UkOo",
      "include_colab_link": true
    },
    "kernelspec": {
      "name": "python3",
      "display_name": "Python 3"
    },
    "language_info": {
      "name": "python"
    }
  },
  "cells": [
    {
      "cell_type": "markdown",
      "metadata": {
        "id": "view-in-github",
        "colab_type": "text"
      },
      "source": [
        "<a href=\"https://colab.research.google.com/github/111718105068/ranjith/blob/main/Day2_practices_exercise.ipynb\" target=\"_parent\"><img src=\"https://colab.research.google.com/assets/colab-badge.svg\" alt=\"Open In Colab\"/></a>"
      ]
    },
    {
      "cell_type": "markdown",
      "source": [],
      "metadata": {
        "id": "SBpzYjhlPk4j"
      }
    },
    {
      "cell_type": "markdown",
      "source": [
        "# FUNCTIONS"
      ],
      "metadata": {
        "id": "yDhm_W3vPnG_"
      }
    },
    {
      "cell_type": "markdown",
      "source": [
        "# 1. Write a python Function to list even and odd numbers in a list."
      ],
      "metadata": {
        "id": "QVOb3p62QfG4"
      }
    },
    {
      "cell_type": "code",
      "source": [
        "def list_even_odd(list1):\n",
        "  even_numbers = [number for number in list1 if number % 2 == 0]\n",
        "  odd_numbers = [number for number in list1 if number % 2 != 0]\n",
        "\n",
        "  return even_numbers, odd_numbers\n",
        "\n",
        "\n",
        "list1 = [1, 2, 3, 4, 5, 6, 7, 8, 9, 10]\n",
        "\n",
        "even_numbers, odd_numbers = list_even_odd(list1)\n",
        "\n",
        "print(\"The even numbers are:\", even_numbers)\n",
        "print(\"The odd numbers are:\", odd_numbers)\n"
      ],
      "metadata": {
        "colab": {
          "base_uri": "https://localhost:8080/"
        },
        "id": "JPXRLWydPtnR",
        "outputId": "eaaaec80-bbc4-4448-9a56-887dd9727234"
      },
      "execution_count": 1,
      "outputs": [
        {
          "output_type": "stream",
          "name": "stdout",
          "text": [
            "The even numbers are: [2, 4, 6, 8, 10]\n",
            "The odd numbers are: [1, 3, 5, 7, 9]\n"
          ]
        }
      ]
    },
    {
      "cell_type": "markdown",
      "source": [
        "# 2. Write and run a Python program that asks the user to enter 8 integers (one at a time), and then prints out how many of those integers were even numbers. For example, if the user entered 19, 6, 9, 20, 13, 7, 6, and 1, then your program should print out 3 since 3 of those numbers were even."
      ],
      "metadata": {
        "id": "C0wuwTYYQo0M"
      }
    },
    {
      "cell_type": "code",
      "source": [
        "even_numbers = 0\n",
        "\n",
        "for i in range(8):\n",
        "  number = int(input(\"Enter an integer: \"))\n",
        "  if number % 2 == 0:\n",
        "    even_numbers += 1\n",
        "\n",
        "print(\"The number of even numbers is:\", even_numbers)\n"
      ],
      "metadata": {
        "colab": {
          "base_uri": "https://localhost:8080/"
        },
        "id": "MWuotzwjQ2sQ",
        "outputId": "b7ffa148-68f4-4e1f-fcd0-927c8b8d41a0"
      },
      "execution_count": 3,
      "outputs": [
        {
          "output_type": "stream",
          "name": "stdout",
          "text": [
            "Enter an integer: 4\n",
            "Enter an integer: 19\n",
            "Enter an integer: 6\n",
            "Enter an integer: 9\n",
            "Enter an integer: 20\n",
            "Enter an integer: 13\n",
            "Enter an integer: 7\n",
            "Enter an integer: 6\n",
            "The number of even numbers is: 4\n"
          ]
        }
      ]
    },
    {
      "cell_type": "markdown",
      "source": [
        "# 3. Write a Python program where you take any positive integer n, if n is even, divide it by 2 to get n/2. If n is odd, multiply it by 3 and add 1 to obtain 3n+1. Repeat the process until you reach 1.\n"
      ],
      "metadata": {
        "id": "ngzi0NiuRmBv"
      }
    },
    {
      "cell_type": "code",
      "source": [
        "def collatz(n):\n",
        "  \"\"\"\n",
        "  Prints the Collatz sequence starting from n.\n",
        "\n",
        "  Args:\n",
        "    n: The starting number.\n",
        "  \"\"\"\n",
        "  while n > 1:\n",
        "    print(n)\n",
        "    if n % 2 == 0:\n",
        "      n = n // 2\n",
        "    else:\n",
        "      n = 3 * n + 1\n",
        "\n",
        "\n",
        "# Start with the number 13\n",
        "collatz(13)\n"
      ],
      "metadata": {
        "colab": {
          "base_uri": "https://localhost:8080/"
        },
        "id": "hdXfgiNARuDp",
        "outputId": "f420fa44-5a5a-4179-ef94-40fad8efe40b"
      },
      "execution_count": 4,
      "outputs": [
        {
          "output_type": "stream",
          "name": "stdout",
          "text": [
            "13\n",
            "40\n",
            "20\n",
            "10\n",
            "5\n",
            "16\n",
            "8\n",
            "4\n",
            "2\n"
          ]
        }
      ]
    },
    {
      "cell_type": "markdown",
      "source": [
        "# 4. Write a Python program to compute the sum of all the multiples of 3 or 5 below 500."
      ],
      "metadata": {
        "id": "21yGfAnNSHYg"
      }
    },
    {
      "cell_type": "code",
      "source": [
        "def sum_of_multiples(limit):\n",
        "\n",
        "  sum = 0\n",
        "  for i in range(limit):\n",
        "    if i % 3 == 0 or i % 5 == 0:\n",
        "      sum += i\n",
        "\n",
        "  return sum\n",
        "\n",
        "\n",
        "# Find the sum of all the multiples of 3 or 5 below 500.\n",
        "sum = sum_of_multiples(500)\n",
        "\n",
        "# Print the sum.\n",
        "print(\"The sum is\", sum)\n"
      ],
      "metadata": {
        "colab": {
          "base_uri": "https://localhost:8080/"
        },
        "id": "IFXlLdoASJad",
        "outputId": "b2009d85-5559-4ccf-bf64-f012c4c256cf"
      },
      "execution_count": 5,
      "outputs": [
        {
          "output_type": "stream",
          "name": "stdout",
          "text": [
            "The sum is 57918\n"
          ]
        }
      ]
    },
    {
      "cell_type": "markdown",
      "source": [
        "# 5. To write a Python program to find first 'n' prime numbers from a list of given numbers. To write a Python program to compute matrix multiplication."
      ],
      "metadata": {
        "id": "9_55c8vCSWx3"
      }
    },
    {
      "cell_type": "code",
      "source": [
        "def matrix_multiplication(A, B):\n",
        "\n",
        "  n = len(A)\n",
        "  m = len(A[0])\n",
        "  p = len(B[0])\n",
        "\n",
        "  product = [[0 for i in range(p)] for j in range(n)]\n",
        "\n",
        "  for i in range(n):\n",
        "    for j in range(p):\n",
        "      product[i][j] = sum(A[i][k] * B[k][j] for k in range(m))\n",
        "\n",
        "  return product\n",
        "\n",
        "\n",
        "# Create two matrices.\n",
        "A = [[1, 2], [3, 4]]\n",
        "B = [[5, 6], [7, 8]]\n",
        "\n",
        "# Compute the product.\n",
        "product = matrix_multiplication(A, B)\n",
        "\n",
        "# Print the product.\n",
        "print(product)\n"
      ],
      "metadata": {
        "colab": {
          "base_uri": "https://localhost:8080/",
          "height": 367
        },
        "id": "4n4QEqeeSe3-",
        "outputId": "da7ff6b7-45aa-4a6b-bb92-ac5e6a455f43"
      },
      "execution_count": 6,
      "outputs": [
        {
          "output_type": "error",
          "ename": "TypeError",
          "evalue": "ignored",
          "traceback": [
            "\u001b[0;31m---------------------------------------------------------------------------\u001b[0m",
            "\u001b[0;31mTypeError\u001b[0m                                 Traceback (most recent call last)",
            "\u001b[0;32m<ipython-input-6-d4c0ea72179d>\u001b[0m in \u001b[0;36m<cell line: 21>\u001b[0;34m()\u001b[0m\n\u001b[1;32m     19\u001b[0m \u001b[0;34m\u001b[0m\u001b[0m\n\u001b[1;32m     20\u001b[0m \u001b[0;31m# Compute the product.\u001b[0m\u001b[0;34m\u001b[0m\u001b[0;34m\u001b[0m\u001b[0m\n\u001b[0;32m---> 21\u001b[0;31m \u001b[0mproduct\u001b[0m \u001b[0;34m=\u001b[0m \u001b[0mmatrix_multiplication\u001b[0m\u001b[0;34m(\u001b[0m\u001b[0mA\u001b[0m\u001b[0;34m,\u001b[0m \u001b[0mB\u001b[0m\u001b[0;34m)\u001b[0m\u001b[0;34m\u001b[0m\u001b[0;34m\u001b[0m\u001b[0m\n\u001b[0m\u001b[1;32m     22\u001b[0m \u001b[0;34m\u001b[0m\u001b[0m\n\u001b[1;32m     23\u001b[0m \u001b[0;31m# Print the product.\u001b[0m\u001b[0;34m\u001b[0m\u001b[0;34m\u001b[0m\u001b[0m\n",
            "\u001b[0;32m<ipython-input-6-d4c0ea72179d>\u001b[0m in \u001b[0;36mmatrix_multiplication\u001b[0;34m(A, B)\u001b[0m\n\u001b[1;32m      9\u001b[0m   \u001b[0;32mfor\u001b[0m \u001b[0mi\u001b[0m \u001b[0;32min\u001b[0m \u001b[0mrange\u001b[0m\u001b[0;34m(\u001b[0m\u001b[0mn\u001b[0m\u001b[0;34m)\u001b[0m\u001b[0;34m:\u001b[0m\u001b[0;34m\u001b[0m\u001b[0;34m\u001b[0m\u001b[0m\n\u001b[1;32m     10\u001b[0m     \u001b[0;32mfor\u001b[0m \u001b[0mj\u001b[0m \u001b[0;32min\u001b[0m \u001b[0mrange\u001b[0m\u001b[0;34m(\u001b[0m\u001b[0mp\u001b[0m\u001b[0;34m)\u001b[0m\u001b[0;34m:\u001b[0m\u001b[0;34m\u001b[0m\u001b[0;34m\u001b[0m\u001b[0m\n\u001b[0;32m---> 11\u001b[0;31m       \u001b[0mproduct\u001b[0m\u001b[0;34m[\u001b[0m\u001b[0mi\u001b[0m\u001b[0;34m]\u001b[0m\u001b[0;34m[\u001b[0m\u001b[0mj\u001b[0m\u001b[0;34m]\u001b[0m \u001b[0;34m=\u001b[0m \u001b[0msum\u001b[0m\u001b[0;34m(\u001b[0m\u001b[0mA\u001b[0m\u001b[0;34m[\u001b[0m\u001b[0mi\u001b[0m\u001b[0;34m]\u001b[0m\u001b[0;34m[\u001b[0m\u001b[0mk\u001b[0m\u001b[0;34m]\u001b[0m \u001b[0;34m*\u001b[0m \u001b[0mB\u001b[0m\u001b[0;34m[\u001b[0m\u001b[0mk\u001b[0m\u001b[0;34m]\u001b[0m\u001b[0;34m[\u001b[0m\u001b[0mj\u001b[0m\u001b[0;34m]\u001b[0m \u001b[0;32mfor\u001b[0m \u001b[0mk\u001b[0m \u001b[0;32min\u001b[0m \u001b[0mrange\u001b[0m\u001b[0;34m(\u001b[0m\u001b[0mm\u001b[0m\u001b[0;34m)\u001b[0m\u001b[0;34m)\u001b[0m\u001b[0;34m\u001b[0m\u001b[0;34m\u001b[0m\u001b[0m\n\u001b[0m\u001b[1;32m     12\u001b[0m \u001b[0;34m\u001b[0m\u001b[0m\n\u001b[1;32m     13\u001b[0m   \u001b[0;32mreturn\u001b[0m \u001b[0mproduct\u001b[0m\u001b[0;34m\u001b[0m\u001b[0;34m\u001b[0m\u001b[0m\n",
            "\u001b[0;31mTypeError\u001b[0m: 'int' object is not callable"
          ]
        }
      ]
    }
  ]
}