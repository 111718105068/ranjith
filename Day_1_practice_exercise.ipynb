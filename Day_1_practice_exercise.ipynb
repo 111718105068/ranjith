{
  "nbformat": 4,
  "nbformat_minor": 0,
  "metadata": {
    "colab": {
      "provenance": [],
      "authorship_tag": "ABX9TyNZKDevaeBgaJqPWQNdoqbX",
      "include_colab_link": true
    },
    "kernelspec": {
      "name": "python3",
      "display_name": "Python 3"
    },
    "language_info": {
      "name": "python"
    }
  },
  "cells": [
    {
      "cell_type": "markdown",
      "metadata": {
        "id": "view-in-github",
        "colab_type": "text"
      },
      "source": [
        "<a href=\"https://colab.research.google.com/github/111718105068/ranjith/blob/main/Day_1_practice_exercise.ipynb\" target=\"_parent\"><img src=\"https://colab.research.google.com/assets/colab-badge.svg\" alt=\"Open In Colab\"/></a>"
      ]
    },
    {
      "cell_type": "markdown",
      "source": [
        "**LANGUAGE FUNDMANTALS**\n",
        "  #1.MANIPULATE USING A LIST\n"
      ],
      "metadata": {
        "id": "fJhJDUViFlJO"
      }
    },
    {
      "cell_type": "code",
      "source": [],
      "metadata": {
        "id": "G467JEfpFkm2"
      },
      "execution_count": null,
      "outputs": []
    },
    {
      "cell_type": "code",
      "source": [
        "my_list = [1, 2, 3]\n",
        "new_element = 4     # New element to add\n",
        "my_list.append(new_element)\n"
      ],
      "metadata": {
        "id": "3gCeMpQWCPqQ"
      },
      "execution_count": null,
      "outputs": []
    },
    {
      "cell_type": "code",
      "source": [
        "print (my_list)"
      ],
      "metadata": {
        "colab": {
          "base_uri": "https://localhost:8080/"
        },
        "id": "CXneFFYeDSJY",
        "outputId": "734d7720-c93a-4a15-adb8-220acbc4020f"
      },
      "execution_count": null,
      "outputs": [
        {
          "output_type": "stream",
          "name": "stdout",
          "text": [
            "[1, 2, 3, 4]\n"
          ]
        }
      ]
    },
    {
      "cell_type": "code",
      "source": [
        "my_list = [1, 2, 3, 4, 5]\n",
        "\n",
        "# Reverse the elements in the list using the reverse() method\n",
        "my_list.reverse()\n",
        "print (my_list)"
      ],
      "metadata": {
        "id": "chQXMretDhjg",
        "colab": {
          "base_uri": "https://localhost:8080/"
        },
        "outputId": "705fcab7-07db-4fd2-f495-181ee5e9cbbb"
      },
      "execution_count": null,
      "outputs": [
        {
          "output_type": "stream",
          "name": "stdout",
          "text": [
            "[5, 4, 3, 2, 1]\n"
          ]
        }
      ]
    },
    {
      "cell_type": "code",
      "source": [
        "original_list = [1, 2, 3]\n",
        "repeated_list = original_list * 3  # Repeat the list three times\n",
        "\n",
        "print(repeated_list)\n"
      ],
      "metadata": {
        "colab": {
          "base_uri": "https://localhost:8080/"
        },
        "id": "pPwLoVIPI1Ih",
        "outputId": "9a6cc77c-4d4a-4392-d2cb-58ae110289d3"
      },
      "execution_count": null,
      "outputs": [
        {
          "output_type": "stream",
          "name": "stdout",
          "text": [
            "[1, 2, 3, 1, 2, 3, 1, 2, 3]\n"
          ]
        }
      ]
    },
    {
      "cell_type": "markdown",
      "source": [
        "or\n"
      ],
      "metadata": {
        "id": "nL-MJF8rNp35"
      }
    },
    {
      "cell_type": "code",
      "source": [
        "a=[1,2]\n",
        "b=a*4\n",
        "print (b)\n"
      ],
      "metadata": {
        "colab": {
          "base_uri": "https://localhost:8080/"
        },
        "id": "-IyJikr5JXuM",
        "outputId": "66108b72-9668-45a4-86bc-573dae9f131b"
      },
      "execution_count": null,
      "outputs": [
        {
          "output_type": "stream",
          "name": "stdout",
          "text": [
            "[1, 2, 1, 2, 1, 2, 1, 2]\n"
          ]
        }
      ]
    },
    {
      "cell_type": "code",
      "source": [
        "list1 = [1, 2, 3]\n",
        "list2 = [4, 5, 6]\n",
        "\n",
        "# Concatenate list\n",
        "concatenated_list = list1 + list2\n",
        "\n",
        "print(concatenated_list)\n"
      ],
      "metadata": {
        "colab": {
          "base_uri": "https://localhost:8080/"
        },
        "id": "KC5J7KCuNtPc",
        "outputId": "92740a92-c51b-4142-da0d-31a89b348f43"
      },
      "execution_count": null,
      "outputs": [
        {
          "output_type": "stream",
          "name": "stdout",
          "text": [
            "[1, 2, 3, 4, 5, 6]\n"
          ]
        }
      ]
    },
    {
      "cell_type": "code",
      "source": [
        "a= (1,2)\n",
        "b=(2,3,4)\n",
        "print (a+b)\n"
      ],
      "metadata": {
        "colab": {
          "base_uri": "https://localhost:8080/"
        },
        "id": "_0jEnsgKOEjY",
        "outputId": "59436c72-30c8-49e0-9700-2872f97c5b01"
      },
      "execution_count": null,
      "outputs": [
        {
          "output_type": "stream",
          "name": "stdout",
          "text": [
            "(1, 2, 2, 3, 4)\n"
          ]
        }
      ]
    },
    {
      "cell_type": "code",
      "source": [
        "a=[9,8,7,4,5,3,1,8]\n",
        "a.sort()\n",
        "# Sort the elements in the list in ascending order\n",
        "print (a)"
      ],
      "metadata": {
        "colab": {
          "base_uri": "https://localhost:8080/"
        },
        "id": "l4Ypbu-BPFIG",
        "outputId": "55b0a185-8330-4cfe-80c8-93ecf207b01b"
      },
      "execution_count": null,
      "outputs": [
        {
          "output_type": "stream",
          "name": "stdout",
          "text": [
            "[1, 3, 4, 5, 7, 8, 8, 9]\n"
          ]
        }
      ]
    },
    {
      "cell_type": "markdown",
      "source": [
        "#2. WRITE A PYTHON PROGRAM TO DO IT IN TUPLES"
      ],
      "metadata": {
        "id": "xKvU9iQcQn6Q"
      }
    },
    {
      "cell_type": "code",
      "source": [
        "# Creating a tuple\n",
        "my_tuple = (1, 2, 3, 4, 5)\n",
        "\n",
        "# Accessing an element\n",
        "first_element = my_tuple[0]  # Access the first element (1)\n",
        "\n",
        "# Tuple unpacking\n",
        "a, b, c, d, e = my_tuple  # Unpack the tuple into individual variables\n",
        "\n",
        "# Printing the results\n",
        "print(\"Tuple:\", my_tuple)\n",
        "print(\"First Element:\", first_element)\n",
        "print(\"Unpacked Variables:\", a, b, c, d, e)\n"
      ],
      "metadata": {
        "colab": {
          "base_uri": "https://localhost:8080/"
        },
        "id": "anGZW5ghQ-NC",
        "outputId": "05ee32e8-97e3-4504-b15e-41a1ce5224a7"
      },
      "execution_count": null,
      "outputs": [
        {
          "output_type": "stream",
          "name": "stdout",
          "text": [
            "Tuple: (1, 2, 3, 4, 5)\n",
            "First Element: 1\n",
            "Unpacked Variables: 1 2 3 4 5\n"
          ]
        }
      ]
    },
    {
      "cell_type": "code",
      "source": [
        "tuple1 = (1, 2, 3)\n",
        "\n",
        "# Add the element 4 to the end of the tuple.\n",
        "tuple1 = tuple1 + (4,)\n",
        "\n",
        "print(tuple1)\n"
      ],
      "metadata": {
        "colab": {
          "base_uri": "https://localhost:8080/"
        },
        "id": "35mx_4PHoxgk",
        "outputId": "09e1309e-cfc2-427b-e7e1-5994d5bc29a9"
      },
      "execution_count": null,
      "outputs": [
        {
          "output_type": "stream",
          "name": "stdout",
          "text": [
            "(1, 2, 3, 4)\n"
          ]
        }
      ]
    },
    {
      "cell_type": "code",
      "source": [
        "tuple1 = (1, 2, 3, 4, 5)\n",
        "\n",
        "# Reverse the elements of the tuple.\n",
        "tuple1 = tuple(reversed(tuple1))\n",
        "\n",
        "print(tuple1)\n"
      ],
      "metadata": {
        "colab": {
          "base_uri": "https://localhost:8080/"
        },
        "id": "0nljFRUWsIl0",
        "outputId": "4f221a1c-39b8-4728-932f-f75129fe7feb"
      },
      "execution_count": null,
      "outputs": [
        {
          "output_type": "stream",
          "name": "stdout",
          "text": [
            "(5, 4, 3, 2, 1)\n"
          ]
        }
      ]
    },
    {
      "cell_type": "code",
      "source": [
        "tuple1 = (1, 2, 3, 4, 5)\n",
        "\n",
        "# Display the elements of the tuple 3 times.\n",
        "for i in range(3):\n",
        "    print(tuple1)\n"
      ],
      "metadata": {
        "colab": {
          "base_uri": "https://localhost:8080/"
        },
        "id": "BJNo_j7lsK0W",
        "outputId": "4877a8cb-5736-475c-85dc-a26041da0283"
      },
      "execution_count": null,
      "outputs": [
        {
          "output_type": "stream",
          "name": "stdout",
          "text": [
            "(1, 2, 3, 4, 5)\n",
            "(1, 2, 3, 4, 5)\n",
            "(1, 2, 3, 4, 5)\n"
          ]
        }
      ]
    },
    {
      "cell_type": "code",
      "source": [
        "tuple1 = (1, 2, 3)\n",
        "tuple2 = (4, 5, 6)\n",
        "\n",
        "# Concatenate the two tuples.\n",
        "tuple3 = tuple1 + tuple2\n",
        "\n",
        "print(tuple3)\n"
      ],
      "metadata": {
        "colab": {
          "base_uri": "https://localhost:8080/"
        },
        "id": "XTpYK3VlsQzs",
        "outputId": "dad63a86-c591-466e-be66-a15e1d1d4187"
      },
      "execution_count": null,
      "outputs": [
        {
          "output_type": "stream",
          "name": "stdout",
          "text": [
            "(1, 2, 3, 4, 5, 6)\n"
          ]
        }
      ]
    },
    {
      "cell_type": "code",
      "source": [
        "tuple1 = [5, 4, 3, 2, 1]\n",
        "\n",
        "# Sort the elements of the tuple in ascending order.\n",
        "tuple1.sort()\n",
        "\n",
        "print(tuple1)\n"
      ],
      "metadata": {
        "colab": {
          "base_uri": "https://localhost:8080/"
        },
        "id": "VQrSYZejsVzA",
        "outputId": "ba775efc-f93d-4033-a1de-4cd8acfc995d"
      },
      "execution_count": null,
      "outputs": [
        {
          "output_type": "stream",
          "name": "stdout",
          "text": [
            "[1, 2, 3, 4, 5]\n"
          ]
        }
      ]
    },
    {
      "cell_type": "markdown",
      "source": [
        "3**. write a python program to implement the following using list.**"
      ],
      "metadata": {
        "id": "1-rmMUpMzTN1"
      }
    },
    {
      "cell_type": "code",
      "source": [],
      "metadata": {
        "id": "vtAvB5KqzSlS"
      },
      "execution_count": null,
      "outputs": []
    },
    {
      "cell_type": "code",
      "source": [
        "list1 = [1, 2, 3, 4, 5, 6, 7, 8, 9, 10]\n"
      ],
      "metadata": {
        "id": "Y5Kyrs7My3nF"
      },
      "execution_count": null,
      "outputs": []
    },
    {
      "cell_type": "code",
      "source": [
        "print(list1[-1])\n"
      ],
      "metadata": {
        "colab": {
          "base_uri": "https://localhost:8080/"
        },
        "id": "xhdX0r6hzAKi",
        "outputId": "59b9a0d6-4fc0-4f74-fc61-282314605c22"
      },
      "execution_count": null,
      "outputs": [
        {
          "output_type": "stream",
          "name": "stdout",
          "text": [
            "10\n"
          ]
        }
      ]
    },
    {
      "cell_type": "code",
      "source": [
        "print(list1[0:4])\n"
      ],
      "metadata": {
        "colab": {
          "base_uri": "https://localhost:8080/"
        },
        "id": "2r8UqQdbzCVu",
        "outputId": "29962ba3-8b80-45e5-b871-1ec8760f7f10"
      },
      "execution_count": null,
      "outputs": [
        {
          "output_type": "stream",
          "name": "stdout",
          "text": [
            "[1, 2, 3, 4]\n"
          ]
        }
      ]
    },
    {
      "cell_type": "code",
      "source": [
        "print(list1[2:])\n"
      ],
      "metadata": {
        "colab": {
          "base_uri": "https://localhost:8080/"
        },
        "id": "N0udgXb5zH8Q",
        "outputId": "048de75f-5ef5-4f6a-ba10-ffac14a601f4"
      },
      "execution_count": null,
      "outputs": [
        {
          "output_type": "stream",
          "name": "stdout",
          "text": [
            "[3, 4, 5, 6, 7, 8, 9, 10]\n"
          ]
        }
      ]
    },
    {
      "cell_type": "code",
      "source": [
        "print(list1[:6])\n"
      ],
      "metadata": {
        "colab": {
          "base_uri": "https://localhost:8080/"
        },
        "id": "C7Loc33rzOw2",
        "outputId": "da679b1b-5b53-46dd-cd4b-6ba7fe3c5d2c"
      },
      "execution_count": null,
      "outputs": [
        {
          "output_type": "stream",
          "name": "stdout",
          "text": [
            "[1, 2, 3, 4, 5, 6]\n"
          ]
        }
      ]
    },
    {
      "cell_type": "markdown",
      "source": [
        "**4. write a python program: tuple1 = (10,50,20,40,30)**"
      ],
      "metadata": {
        "id": "BVkesQhk0AsA"
      }
    },
    {
      "cell_type": "code",
      "source": [
        "tuple1 = (10, 50, 20, 40, 30)\n",
        "\n",
        "print(tuple1[0], tuple1[3])\n"
      ],
      "metadata": {
        "colab": {
          "base_uri": "https://localhost:8080/"
        },
        "id": "gect39-m0MEU",
        "outputId": "2f86409f-5e8b-4281-ee2e-1ea0b1cdc240"
      },
      "execution_count": null,
      "outputs": [
        {
          "output_type": "stream",
          "name": "stdout",
          "text": [
            "10 40\n"
          ]
        }
      ]
    },
    {
      "cell_type": "code",
      "source": [
        "print(len(tuple1))\n"
      ],
      "metadata": {
        "colab": {
          "base_uri": "https://localhost:8080/"
        },
        "id": "eunN13Y40Z9G",
        "outputId": "5a109a4d-ac3b-45b6-a456-867e1a4bb60f"
      },
      "execution_count": null,
      "outputs": [
        {
          "output_type": "stream",
          "name": "stdout",
          "text": [
            "5\n"
          ]
        }
      ]
    },
    {
      "cell_type": "code",
      "source": [
        "print(min(tuple1))\n"
      ],
      "metadata": {
        "colab": {
          "base_uri": "https://localhost:8080/"
        },
        "id": "PoROmcct0hnx",
        "outputId": "150efb0b-cacf-446a-c1c3-bbfe544ff92e"
      },
      "execution_count": null,
      "outputs": [
        {
          "output_type": "stream",
          "name": "stdout",
          "text": [
            "10\n"
          ]
        }
      ]
    },
    {
      "cell_type": "code",
      "source": [
        "sum = 0\n",
        "for i in tuple1:\n",
        "    sum += i\n",
        "\n",
        "print(sum)\n"
      ],
      "metadata": {
        "colab": {
          "base_uri": "https://localhost:8080/"
        },
        "id": "GN6G84JB0m8I",
        "outputId": "bc420189-e622-4e06-f7a6-62389208c018"
      },
      "execution_count": null,
      "outputs": [
        {
          "output_type": "stream",
          "name": "stdout",
          "text": [
            "150\n"
          ]
        }
      ]
    },
    {
      "cell_type": "code",
      "source": [
        "for i in range(3):\n",
        "    print(tuple1)\n"
      ],
      "metadata": {
        "colab": {
          "base_uri": "https://localhost:8080/"
        },
        "id": "LMlsysEr06yV",
        "outputId": "6b45af15-d107-4dae-cd72-89402d7d97b0"
      },
      "execution_count": null,
      "outputs": [
        {
          "output_type": "stream",
          "name": "stdout",
          "text": [
            "(10, 50, 20, 40, 30)\n",
            "(10, 50, 20, 40, 30)\n",
            "(10, 50, 20, 40, 30)\n"
          ]
        }
      ]
    },
    {
      "cell_type": "markdown",
      "source": [
        "**5. write a python program.**"
      ],
      "metadata": {
        "id": "LwYQyPsn1YO7"
      }
    },
    {
      "cell_type": "code",
      "source": [
        "str1 = \"Hello, world!\"\n",
        "\n",
        "print(len(str1))\n"
      ],
      "metadata": {
        "colab": {
          "base_uri": "https://localhost:8080/"
        },
        "id": "rJ6OMzkz1mYk",
        "outputId": "8b7313f9-a54e-4208-f9d0-85c8b8122ab7"
      },
      "execution_count": null,
      "outputs": [
        {
          "output_type": "stream",
          "name": "stdout",
          "text": [
            "13\n"
          ]
        }
      ]
    },
    {
      "cell_type": "code",
      "source": [
        "str1 = \"Hello, world!\"\n",
        "\n",
        "str2 = \"\"\n",
        "for i in str1[::-1]:\n",
        "    str2 += i\n",
        "\n",
        "print(str2)\n"
      ],
      "metadata": {
        "colab": {
          "base_uri": "https://localhost:8080/"
        },
        "id": "u8lDuhJ-10Qa",
        "outputId": "0f2150c5-8240-4595-93df-2356a83f0737"
      },
      "execution_count": null,
      "outputs": [
        {
          "output_type": "stream",
          "name": "stdout",
          "text": [
            "!dlrow ,olleH\n"
          ]
        }
      ]
    },
    {
      "cell_type": "code",
      "source": [
        "str1 = \"Hello, world!\"\n",
        "\n",
        "for i in range(3):\n",
        "    print(str1)\n"
      ],
      "metadata": {
        "colab": {
          "base_uri": "https://localhost:8080/"
        },
        "id": "VShDc2jy1_Xe",
        "outputId": "9ca5a1e0-ad34-4442-8db5-e39fbd0a89d9"
      },
      "execution_count": null,
      "outputs": [
        {
          "output_type": "stream",
          "name": "stdout",
          "text": [
            "Hello, world!\n",
            "Hello, world!\n",
            "Hello, world!\n"
          ]
        }
      ]
    },
    {
      "cell_type": "code",
      "source": [
        "str1 = \"Hello, \"\n",
        "str2 = \"world!\"\n",
        "\n",
        "print(str1 + str2)\n"
      ],
      "metadata": {
        "colab": {
          "base_uri": "https://localhost:8080/"
        },
        "id": "pHU_dt2J2MT2",
        "outputId": "1aeb76c1-2d23-4205-c708-0c9f3c9b33cf"
      },
      "execution_count": null,
      "outputs": [
        {
          "output_type": "stream",
          "name": "stdout",
          "text": [
            "Hello, world!\n"
          ]
        }
      ]
    },
    {
      "cell_type": "code",
      "source": [
        "str1 = \"south india\"\n",
        "\n",
        "print(str1[5:])\n"
      ],
      "metadata": {
        "colab": {
          "base_uri": "https://localhost:8080/"
        },
        "id": "LjMsueWv2T-j",
        "outputId": "58e02f09-5bf7-41ab-fba5-df4730351874"
      },
      "execution_count": null,
      "outputs": [
        {
          "output_type": "stream",
          "name": "stdout",
          "text": [
            " india\n"
          ]
        }
      ]
    },
    {
      "cell_type": "markdown",
      "source": [
        "**6. perform the following:**"
      ],
      "metadata": {
        "id": "nJjYMxVb4Vgv"
      }
    },
    {
      "cell_type": "code",
      "source": [
        "dict1 = {\"name\": \"Bard\", \"age\": 100, \"species\": \"large language model\"}\n"
      ],
      "metadata": {
        "id": "5ZQ3RhsU4UUS"
      },
      "execution_count": null,
      "outputs": []
    },
    {
      "cell_type": "code",
      "source": [
        "dict1 = {\"name\": \"Bard\", \"age\": 100, \"species\": \"large language model\"}\n",
        "\n",
        "print(dict1[\"name\"])\n",
        "print(dict1[\"age\"])\n",
        "print(dict1[\"species\"])\n"
      ],
      "metadata": {
        "colab": {
          "base_uri": "https://localhost:8080/"
        },
        "id": "pnXF39vR4lvZ",
        "outputId": "d68b3a37-be3b-4d31-d458-c909e16157b8"
      },
      "execution_count": null,
      "outputs": [
        {
          "output_type": "stream",
          "name": "stdout",
          "text": [
            "Bard\n",
            "100\n",
            "large language model\n"
          ]
        }
      ]
    },
    {
      "cell_type": "code",
      "source": [
        "def update_dict(dict1, name, age):\n",
        "    dict1[\"name\"] = name\n",
        "    dict1[\"age\"] = age\n",
        "\n",
        "update_dict(dict1, \"LaMDA\", 12)\n",
        "\n",
        "print(dict1)\n"
      ],
      "metadata": {
        "colab": {
          "base_uri": "https://localhost:8080/"
        },
        "id": "Z99qsb2V4pPA",
        "outputId": "a6be36e6-03a5-4782-ec7c-97396f678dd9"
      },
      "execution_count": null,
      "outputs": [
        {
          "output_type": "stream",
          "name": "stdout",
          "text": [
            "{'name': 'LaMDA', 'age': 12, 'species': 'large language model'}\n"
          ]
        }
      ]
    },
    {
      "cell_type": "code",
      "source": [
        "dict1 = {\"name\": \"Bard\", \"age\": 100, \"species\": \"large language model\"}\n",
        "\n",
        "dict1.clear()\n",
        "\n",
        "print(dict1)\n"
      ],
      "metadata": {
        "colab": {
          "base_uri": "https://localhost:8080/"
        },
        "id": "ECR91Fj662H-",
        "outputId": "b72073e5-27b7-476e-c32c-de5a7f84dc0e"
      },
      "execution_count": null,
      "outputs": [
        {
          "output_type": "stream",
          "name": "stdout",
          "text": [
            "{}\n"
          ]
        }
      ]
    },
    {
      "cell_type": "markdown",
      "source": [
        "## 7 Python program to insert a number to any position in a"
      ],
      "metadata": {
        "id": "QYKKzlqopbi-"
      }
    },
    {
      "cell_type": "code",
      "source": [
        "nums = [75,65,84,93,75,62,738]\n",
        "\n",
        "print(nums)\n",
        "\n",
        "nums.insert(3, 1000)\n",
        "print(nums)"
      ],
      "metadata": {
        "id": "yx_rSewz_EIz",
        "colab": {
          "base_uri": "https://localhost:8080/"
        },
        "outputId": "0f8b2502-1831-4a24-eca2-cc55a321223a"
      },
      "execution_count": 2,
      "outputs": [
        {
          "output_type": "stream",
          "name": "stdout",
          "text": [
            "[75, 65, 84, 93, 75, 62, 738]\n",
            "[75, 65, 84, 1000, 93, 75, 62, 738]\n"
          ]
        }
      ]
    },
    {
      "cell_type": "markdown",
      "source": [
        "## **8 Pyton program to delete an element from a list by index**\n"
      ],
      "metadata": {
        "id": "aRQw932rpxoq"
      }
    },
    {
      "cell_type": "code",
      "source": [
        "print(nums)\n",
        "\n",
        "del nums[5]\n",
        "print(nums)"
      ],
      "metadata": {
        "colab": {
          "base_uri": "https://localhost:8080/"
        },
        "id": "JbO5XEleqQWV",
        "outputId": "f905fe69-fb3b-49f4-c11b-67b493311b2d"
      },
      "execution_count": 3,
      "outputs": [
        {
          "output_type": "stream",
          "name": "stdout",
          "text": [
            "[75, 65, 84, 1000, 93, 75, 62, 738]\n",
            "[75, 65, 84, 1000, 93, 62, 738]\n"
          ]
        }
      ]
    },
    {
      "cell_type": "markdown",
      "source": [
        "## 9 Write a program to display the numbers from 1 to 100"
      ],
      "metadata": {
        "id": "GCrPBQb2upJz"
      }
    },
    {
      "cell_type": "code",
      "source": [
        "for num in range(1, 101):\n",
        "    print(num)"
      ],
      "metadata": {
        "colab": {
          "base_uri": "https://localhost:8080/"
        },
        "id": "jSR0qBi6ukvC",
        "outputId": "f0780056-5b11-4fed-eb1b-80fb73edd9bc"
      },
      "execution_count": 4,
      "outputs": [
        {
          "output_type": "stream",
          "name": "stdout",
          "text": [
            "1\n",
            "2\n",
            "3\n",
            "4\n",
            "5\n",
            "6\n",
            "7\n",
            "8\n",
            "9\n",
            "10\n",
            "11\n",
            "12\n",
            "13\n",
            "14\n",
            "15\n",
            "16\n",
            "17\n",
            "18\n",
            "19\n",
            "20\n",
            "21\n",
            "22\n",
            "23\n",
            "24\n",
            "25\n",
            "26\n",
            "27\n",
            "28\n",
            "29\n",
            "30\n",
            "31\n",
            "32\n",
            "33\n",
            "34\n",
            "35\n",
            "36\n",
            "37\n",
            "38\n",
            "39\n",
            "40\n",
            "41\n",
            "42\n",
            "43\n",
            "44\n",
            "45\n",
            "46\n",
            "47\n",
            "48\n",
            "49\n",
            "50\n",
            "51\n",
            "52\n",
            "53\n",
            "54\n",
            "55\n",
            "56\n",
            "57\n",
            "58\n",
            "59\n",
            "60\n",
            "61\n",
            "62\n",
            "63\n",
            "64\n",
            "65\n",
            "66\n",
            "67\n",
            "68\n",
            "69\n",
            "70\n",
            "71\n",
            "72\n",
            "73\n",
            "74\n",
            "75\n",
            "76\n",
            "77\n",
            "78\n",
            "79\n",
            "80\n",
            "81\n",
            "82\n",
            "83\n",
            "84\n",
            "85\n",
            "86\n",
            "87\n",
            "88\n",
            "89\n",
            "90\n",
            "91\n",
            "92\n",
            "93\n",
            "94\n",
            "95\n",
            "96\n",
            "97\n",
            "98\n",
            "99\n",
            "100\n"
          ]
        }
      ]
    },
    {
      "cell_type": "markdown",
      "source": [
        "# 10 write a python program to find the sum of all items in a tuple"
      ],
      "metadata": {
        "id": "Ka4YoYl4u4K1"
      }
    },
    {
      "cell_type": "code",
      "source": [
        "values = (1, 6,3,4,5,67,2,4,6,5)\n",
        "print(sum(values))"
      ],
      "metadata": {
        "colab": {
          "base_uri": "https://localhost:8080/"
        },
        "id": "tFW-VS25vJbe",
        "outputId": "adcdfbef-d1e4-410e-8a08-f37ef027af83"
      },
      "execution_count": 5,
      "outputs": [
        {
          "output_type": "stream",
          "name": "stdout",
          "text": [
            "103\n"
          ]
        }
      ]
    },
    {
      "cell_type": "markdown",
      "source": [
        "# 11 create a dictionary containing three lambda functions square, cube and square root"
      ],
      "metadata": {
        "id": "ZUTrybFzvpUg"
      }
    },
    {
      "cell_type": "code",
      "source": [
        "import math\n",
        "\n",
        "# Create a dictionary with lambda functions\n",
        "calculate = {\n",
        "    \"Square\": lambda x: x**2,\n",
        "    \"Cube\": lambda x: x**3,\n",
        "    \"Squareroot\": lambda x: math.sqrt(x)\n",
        "}\n",
        "\n",
        "# Test the functions\n",
        "number = int(input(\"Enter a number: \"))\n",
        "sq_res = calculate[\"Square\"](number)\n",
        "cb_res = calculate[\"Cube\"](number)\n",
        "sqrt_res = calculate[\"Squareroot\"](number)\n",
        "\n",
        "# Print the results\n",
        "print(f\"Square of {number} is {sq_res}\")\n",
        "print(f\"Cube of {number} is {cb_res}\")\n",
        "print(f\"Squareroot of {number} is {sqrt_res}\")"
      ],
      "metadata": {
        "colab": {
          "base_uri": "https://localhost:8080/"
        },
        "id": "WlU8VSfCwKb1",
        "outputId": "fd61f89d-b137-4083-ae99-461578a8205d"
      },
      "execution_count": 7,
      "outputs": [
        {
          "output_type": "stream",
          "name": "stdout",
          "text": [
            "Enter a number: 67\n",
            "Square of 67 is 4489\n",
            "Cube of 67 is 300763\n",
            "Squareroot of 67 is 8.18535277187245\n"
          ]
        }
      ]
    },
    {
      "cell_type": "markdown",
      "source": [
        "# **12 A list of words is given**"
      ],
      "metadata": {
        "id": "63G1ec-oxxnj"
      }
    },
    {
      "cell_type": "code",
      "source": [
        "ls = [\"hello\", \"Dear\", \"hOw\", \"ARe\", \"You\"]\n",
        "res = []\n",
        "for i in ls:\n",
        "    if i[1].isupper():\n",
        "        res.append(i)\n",
        "\n",
        "print(ls)\n",
        "print(res)"
      ],
      "metadata": {
        "colab": {
          "base_uri": "https://localhost:8080/"
        },
        "id": "Jg0G4yjqx5ax",
        "outputId": "3c5f948f-c135-4964-f231-2991afd5cae7"
      },
      "execution_count": 11,
      "outputs": [
        {
          "output_type": "stream",
          "name": "stdout",
          "text": [
            "['hello', 'Dear', 'hOw', 'ARe', 'You']\n",
            "['hOw', 'ARe']\n"
          ]
        }
      ]
    },
    {
      "cell_type": "markdown",
      "source": [
        "## 13. A dictionary of names and their weights on earth is given. Find how much they will weigh on the moon. (Use map and lambda functions) Formula wMoon (wEarth GMoon) / GEarth"
      ],
      "metadata": {
        "id": "nmI_bsNq92Sz"
      }
    },
    {
      "cell_type": "code",
      "source": [
        "# Define the dictionary with names and their weights on Earth\n",
        "WeightOnEarth = {'John': 45, 'Shelly': 65, 'Marry': 35}\n",
        "\n",
        "# Constants\n",
        "GMoon = 1.622\n",
        "GEarth = 9.81\n",
        "\n",
        "# Use map and lambda to calculate the weight on the Moon for each person\n",
        "WeightOnMoon = map(lambda weight: weight * GMoon / GEarth, WeightOnEarth.values())\n",
        "\n",
        "# Create a dictionary with names and their weights on the Moon\n",
        "WeightOnMoonDict = dict(zip(WeightOnEarth.keys(), WeightOnMoon))\n",
        "\n",
        "print(\"Weight of people on the Moon:\")\n",
        "print(WeightOnMoonDict)"
      ],
      "metadata": {
        "colab": {
          "base_uri": "https://localhost:8080/"
        },
        "id": "eMnRl-EU-PlD",
        "outputId": "f6ae2108-c6ca-4a11-882b-9517a65715b9"
      },
      "execution_count": 14,
      "outputs": [
        {
          "output_type": "stream",
          "name": "stdout",
          "text": [
            "Weight of people on the Moon:\n",
            "{'John': 7.440366972477065, 'Shelly': 10.747196738022426, 'Marry': 5.786952089704383}\n"
          ]
        }
      ]
    },
    {
      "cell_type": "markdown",
      "source": [
        "## **#control structures**\n",
        "# **Write a python program to find the first N Prime numbers**"
      ],
      "metadata": {
        "id": "X-4d4oFbFBJy"
      }
    },
    {
      "cell_type": "code",
      "source": [
        "def first_n_primes(n):\n",
        "  primes = [2]\n",
        "  for i in range(3, n + 1):\n",
        "    if all(i % j != 0 for j in primes):\n",
        "      primes.append(i)\n",
        "\n",
        "  return primes\n",
        "\n",
        "print(first_n_primes(10))\n"
      ],
      "metadata": {
        "colab": {
          "base_uri": "https://localhost:8080/"
        },
        "id": "oRbcUne4H7Zq",
        "outputId": "48edb081-1046-4a37-b27a-e99d473c69fb"
      },
      "execution_count": 16,
      "outputs": [
        {
          "output_type": "stream",
          "name": "stdout",
          "text": [
            "[2, 3, 5, 7]\n"
          ]
        }
      ]
    },
    {
      "cell_type": "markdown",
      "source": [
        "# Write the python code that calculates the salary of an employee. Prompt the user to enter the Basic Salary, HRA, TA, and DA. Add these components to calculate the Gross Salary. Also, deduct 10% of salary from the Gross Salary to be paid as tax and display gross minus tax as net salary\n"
      ],
      "metadata": {
        "id": "aonnsNECIYSR"
      }
    },
    {
      "cell_type": "code",
      "source": [
        "basic_salary = float(input(\"Enter Basic Salary: \"))\n",
        "hra = float(input(\"Enter HRA: \"))\n",
        "ta = float(input(\"Enter TA: \"))\n",
        "da = float(input(\"Enter DA: \"))\n",
        "\n",
        "# Calculate Gross Salary by adding Basic, HRA, TA, and DA\n",
        "gross_salary = basic_salary + hra + ta + da\n",
        "\n",
        "# Calculate Tax (10% of Gross Salary)\n",
        "tax = 0.10 * gross_salary\n",
        "\n",
        "# Calculate Net Salary (Gross Salary - Tax)\n",
        "net_salary = gross_salary - tax\n",
        "\n",
        "# Display Gross and Net Salary\n",
        "print(f\"Gross Salary: {gross_salary}\")\n",
        "print(f\"Net Salary: {net_salary}\")"
      ],
      "metadata": {
        "colab": {
          "base_uri": "https://localhost:8080/"
        },
        "id": "YkDhmip5HycQ",
        "outputId": "7816957f-fcde-4480-b98a-65ef89dd1fba"
      },
      "execution_count": 17,
      "outputs": [
        {
          "output_type": "stream",
          "name": "stdout",
          "text": [
            "Enter Basic Salary: 20000\n",
            "Enter HRA: 10000\n",
            "Enter TA: 5000\n",
            "Enter DA: 20000\n",
            "Gross Salary: 55000.0\n",
            "Net Salary: 49500.0\n"
          ]
        }
      ]
    },
    {
      "cell_type": "markdown",
      "source": [
        "# Write a python program to search for a string in the given list."
      ],
      "metadata": {
        "id": "pQY52gzSJUQJ"
      }
    },
    {
      "cell_type": "code",
      "source": [
        "def search_string(list, string):\n",
        "  return list.index(string)\n",
        "\n",
        "list = [\"apple\", \"banana\", \"cherry\", \"durian\"]\n",
        "\n",
        "string = \"banana\"\n",
        "\n",
        "index = search_string(list, string)\n",
        "\n",
        "if index != -1:\n",
        "  print(\"The string \" + string + \" is found at index \" + str(index))\n",
        "else:\n",
        "  print(\"The string \" + string + \" is not found in the list\")\n"
      ],
      "metadata": {
        "colab": {
          "base_uri": "https://localhost:8080/"
        },
        "id": "GD9KRV1PJbE4",
        "outputId": "ee601a6f-6382-4c41-db76-5d0a5cd30126"
      },
      "execution_count": 20,
      "outputs": [
        {
          "output_type": "stream",
          "name": "stdout",
          "text": [
            "The string banana is found at index 1\n"
          ]
        }
      ]
    },
    {
      "cell_type": "markdown",
      "source": [
        "# **Write a Python function that accepts a string and calculates the number of upper-case letters and lower-case letters.**"
      ],
      "metadata": {
        "id": "9uxINknhK2xV"
      }
    },
    {
      "cell_type": "code",
      "source": [
        "def count_case_letters(input_string):\n",
        "    upper_count = 0\n",
        "    lower_count = 0\n",
        "\n",
        "    for char in input_string:\n",
        "        if char.isupper():\n",
        "            upper_count += 1\n",
        "        elif char.islower():\n",
        "            lower_count += 1\n",
        "\n",
        "    return upper_count, lower_count\n",
        "input_str = \"Hello World\"\n",
        "upper, lower = count_case_letters(input_str)\n",
        "print(\"Uppercase letters:\", upper)\n",
        "print(\"Lowercase letters:\", lower)"
      ],
      "metadata": {
        "colab": {
          "base_uri": "https://localhost:8080/"
        },
        "id": "96SsPHO4LDtW",
        "outputId": "586d228d-bc7d-4508-9edd-d5d6eca3ba1f"
      },
      "execution_count": 21,
      "outputs": [
        {
          "output_type": "stream",
          "name": "stdout",
          "text": [
            "Uppercase letters: 2\n",
            "Lowercase letters: 8\n"
          ]
        }
      ]
    },
    {
      "cell_type": "markdown",
      "source": [
        "# Write a program to display the sum of odd numbers and even numbers that fall between 12 and 37."
      ],
      "metadata": {
        "id": "RQdQTFVpLHQU"
      }
    },
    {
      "cell_type": "code",
      "source": [
        "sum_odd = 0\n",
        "sum_even = 0\n",
        "\n",
        "for num in range(12, 38):\n",
        "    if num % 2 == 0:\n",
        "        sum_even += num\n",
        "    else:\n",
        "        sum_odd += num\n",
        "\n",
        "print(\"Sum of even numbers:\", sum_even)\n",
        "print(\"Sum of odd numbers:\", sum_odd)"
      ],
      "metadata": {
        "colab": {
          "base_uri": "https://localhost:8080/"
        },
        "id": "j3b8jR7dLGtX",
        "outputId": "f5c63886-7c6e-46a8-c99c-543504187799"
      },
      "execution_count": 22,
      "outputs": [
        {
          "output_type": "stream",
          "name": "stdout",
          "text": [
            "Sum of even numbers: 312\n",
            "Sum of odd numbers: 325\n"
          ]
        }
      ]
    },
    {
      "cell_type": "markdown",
      "source": [
        "# Write a python Program to print the table of any number."
      ],
      "metadata": {
        "id": "gJS46ZLULUmG"
      }
    },
    {
      "cell_type": "code",
      "source": [
        "num = int(input(\"Enter a number: \"))\n",
        "\n",
        "print(f\"Multiplication Table of {num}:\")\n",
        "for i in range(1, 11):\n",
        "    print(f\"{num} x {i} = {num * i}\")"
      ],
      "metadata": {
        "colab": {
          "base_uri": "https://localhost:8080/"
        },
        "id": "YKecgnjhLbLn",
        "outputId": "55768c96-371a-4496-a433-7829231ca489"
      },
      "execution_count": 23,
      "outputs": [
        {
          "output_type": "stream",
          "name": "stdout",
          "text": [
            "Enter a number: 45\n",
            "Multiplication Table of 45:\n",
            "45 x 1 = 45\n",
            "45 x 2 = 90\n",
            "45 x 3 = 135\n",
            "45 x 4 = 180\n",
            "45 x 5 = 225\n",
            "45 x 6 = 270\n",
            "45 x 7 = 315\n",
            "45 x 8 = 360\n",
            "45 x 9 = 405\n",
            "45 x 10 = 450\n"
          ]
        }
      ]
    },
    {
      "cell_type": "markdown",
      "source": [
        "# Write a Python program to sum the first 10 prime numbers."
      ],
      "metadata": {
        "id": "_gRpWP_yLiyQ"
      }
    },
    {
      "cell_type": "code",
      "source": [
        "def is_prime(num):\n",
        "    if num <= 1:\n",
        "        return False\n",
        "    if num <= 3:\n",
        "        return True\n",
        "    if num % 2 == 0 or num % 3 == 0:\n",
        "        return False\n",
        "    i = 5\n",
        "    while i * i <= num:\n",
        "        if num % i == 0 or num % (i + 2) == 0:\n",
        "            return False\n",
        "        i += 6\n",
        "    return True\n",
        "\n",
        "count = 0\n",
        "number = 2\n",
        "prime_sum = 0\n",
        "\n",
        "while count < 10:\n",
        "    if is_prime(number):\n",
        "        prime_sum += number\n",
        "        count += 1\n",
        "    number += 1\n",
        "\n",
        "print(\"The sum of the first 10 prime numbers is:\", prime_sum)"
      ],
      "metadata": {
        "colab": {
          "base_uri": "https://localhost:8080/"
        },
        "id": "35nhnoGMLpvf",
        "outputId": "a0ccbff1-9df4-41c6-8fa6-1087a36de5dc"
      },
      "execution_count": 24,
      "outputs": [
        {
          "output_type": "stream",
          "name": "stdout",
          "text": [
            "The sum of the first 10 prime numbers is: 129\n"
          ]
        }
      ]
    },
    {
      "cell_type": "markdown",
      "source": [
        "# Write a python program to implement arithmetic operations using nested if statement."
      ],
      "metadata": {
        "id": "j2Tp0BYoLuEr"
      }
    },
    {
      "cell_type": "code",
      "source": [
        "num1 = float(input(\"Enter the first number: \"))\n",
        "num2 = float(input(\"Enter the second number: \"))\n",
        "\n",
        "operation = input(\"Enter an arithmetic operation (+, -, *, /): \")\n",
        "\n",
        "if operation == \"+\":\n",
        "    result = num1 + num2\n",
        "elif operation == \"-\":\n",
        "    result = num1 - num2\n",
        "elif operation == \"*\":\n",
        "    result = num1 * num2\n",
        "elif operation == \"/\":\n",
        "    if num2 != 0:\n",
        "        result = num1 / num2\n",
        "    else:\n",
        "        result = \"Division by zero is not allowed.\"\n",
        "else:\n",
        "    result = \"Invalid operation\"\n",
        "\n",
        "print(f\"Result: {result}\")"
      ],
      "metadata": {
        "colab": {
          "base_uri": "https://localhost:8080/"
        },
        "id": "a7Pl4-o4L0W0",
        "outputId": "e0398adb-5c81-4680-b478-a4ee4c605685"
      },
      "execution_count": 27,
      "outputs": [
        {
          "output_type": "stream",
          "name": "stdout",
          "text": [
            "Enter the first number: 2\n",
            "Enter the second number: 3\n",
            "Enter an arithmetic operation (+, -, *, /): +\n",
            "Result: 5.0\n"
          ]
        }
      ]
    },
    {
      "cell_type": "markdown",
      "source": [
        "# Write a python program to take the temperature in Celsius and convert it to a Fahrenheit."
      ],
      "metadata": {
        "id": "n6r9sGydMHZX"
      }
    },
    {
      "cell_type": "code",
      "source": [
        "celsius = float(input(\"Enter temperature in Celsius: \"))\n",
        "\n",
        "fahrenheit = (celsius * 9/5) + 32\n",
        "\n",
        "print(f\"{celsius} degrees Celsius is equal to {fahrenheit} degrees Fahrenheit\")"
      ],
      "metadata": {
        "colab": {
          "base_uri": "https://localhost:8080/"
        },
        "id": "x4W6d0ljMLyC",
        "outputId": "36d3d647-babf-4368-8009-a21151d26223"
      },
      "execution_count": 28,
      "outputs": [
        {
          "output_type": "stream",
          "name": "stdout",
          "text": [
            "Enter temperature in Celsius: 34\n",
            "34.0 degrees Celsius is equal to 93.2 degrees Fahrenheit\n"
          ]
        }
      ]
    },
    {
      "cell_type": "markdown",
      "source": [
        "# Write a python program to find a maximum and minimum number in a list without using an inbuilt function."
      ],
      "metadata": {
        "id": "Qh74zjlFMVsq"
      }
    },
    {
      "cell_type": "code",
      "source": [
        "def max_min(list1):\n",
        "  max_num = list1[0]\n",
        "  min_num = list1[0]\n",
        "  for num in list1:\n",
        "    if num > max_num:\n",
        "      max_num = num\n",
        "    elif num < min_num:\n",
        "      min_num = num\n",
        "  return max_num, min_num\n",
        "\n",
        "list1 = [10, 4, 2, 9, 7]\n",
        "max_num, min_num = max_min(list1)\n",
        "print(\"The maximum number is\", max_num)\n",
        "print(\"The minimum number is\", min_num)\n"
      ],
      "metadata": {
        "colab": {
          "base_uri": "https://localhost:8080/"
        },
        "id": "8HaL20anMVVU",
        "outputId": "9b0f8d86-5fe6-45ae-dd15-80ac7bfd5b1f"
      },
      "execution_count": 30,
      "outputs": [
        {
          "output_type": "stream",
          "name": "stdout",
          "text": [
            "The maximum number is 10\n",
            "The minimum number is 2\n"
          ]
        }
      ]
    },
    {
      "cell_type": "code",
      "source": [],
      "metadata": {
        "id": "J6jpGR1jMSQ0"
      },
      "execution_count": null,
      "outputs": []
    },
    {
      "cell_type": "markdown",
      "source": [],
      "metadata": {
        "id": "l-V0lUFWFRSM"
      }
    }
  ]
}